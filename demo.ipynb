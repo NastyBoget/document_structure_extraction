{
 "cells": [
  {
   "cell_type": "code",
   "execution_count": 1,
   "metadata": {},
   "outputs": [],
   "source": [
    "from pdf2text import pdf2text"
   ]
  },
  {
   "cell_type": "code",
   "execution_count": 2,
   "metadata": {},
   "outputs": [
    {
     "name": "stdout",
     "output_type": "stream",
     "text": [
      "Введите имя файла:\n",
      "example.pdf\n"
     ]
    }
   ],
   "source": [
    "print(\"Введите имя файла:\")\n",
    "path = input()\n",
    "X = pdf2text(path)"
   ]
  },
  {
   "cell_type": "code",
   "execution_count": 3,
   "metadata": {},
   "outputs": [
    {
     "name": "stderr",
     "output_type": "stream",
     "text": [
      "/home/nastyboget/media/anaconda3/lib/python3.7/site-packages/sklearn/base.py:306: UserWarning: Trying to unpickle estimator CountVectorizer from version 0.21.2 when using version 0.21.3. This might lead to breaking code or invalid results. Use at your own risk.\n",
      "  UserWarning)\n",
      "/home/nastyboget/media/anaconda3/lib/python3.7/site-packages/sklearn/base.py:306: UserWarning: Trying to unpickle estimator LogisticRegression from version 0.21.2 when using version 0.21.3. This might lead to breaking code or invalid results. Use at your own risk.\n",
      "  UserWarning)\n",
      "/home/nastyboget/media/anaconda3/lib/python3.7/site-packages/sklearn/base.py:306: UserWarning: Trying to unpickle estimator Pipeline from version 0.21.2 when using version 0.21.3. This might lead to breaking code or invalid results. Use at your own risk.\n",
      "  UserWarning)\n"
     ]
    }
   ],
   "source": [
    "from string2features import string2features\n",
    "import pickle as pkl\n",
    "clf = pkl.load(open(\"model.pkl\", \"rb\"))\n",
    "y = clf.predict(X)"
   ]
  },
  {
   "cell_type": "code",
   "execution_count": 4,
   "metadata": {},
   "outputs": [
    {
     "name": "stdout",
     "output_type": "stream",
     "text": [
      "{'type': 3, 'content': 'Заголовок'}\n",
      "{'type': 3, 'content': ''}\n",
      "{'type': 3, 'content': '1 Первый подзаголовок'}\n",
      "{'type': 3, 'content': 'Какой-то текст'}\n",
      "{'type': 2, 'content': '1.1 Второй подзаголовок'}\n",
      "{'type': 3, 'content': 'Какой-то текст'}\n",
      "{'type': 3, 'content': '* — первый элемент маркированного списка, если этот элемент занимает'}\n",
      "{'type': 3, 'content': 'несколько строк, остальные строки помечаются как обычный текст'}\n",
      "{'type': 3, 'content': '® — второй элемент маркированного списка'}\n",
      "{'type': 3, 'content': 'Какой-то текст'}\n",
      "{'type': 2, 'content': '1.2 Еще второй подзаголовок'}\n",
      "{'type': 3, 'content': 'Какой-то текст'}\n",
      "{'type': 3, 'content': ''}\n",
      "{'type': 2, 'content': '2 Еще один первый подзаголовок'}\n",
      "{'type': 3, 'content': 'Какой-то текст'}\n",
      "{'type': 3, 'content': '® элемент маркированного списка'}\n",
      "{'type': 3, 'content': '® второй элемент маркированного списка'}\n",
      "{'type': 3, 'content': '® третий элемент'}\n",
      "{'type': 3, 'content': ''}\n",
      "{'type': 3, 'content': 'З Еще один первый подзаголовок'}\n",
      "{'type': 3, 'content': ''}\n",
      "{'type': 2, 'content': '3.1 Подзаголовок второго уровня'}\n",
      "{'type': 3, 'content': ''}\n",
      "{'type': 3, 'content': 'Текст'}\n",
      "{'type': 3, 'content': ''}\n",
      "{'type': 2, 'content': '3.2 Еще один подзаголовок второго уровня'}\n",
      "{'type': 3, 'content': 'Текст'}\n",
      "{'type': 3, 'content': ''}\n",
      "{'type': 2, 'content': '3.2.1 Подзаголовок третьего уровня'}\n",
      "{'type': 3, 'content': ''}\n",
      "{'type': 3, 'content': 'Текст'}\n",
      "{'type': 3, 'content': ''}\n",
      "{'type': 2, 'content': '3.2.2 Еще подзаголовок третьего уровня'}\n",
      "{'type': 3, 'content': ''}\n",
      "{'type': 3, 'content': 'Текст'}\n",
      "{'type': 3, 'content': ''}\n",
      "{'type': 3, 'content': '4 Подзаголовок первого уровня — если занимает несколько строк, то'}\n",
      "{'type': 3, 'content': 'вторая строка считается обычным текстом'}\n",
      "{'type': 3, 'content': 'Какой-то текст'}\n",
      "{'type': 3, 'content': ''}\n",
      "{'type': 3, 'content': '1) первый элемент нумерованного списка'}\n",
      "{'type': 3, 'content': ''}\n",
      "{'type': 2, 'content': '2) второй'}\n",
      "{'type': 3, 'content': ''}\n",
      "{'type': 3, 'content': '3) третий'}\n"
     ]
    }
   ],
   "source": [
    "res = []\n",
    "for line, type_ in zip(X, y):\n",
    "    res.append({\"type\": int(type_), \"content\": line})\n",
    "print(*res, sep='\\n')"
   ]
  },
  {
   "cell_type": "code",
   "execution_count": 5,
   "metadata": {},
   "outputs": [],
   "source": [
    "import json\n",
    "with open(\"result.json\", \"w\") as write_file:\n",
    "    json.dump(res, write_file, ensure_ascii=False)"
   ]
  },
  {
   "cell_type": "code",
   "execution_count": null,
   "metadata": {},
   "outputs": [],
   "source": []
  }
 ],
 "metadata": {
  "kernelspec": {
   "display_name": "Python 3",
   "language": "python",
   "name": "python3"
  },
  "language_info": {
   "codemirror_mode": {
    "name": "ipython",
    "version": 3
   },
   "file_extension": ".py",
   "mimetype": "text/x-python",
   "name": "python",
   "nbconvert_exporter": "python",
   "pygments_lexer": "ipython3",
   "version": "3.7.4"
  }
 },
 "nbformat": 4,
 "nbformat_minor": 2
}
