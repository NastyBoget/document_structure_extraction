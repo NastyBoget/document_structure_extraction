{
 "cells": [
  {
   "cell_type": "markdown",
   "metadata": {},
   "source": [
    "# Разметка\n",
    "\n",
    "1 - заголовок\n",
    "\n",
    "2 - список\n",
    "\n",
    "3 - текст\n",
    "\n",
    "4 - другое\n",
    "\n",
    "размеченные картинки - {название картинки, текст строки, её баундин бокс и лейбл}"
   ]
  },
  {
   "cell_type": "code",
   "execution_count": 1,
   "metadata": {},
   "outputs": [],
   "source": [
    "import os\n",
    "from picture2boxes import picture2boxes\n",
    "import matplotlib.pyplot as plt\n",
    "import cv2\n",
    "from IPython.display import clear_output\n",
    "from tqdm import tqdm\n",
    "import json"
   ]
  },
  {
   "cell_type": "code",
   "execution_count": 2,
   "metadata": {},
   "outputs": [
    {
     "data": {
      "text/plain": [
       "['2265.jpeg',\n",
       " '0868.jpeg',\n",
       " '0147.jpeg',\n",
       " '0013.jpeg',\n",
       " '0140.jpeg',\n",
       " '0031.jpeg',\n",
       " '0135.jpeg',\n",
       " '0119.jpeg',\n",
       " '0085.jpeg',\n",
       " '0791.jpeg']"
      ]
     },
     "execution_count": 2,
     "metadata": {},
     "output_type": "execute_result"
    }
   ],
   "source": [
    "docs = list(os.walk('docs'))\n",
    "path, docs = docs[0][0], docs[0][2]\n",
    "docs"
   ]
  },
  {
   "cell_type": "markdown",
   "metadata": {},
   "source": [
    "Generate file without labels\n",
    "\n",
    "dict {\"doc1_name\": [{\"text\": \"\", \"bbox\": []}, {\"text\": \"\", \"bbox\": []}, ...], \"doc2_name\": [{\"text\": \"\", \"bbox\": []}, {\"text\": \"\", \"bbox\": []}, ...] ...}"
   ]
  },
  {
   "cell_type": "code",
   "execution_count": 6,
   "metadata": {},
   "outputs": [],
   "source": [
    "docs_without_labels = {}\n",
    "\n",
    "for doc in docs:\n",
    "    doc_name = path + '/' + doc\n",
    "    doc_info = picture2boxes(doc_name)\n",
    "    docs_without_labels[doc_name] = doc_info\n",
    "\n",
    "with open(\"file_without_labels.json\", \"w\") as write_file:\n",
    "    json.dump(docs_without_labels, write_file, ensure_ascii=False)"
   ]
  },
  {
   "cell_type": "code",
   "execution_count": 7,
   "metadata": {},
   "outputs": [
    {
     "name": "stderr",
     "output_type": "stream",
     "text": [
      "\n",
      "100%|██████████| 30/30 [00:56<00:00,  1.88s/it]\u001b[A\n",
      "100%|██████████| 1/1 [00:56<00:00, 56.58s/it]\n"
     ]
    }
   ],
   "source": [
    "correct_labels = set([1, 2, 3, 4])\n",
    "\n",
    "with open(\"file_without_labels.json\", \"r\") as read_file:\n",
    "    docs = json.load(read_file)\n",
    "    for doc_name, doc_info in tqdm(docs.items()):\n",
    "        img = cv2.imread(doc_name)\n",
    "\n",
    "        for line_info in tqdm(doc_info):\n",
    "            x, y, w, h = line_info['bbox']\n",
    "            img_copy = img.copy()\n",
    "            cv2.rectangle(img_copy, (x, y), (x + w, y + h), (0, 255, 0), 3)\n",
    "            plt.figure(figsize=(15, 15))\n",
    "            plt.imshow(img_copy)\n",
    "            plt.show()\n",
    "\n",
    "            correct = False\n",
    "            while not correct:\n",
    "                try:\n",
    "                    label = int(input())\n",
    "                except ValueError:\n",
    "                    print('incorrect label')\n",
    "                else:\n",
    "                    if label in correct_labels:\n",
    "                        correct = True\n",
    "                    else:\n",
    "                        print('incorrect label')\n",
    "            line_info['label'] = label\n",
    "            \n",
    "            with open(\"file_with_labels.json\", \"w\") as write_file:\n",
    "                json.dump(docs, write_file, ensure_ascii=False)\n",
    "            clear_output()"
   ]
  },
  {
   "cell_type": "code",
   "execution_count": 9,
   "metadata": {},
   "outputs": [
    {
     "data": {
      "text/plain": [
       "{'docs/2265.jpeg': [{'text': 'РДЭО 1.1.2.03.0910-2012',\n",
       "   'bbox': [1172, 108, 364, 29],\n",
       "   'label': 3},\n",
       "  {'text': 'Приложение В', 'bbox': [758, 189, 259, 35], 'label': 1},\n",
       "  {'text': '(справочное)', 'bbox': [779, 259, 227, 36], 'label': 1},\n",
       "  {'text': 'Положение', 'bbox': [788, 387, 198, 27], 'label': 1},\n",
       "  {'text': 'о пожарно-технических комиссиях на объектах градостроительной',\n",
       "   'bbox': [295, 452, 1184, 43],\n",
       "   'label': 1},\n",
       "  {'text': ' ', 'bbox': [1338, 534, 67, 3], 'label': 4},\n",
       "  {'text': '  деятельности АО «Кониерн Росэнергоатом» (Новая ред. *®\"-\")',\n",
       "   'bbox': [357, 516, 1059, 43],\n",
       "   'label': 1},\n",
       "  {'text': 'В.1 Общие положения', 'bbox': [341, 640, 390, 32], 'label': 1},\n",
       "  {'text': 'В.1.1 В целях привлечения инженерно-технических работников,',\n",
       "   'bbox': [340, 736, 1195, 37],\n",
       "   'label': 2},\n",
       "  {'text': 'рабочих и служащих объектов строящихся АЭС (далее строек) к участию в',\n",
       "   'bbox': [240, 804, 1295, 37],\n",
       "   'label': 3},\n",
       "  {'text': 'проведении работ по противопожарной защите создаются пожарно-',\n",
       "   'bbox': [240, 872, 1296, 37],\n",
       "   'label': 3},\n",
       "  {'text': 'технические комиссии.', 'bbox': [240, 949, 382, 20], 'label': 3},\n",
       "  {'text': 'В.1.2 Пожарно-технические комиссии создаются из работников строек.',\n",
       "   'bbox': [340, 1009, 1187, 36],\n",
       "   'label': 2},\n",
       "  {'text': 'Комиссия назначается приказом руководителя стройки в составе:',\n",
       "   'bbox': [340, 1078, 1192, 35],\n",
       "   'label': 2},\n",
       "  {'text': 'главного инженера (председатель), начальника пожарной охраны (при ее',\n",
       "   'bbox': [241, 1145, 1295, 36],\n",
       "   'label': 2},\n",
       "  {'text': 'наличии), начальника добровольного пожарного формирования (ДПФ),',\n",
       "   'bbox': [241, 1213, 1294, 36],\n",
       "   'label': 3},\n",
       "  {'text': 'начальников отдела пожарной безопасности (инспектора, инженера по',\n",
       "   'bbox': [241, 1281, 1294, 36],\n",
       "   'label': 3},\n",
       "  {'text': 'пожарной безопасности) и охраны труда, руководителей структурных',\n",
       "   'bbox': [241, 1349, 1293, 36],\n",
       "   'label': 3},\n",
       "  {'text': 'подразделений стройки, главного энергетика, главного механика, а также',\n",
       "   'bbox': [241, 1419, 1295, 34],\n",
       "   'label': 3},\n",
       "  {'text': 'других лиц по усмотрению руководителя стройки.',\n",
       "   'bbox': [240, 1487, 837, 35],\n",
       "   'label': 3},\n",
       "  {'text': 'Приказом руководителя стройки в состав комиссий могут',\n",
       "   'bbox': [340, 1555, 1195, 35],\n",
       "   'label': 3},\n",
       "  {'text': 'дополнительно вводиться новые члены или вноситься изменения при',\n",
       "   'bbox': [240, 1630, 1295, 28],\n",
       "   'label': 3},\n",
       "  {'text': 'выбытии отдельных членов комиссии.',\n",
       "   'bbox': [240, 1690, 636, 32],\n",
       "   'label': 3},\n",
       "  {'text': 'При смене руководителя стройки, а также смене главного инженера',\n",
       "   'bbox': [340, 1759, 1198, 35],\n",
       "   'label': 3},\n",
       "  {'text': '(председателя пожарно-технической комиссии) утверждается новый состав',\n",
       "   'bbox': [241, 1826, 1295, 37],\n",
       "   'label': 3},\n",
       "  {'text': 'пожарно-технической комиссии.',\n",
       "   'bbox': [240, 1896, 541, 35],\n",
       "   'label': 3},\n",
       "  {'text': 'В.1.3 В своей практической работе пожарно-технические комиссии',\n",
       "   'bbox': [340, 1962, 1196, 37],\n",
       "   'label': 2},\n",
       "  {'text': 'руководствуются действующими нормативно-правовыми актами Российской',\n",
       "   'bbox': [240, 2032, 1296, 35],\n",
       "   'label': 3},\n",
       "  {'text': 'Федерации в области пожарной безопасности, «Соглашением 0',\n",
       "   'bbox': [241, 2098, 1294, 37],\n",
       "   'label': 3},\n",
       "  {'text': '156', 'bbox': [1491, 2176, 45, 23], 'label': 3}]}"
      ]
     },
     "execution_count": 9,
     "metadata": {},
     "output_type": "execute_result"
    }
   ],
   "source": [
    "with open(\"file_with_labels.json\", \"r\") as read_file:\n",
    "    check = json.load(read_file)\n",
    "check"
   ]
  },
  {
   "cell_type": "code",
   "execution_count": null,
   "metadata": {},
   "outputs": [],
   "source": []
  }
 ],
 "metadata": {
  "kernelspec": {
   "display_name": "Python 3",
   "language": "python",
   "name": "python3"
  },
  "language_info": {
   "codemirror_mode": {
    "name": "ipython",
    "version": 3
   },
   "file_extension": ".py",
   "mimetype": "text/x-python",
   "name": "python",
   "nbconvert_exporter": "python",
   "pygments_lexer": "ipython3",
   "version": "3.7.6"
  }
 },
 "nbformat": 4,
 "nbformat_minor": 2
}
