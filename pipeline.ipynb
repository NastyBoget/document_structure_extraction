{
 "cells": [
  {
   "cell_type": "markdown",
   "metadata": {},
   "source": [
    "1) parameters tune\n",
    "\n",
    "2) learning curve\n",
    "\n",
    "3) является ли предыдущая строка продолжением следующей - сделать лучше + тесты\n",
    "\n",
    "4) разбить на модули"
   ]
  },
  {
   "cell_type": "code",
   "execution_count": 1,
   "metadata": {},
   "outputs": [],
   "source": [
    "import re\n",
    "import cv2\n",
    "import json\n",
    "import numpy as np\n",
    "from functools import reduce\n",
    "from sklearn.pipeline import make_pipeline\n",
    "from sklearn.model_selection import KFold\n",
    "from sklearn.metrics import f1_score\n",
    "from xgboost import XGBClassifier\n",
    "from tqdm.notebook import tqdm\n",
    "import matplotlib.pyplot as plt\n",
    "from collections import defaultdict\n",
    "import xgbfir\n",
    "from itertools import product\n",
    "from sklearn.utils import shuffle"
   ]
  },
  {
   "cell_type": "code",
   "execution_count": 2,
   "metadata": {},
   "outputs": [],
   "source": [
    "reg_expr = [re.compile(r'\\d+(\\.\\d+)+\\D'), # 1.1.1 1\n",
    "            re.compile(r'\\d+[\\)\\}]'), # 1) 2\n",
    "            re.compile(r'\\w+(\\.\\w+)+\\W'), # 3\n",
    "            re.compile(r'[а-яА-Я\\d]+(\\.[а-яА-Я\\d]+)+\\W'), # b.b.b 4\n",
    "            re.compile(r'[\\wа-яА-Я]\\.\\W'), # b. 5\n",
    "            re.compile(r'[6а-яА-Яa-zA-Z][\\)\\}]'), # б) 6\n",
    "            re.compile(r'\\-|—'), # - 7\n",
    "            re.compile(r'®|\\*'), # * 8\n",
    "            re.compile(r'[a-zа-я]'), # строчная буква в начале 9\n",
    "            re.compile(r'[A-ZА-Я]'),  # заглавная буква в начале 10\n",
    "            re.compile(r'Раздел|Подраздел|Глава|Параграф|Секция|Часть|Статья'), # 11 \n",
    "            re.compile(r'[\\wа-я] ')] # 12\n",
    "\n",
    "def add_reg_features(line):\n",
    "    features = [0] * len(reg_expr)\n",
    "    i = 0\n",
    "    for expr in reg_expr:\n",
    "        match = expr.search(line)\n",
    "    \n",
    "        if match:\n",
    "            if match.start() == 0:\n",
    "                features[i] = 1\n",
    "        i += 1\n",
    "        \n",
    "    return features"
   ]
  },
  {
   "cell_type": "code",
   "execution_count": 3,
   "metadata": {},
   "outputs": [],
   "source": [
    "end_reg_expr = [re.compile(r'.*\\.'),\n",
    "                re.compile(r'.*;'),\n",
    "                re.compile(r'.*:'),\n",
    "                re.compile(r'.*,'),\n",
    "                re.compile(r'.*[\\wа-яА-Я]'),\n",
    "                re.compile(r'[А-ЯA-Z\\.,\\s]+')] # uppercase\n",
    "\n",
    "def add_end_reg_features(line):\n",
    "    features = [0] * len(end_reg_expr)\n",
    "    i = 0\n",
    "    for expr in end_reg_expr:\n",
    "        match = expr.fullmatch(line)\n",
    "        if match:\n",
    "            features[i] = 1\n",
    "        i += 1\n",
    "    return features"
   ]
  },
  {
   "cell_type": "code",
   "execution_count": 4,
   "metadata": {},
   "outputs": [],
   "source": [
    "# 1.1.1 -> 1.1.2\n",
    "# 1) -> 2)\n",
    "# 1. -> 2.\n",
    "# -\n",
    "\n",
    "# unit tests!!!\n",
    "# analyzing previous lines\n",
    "\n",
    "RE_LIST1 = re.compile(r'\\d+(\\.\\d+)+\\D') # 1.1.1\n",
    "RE_LIST2 = re.compile(r'\\d+[\\)\\.]\\s') # 1) 1.\n",
    "RE_LIST3 = re.compile(r'\\-|—') # -\n",
    "RE_LIST4 = re.compile(r'[a-zA-Zа-яА-Я][\\)\\.]\\s') # a)\n",
    "\n",
    "def list_continue(doc_info, line, line_num):\n",
    "    match = RE_LIST1.match(line)\n",
    "    if match:\n",
    "        last_num = int(match.group()[-2])\n",
    "        for i in range(line_num - 1, -1, -1):\n",
    "            doc_line = doc_info[i]['text']\n",
    "            match = RE_LIST1.match(doc_line)\n",
    "            if match:\n",
    "                return last_num == int(match.group()[-2]) + 1\n",
    "        return False\n",
    "    match = RE_LIST2.match(line)\n",
    "    if match:\n",
    "        last_num = int(match.group()[:-2])\n",
    "        for i in range(line_num - 1, -1, -1):\n",
    "            doc_line = doc_info[i]['text']\n",
    "            match = RE_LIST2.match(doc_line)\n",
    "            if match:\n",
    "                return last_num == int(match.group()[:-2]) + 1\n",
    "        return False\n",
    "    match = RE_LIST3.match(line)\n",
    "    if match:\n",
    "        for i in range(line_num - 1, -1, -1):\n",
    "            doc_line = doc_info[i]['text']\n",
    "            match = RE_LIST3.match(doc_line)\n",
    "            if match:\n",
    "                return True\n",
    "        return False\n",
    "    match = RE_LIST4.match(line)\n",
    "    if match:\n",
    "        last_num = ord(match.group()[-2])\n",
    "        for i in range(line_num - 1, -1, -1):\n",
    "            doc_line = doc_info[i]['text']\n",
    "            match = RE_LIST1.match(doc_line)\n",
    "            if match:\n",
    "                return last_num == ord(match.group()[-2]) + 1\n",
    "        return False\n",
    "    return False"
   ]
  },
  {
   "cell_type": "code",
   "execution_count": 5,
   "metadata": {},
   "outputs": [],
   "source": [
    "# font-weight detection\n",
    "\n",
    "def bold_mean_color(bbox, img, d_ksize, e_ksize):\n",
    "    x, y, w, h = bbox\n",
    "    crop_img = img[y:y + h, x:x + w]\n",
    "    kernel = np.ones((d_ksize, d_ksize),np.uint8)\n",
    "    dilation = cv2.dilate(crop_img, kernel, iterations = 1)\n",
    "    kernel = np.ones((e_ksize, e_ksize),np.uint8)\n",
    "    erosion = cv2.erode(dilation, kernel, iterations = 1)\n",
    "    avg_color_per_row = np.average(erosion, axis=0)\n",
    "    avg_color = np.average(avg_color_per_row, axis=0)\n",
    "    return np.average(avg_color)"
   ]
  },
  {
   "cell_type": "code",
   "execution_count": 6,
   "metadata": {},
   "outputs": [],
   "source": [
    "# amount letters of the first word in line\n",
    "\n",
    "RE_WORD = re.compile(r'[a-zA-Zа-яА-Я]+')\n",
    "RE_FIRST = re.compile(r'\\S+\\s')\n",
    "\n",
    "def letters_cnt(line):\n",
    "    res = [0, 0, 0]\n",
    "    match = RE_WORD.search(line)\n",
    "    if match:\n",
    "        if match.start() == 0: # word in the beginning of the line\n",
    "            res[0] = len(match.group(0))\n",
    "    match = RE_FIRST.search(line)\n",
    "    if match:\n",
    "        if match.start() == 0: # some characters in the beginning of the line\n",
    "            res[1] = len(match.group(0))\n",
    "    words = line.split()\n",
    "    if len(words) >= 2:\n",
    "        res[2] = len(words[1])\n",
    "    return res"
   ]
  },
  {
   "cell_type": "code",
   "execution_count": 7,
   "metadata": {},
   "outputs": [],
   "source": [
    "def add_bold_mean_colors(bbox, img, num):\n",
    "    res = []\n",
    "    for i in range(2, num + 1):\n",
    "        res.append(bold_mean_color(bbox, img, i, i ))\n",
    "    return res"
   ]
  },
  {
   "cell_type": "code",
   "execution_count": 8,
   "metadata": {},
   "outputs": [],
   "source": [
    "class AddImgFeatures:\n",
    "    def __init__(self):\n",
    "        pass\n",
    "    \n",
    "    def fit(self):\n",
    "        pass\n",
    "    \n",
    "    def transform(self, X):\n",
    "        \"\"\"\n",
    "        X - [{\"name\": \"doc_name\", \"entities\": [{\"text\": \"\", \"bbox\": []}]}]\n",
    "        returns features\n",
    "        \"\"\"\n",
    "        features = []\n",
    "        for doc in X:\n",
    "            doc_features = []\n",
    "            doc_name = doc['name']\n",
    "            doc_info = doc['entities']\n",
    "            num_bold = 7\n",
    "            img = cv2.imread('docs/' + doc_name)\n",
    "            heigth = img.shape[0]\n",
    "            width = img.shape[1]\n",
    "            i = 0\n",
    "            for line_info in doc_info:\n",
    "                list_cont = list_continue(doc_info, line_info['text'], i) # several different features???\n",
    "                word_cnt = len(line_info['text'].split())\n",
    "                line_length = len(line_info['text'])\n",
    "                \n",
    "                line_features = [line_info['bbox'][0] / width, # left\n",
    "                                 line_info['bbox'][1] / heigth, # top\n",
    "                                 line_info['bbox'][3] / heigth, # height\n",
    "                                 line_length, word_cnt, list_cont] \n",
    "                line_features += add_bold_mean_colors(line_info['bbox'], img, num_bold)\n",
    "                line_features += letters_cnt(line_info['text'])\n",
    "                line_features += add_reg_features(line_info['text'])\n",
    "                line_features += add_end_reg_features(line_info['text'])\n",
    "                doc_features.append(line_features)\n",
    "                i += 1\n",
    "            features.append(doc_features)\n",
    "        return features\n",
    "    \n",
    "    def fit_transform(self, X, y=None):\n",
    "        return self.transform(X)"
   ]
  },
  {
   "cell_type": "code",
   "execution_count": 9,
   "metadata": {},
   "outputs": [],
   "source": [
    "def add_prev_next_features(doc, line_features, num_line):\n",
    "    \"\"\"\n",
    "    doc - list of line_features\n",
    "    line_features - list of features\n",
    "    \"\"\"\n",
    "    add_f = [0] * len(line_features)\n",
    "    extended_doc = [add_f] * 4 + doc + [add_f] * 4\n",
    "    prev_features = reduce(lambda x, y: x + y, \n",
    "                           extended_doc[num_line: num_line + 4])\n",
    "    next_features = reduce(lambda x, y: x + y, \n",
    "                           extended_doc[num_line + 5: num_line + 9])\n",
    "    return line_features + prev_features + next_features"
   ]
  },
  {
   "cell_type": "code",
   "execution_count": 10,
   "metadata": {},
   "outputs": [],
   "source": [
    "class AddPrevNextFeatures:\n",
    "    def __init__(self):\n",
    "        pass\n",
    "    \n",
    "    def fit(self):\n",
    "        pass\n",
    "    \n",
    "    def transform(self, X):\n",
    "        \"\"\"\n",
    "        X - list of doc_features\n",
    "        doc_features - list of line_features\n",
    "        \n",
    "        for each line 4 previous and 4 next features added\n",
    "        result list of lines features\n",
    "        \"\"\"\n",
    "        result = []\n",
    "        for doc_features in X:\n",
    "            i = 0\n",
    "            l = len(doc_features)\n",
    "            mean_left = np.sum(list(map(lambda x: x[0], doc_features))) / l\n",
    "            mean_heigth = np.sum(list(map(lambda x: x[2], doc_features))) / l\n",
    "            mean_line_length = np.sum(list(map(lambda x: x[3], doc_features))) / l\n",
    "            mean_word_cnt = np.sum(list(map(lambda x: x[4], doc_features))) / l\n",
    "            mean_bold_color = np.sum(list(map(lambda x: x[9], doc_features))) / l # bold5\n",
    "            mean_word_letters_cnt = np.sum(list(map(lambda x: x[12], doc_features))) / l \n",
    "            for line_features in doc_features:\n",
    "                new_features = add_prev_next_features(doc_features, line_features, i)\n",
    "                i += 1\n",
    "                new_features += [mean_left, mean_heigth, mean_line_length, \n",
    "                                 mean_word_cnt, mean_bold_color, mean_word_letters_cnt]\n",
    "                result.append(new_features)\n",
    "        return np.array(result)\n",
    "    \n",
    "    def fit_transform(self, X, y=None):\n",
    "        return self.transform(X)"
   ]
  },
  {
   "cell_type": "code",
   "execution_count": 60,
   "metadata": {},
   "outputs": [],
   "source": [
    "label2class = {\n",
    "    \"header\" : 1,\n",
    "    \"list\" : 2,\n",
    "    \"text\" : 3,\n",
    "    \"other\" : 4\n",
    "}\n",
    "\n",
    "with open(\"data.json\", \"r\") as read_file:\n",
    "    docs = json.load(read_file)\n",
    "    y = []\n",
    "    for doc in docs:\n",
    "        elem = [label2class[line['label']] for line in doc['entities']]\n",
    "        y.append(elem)\n",
    "    X = []\n",
    "    for doc in docs:\n",
    "        elem = {}\n",
    "        elem['name'] = doc['name']\n",
    "        elem['entities'] = [{'text': line_info['text'], \n",
    "                        'bbox': [line_info['x'], line_info['y'],\n",
    "                                line_info['width'], line_info['height']]}\n",
    "                      for line_info in doc['entities']]\n",
    "        X.append(elem)\n",
    "    X = np.array(X)\n",
    "    y = np.array(y)"
   ]
  },
  {
   "cell_type": "code",
   "execution_count": 12,
   "metadata": {},
   "outputs": [],
   "source": [
    "aif = AddImgFeatures()\n",
    "X = np.array(aif.transform(X))"
   ]
  },
  {
   "cell_type": "markdown",
   "metadata": {},
   "source": [
    "https://www.analyticsvidhya.com/blog/2016/03/complete-guide-parameter-tuning-xgboost-with-codes-python/"
   ]
  },
  {
   "cell_type": "markdown",
   "metadata": {},
   "source": [
    "#### General Approach for Parameter Tuning\n",
    "\n",
    "1) Choose a relatively high learning rate. Generally a learning rate of 0.1 works but somewhere between 0.05 to 0.3 should work for different problems. Determine the optimum number of trees for this learning rate. XGBoost has a very useful function called as “cv” which performs cross-validation at each boosting iteration and thus returns the optimum number of trees required.\n",
    "\n",
    "\n",
    "2) Tune tree-specific parameters (max_depth, min_child_weight, gamma, subsample, colsample_bytree) for decided learning rate and number of trees. Note that we can choose different parameters to define a tree and I’ll take up an example here.\n",
    "\n",
    "3) Tune regularization parameters (lambda, alpha) for xgboost which can help reduce model complexity and enhance performance.\n",
    "\n",
    "4) Lower the learning rate and decide the optimal parameters."
   ]
  },
  {
   "cell_type": "code",
   "execution_count": 13,
   "metadata": {},
   "outputs": [],
   "source": [
    "def train(clf):\n",
    "    scores = []\n",
    "    n_folds = 3\n",
    "    kf = KFold(n_splits=n_folds)\n",
    "    for train_index, test_index in tqdm(kf.split(X), total=n_folds):\n",
    "        X_train, X_test = X[train_index], X[test_index]\n",
    "        y_train = np.array(reduce(lambda x1, x2: x1 + x2, y[train_index]))\n",
    "        y_test = np.array(reduce(lambda x1, x2: x1 + x2, y[test_index]))\n",
    "        clf.fit(X_train, y_train)\n",
    "        y_pred = clf.predict(X_test)\n",
    "        scores.append(f1_score(y_test, y_pred, average='macro'))\n",
    "    return np.mean(scores)"
   ]
  },
  {
   "cell_type": "markdown",
   "metadata": {},
   "source": [
    "#### Step 1: Fix learning rate and number of estimators for tuning tree-based parameters"
   ]
  },
  {
   "cell_type": "code",
   "execution_count": 14,
   "metadata": {},
   "outputs": [
    {
     "data": {
      "application/vnd.jupyter.widget-view+json": {
       "model_id": "d46604e94e9045bb86c498c79105d3ce",
       "version_major": 2,
       "version_minor": 0
      },
      "text/plain": [
       "HBox(children=(FloatProgress(value=0.0, max=8.0), HTML(value='')))"
      ]
     },
     "metadata": {},
     "output_type": "display_data"
    },
    {
     "data": {
      "application/vnd.jupyter.widget-view+json": {
       "model_id": "946f019362054369b8e508e7165a9fc9",
       "version_major": 2,
       "version_minor": 0
      },
      "text/plain": [
       "HBox(children=(FloatProgress(value=0.0, max=3.0), HTML(value='')))"
      ]
     },
     "metadata": {},
     "output_type": "display_data"
    },
    {
     "name": "stdout",
     "output_type": "stream",
     "text": [
      "\n"
     ]
    },
    {
     "data": {
      "application/vnd.jupyter.widget-view+json": {
       "model_id": "cca3b1b3d6ce4df7a368be5d56f9c84a",
       "version_major": 2,
       "version_minor": 0
      },
      "text/plain": [
       "HBox(children=(FloatProgress(value=0.0, max=3.0), HTML(value='')))"
      ]
     },
     "metadata": {},
     "output_type": "display_data"
    },
    {
     "name": "stdout",
     "output_type": "stream",
     "text": [
      "\n"
     ]
    },
    {
     "data": {
      "application/vnd.jupyter.widget-view+json": {
       "model_id": "2d7b45ebbf26402999fe86eafd87a28e",
       "version_major": 2,
       "version_minor": 0
      },
      "text/plain": [
       "HBox(children=(FloatProgress(value=0.0, max=3.0), HTML(value='')))"
      ]
     },
     "metadata": {},
     "output_type": "display_data"
    },
    {
     "name": "stdout",
     "output_type": "stream",
     "text": [
      "\n"
     ]
    },
    {
     "data": {
      "application/vnd.jupyter.widget-view+json": {
       "model_id": "06a09422d68e487d904aa64029368e2b",
       "version_major": 2,
       "version_minor": 0
      },
      "text/plain": [
       "HBox(children=(FloatProgress(value=0.0, max=3.0), HTML(value='')))"
      ]
     },
     "metadata": {},
     "output_type": "display_data"
    },
    {
     "name": "stdout",
     "output_type": "stream",
     "text": [
      "\n"
     ]
    },
    {
     "data": {
      "application/vnd.jupyter.widget-view+json": {
       "model_id": "58a98f2fccc243b7aab4a2711445403a",
       "version_major": 2,
       "version_minor": 0
      },
      "text/plain": [
       "HBox(children=(FloatProgress(value=0.0, max=3.0), HTML(value='')))"
      ]
     },
     "metadata": {},
     "output_type": "display_data"
    },
    {
     "name": "stdout",
     "output_type": "stream",
     "text": [
      "\n"
     ]
    },
    {
     "data": {
      "application/vnd.jupyter.widget-view+json": {
       "model_id": "5fc802e812f44e0b80414b965dadaced",
       "version_major": 2,
       "version_minor": 0
      },
      "text/plain": [
       "HBox(children=(FloatProgress(value=0.0, max=3.0), HTML(value='')))"
      ]
     },
     "metadata": {},
     "output_type": "display_data"
    },
    {
     "name": "stdout",
     "output_type": "stream",
     "text": [
      "\n"
     ]
    },
    {
     "data": {
      "application/vnd.jupyter.widget-view+json": {
       "model_id": "a3699e043cc54277892f1e4399126c85",
       "version_major": 2,
       "version_minor": 0
      },
      "text/plain": [
       "HBox(children=(FloatProgress(value=0.0, max=3.0), HTML(value='')))"
      ]
     },
     "metadata": {},
     "output_type": "display_data"
    },
    {
     "name": "stdout",
     "output_type": "stream",
     "text": [
      "\n"
     ]
    },
    {
     "data": {
      "application/vnd.jupyter.widget-view+json": {
       "model_id": "0096e6e28a744606b1ff9ca49a892aaf",
       "version_major": 2,
       "version_minor": 0
      },
      "text/plain": [
       "HBox(children=(FloatProgress(value=0.0, max=3.0), HTML(value='')))"
      ]
     },
     "metadata": {},
     "output_type": "display_data"
    },
    {
     "name": "stdout",
     "output_type": "stream",
     "text": [
      "\n",
      "\n"
     ]
    },
    {
     "data": {
      "text/plain": [
       "(Pipeline(memory=None,\n",
       "          steps=[('addprevnextfeatures',\n",
       "                  <__main__.AddPrevNextFeatures object at 0x7f93b0513850>),\n",
       "                 ('xgbclassifier',\n",
       "                  XGBClassifier(base_score=0.5, booster=None,\n",
       "                                colsample_bylevel=1, colsample_bynode=1,\n",
       "                                colsample_bytree=1, gamma=0, gpu_id=-1,\n",
       "                                importance_type='gain',\n",
       "                                interaction_constraints=None, learning_rate=0.1,\n",
       "                                max_delta_step=0, max_depth=6,\n",
       "                                min_child_weight=1, missing=nan,\n",
       "                                monotone_constraints=None, n_estimators=1000,\n",
       "                                n_jobs=4, nthread=4, num_parallel_tree=1,\n",
       "                                objective='multi:softprob', random_state=0,\n",
       "                                reg_alpha=0, reg_lambda=1, scale_pos_weight=None,\n",
       "                                subsample=1, tree_method=None,\n",
       "                                validate_parameters=False, verbosity=None))],\n",
       "          verbose=False),\n",
       " 0.9896660701899364,\n",
       " 1000)"
      ]
     },
     "execution_count": 14,
     "metadata": {},
     "output_type": "execute_result"
    }
   ],
   "source": [
    "learning_rate = 0.1\n",
    "results = []\n",
    "\n",
    "n_estimators_list = [i for i in range(200, 1601, 200)]\n",
    "n_estimators = n_estimators_list[0]\n",
    "res_score = 0\n",
    "\n",
    "for n_estimators_ in tqdm(n_estimators_list):\n",
    "    clf = make_pipeline(AddPrevNextFeatures(),\n",
    "                        XGBClassifier(learning_rate=learning_rate,\n",
    "                                      n_estimators=n_estimators_,\n",
    "                                      nthread=4))\n",
    "    \n",
    "    score = train(clf)\n",
    "    results.append((score, clf))\n",
    "    if score > res_score:\n",
    "        n_estimators = n_estimators_\n",
    "        res_score = score\n",
    "        res_model = clf\n",
    "        \n",
    "res_model, res_score, n_estimators"
   ]
  },
  {
   "cell_type": "markdown",
   "metadata": {},
   "source": [
    "#### Step 2: Tune max_depth and min_child_weight"
   ]
  },
  {
   "cell_type": "code",
   "execution_count": 15,
   "metadata": {},
   "outputs": [
    {
     "data": {
      "application/vnd.jupyter.widget-view+json": {
       "model_id": "51dae1f664664d639b961e95cd9ea96e",
       "version_major": 2,
       "version_minor": 0
      },
      "text/plain": [
       "HBox(children=(FloatProgress(value=0.0, max=35.0), HTML(value='')))"
      ]
     },
     "metadata": {},
     "output_type": "display_data"
    },
    {
     "data": {
      "application/vnd.jupyter.widget-view+json": {
       "model_id": "1d2fee7f1a42411bba5ee2011f532bb9",
       "version_major": 2,
       "version_minor": 0
      },
      "text/plain": [
       "HBox(children=(FloatProgress(value=0.0, max=3.0), HTML(value='')))"
      ]
     },
     "metadata": {},
     "output_type": "display_data"
    },
    {
     "name": "stdout",
     "output_type": "stream",
     "text": [
      "\n"
     ]
    },
    {
     "data": {
      "application/vnd.jupyter.widget-view+json": {
       "model_id": "b21f3a40cf5c487fbe55e2ecaefa1f51",
       "version_major": 2,
       "version_minor": 0
      },
      "text/plain": [
       "HBox(children=(FloatProgress(value=0.0, max=3.0), HTML(value='')))"
      ]
     },
     "metadata": {},
     "output_type": "display_data"
    },
    {
     "name": "stdout",
     "output_type": "stream",
     "text": [
      "\n"
     ]
    },
    {
     "data": {
      "application/vnd.jupyter.widget-view+json": {
       "model_id": "e2857c71f1a74c058f9773972e36bb37",
       "version_major": 2,
       "version_minor": 0
      },
      "text/plain": [
       "HBox(children=(FloatProgress(value=0.0, max=3.0), HTML(value='')))"
      ]
     },
     "metadata": {},
     "output_type": "display_data"
    },
    {
     "name": "stdout",
     "output_type": "stream",
     "text": [
      "\n"
     ]
    },
    {
     "data": {
      "application/vnd.jupyter.widget-view+json": {
       "model_id": "93520dec31bb4248adc1948b421af568",
       "version_major": 2,
       "version_minor": 0
      },
      "text/plain": [
       "HBox(children=(FloatProgress(value=0.0, max=3.0), HTML(value='')))"
      ]
     },
     "metadata": {},
     "output_type": "display_data"
    },
    {
     "name": "stdout",
     "output_type": "stream",
     "text": [
      "\n"
     ]
    },
    {
     "data": {
      "application/vnd.jupyter.widget-view+json": {
       "model_id": "bc9327c9d4ee4fe6b416f4684a597b47",
       "version_major": 2,
       "version_minor": 0
      },
      "text/plain": [
       "HBox(children=(FloatProgress(value=0.0, max=3.0), HTML(value='')))"
      ]
     },
     "metadata": {},
     "output_type": "display_data"
    },
    {
     "name": "stdout",
     "output_type": "stream",
     "text": [
      "\n"
     ]
    },
    {
     "data": {
      "application/vnd.jupyter.widget-view+json": {
       "model_id": "71d5211c0a8c4234a9f5b40bcbe46622",
       "version_major": 2,
       "version_minor": 0
      },
      "text/plain": [
       "HBox(children=(FloatProgress(value=0.0, max=3.0), HTML(value='')))"
      ]
     },
     "metadata": {},
     "output_type": "display_data"
    },
    {
     "name": "stdout",
     "output_type": "stream",
     "text": [
      "\n"
     ]
    },
    {
     "data": {
      "application/vnd.jupyter.widget-view+json": {
       "model_id": "ba43ee74e77a4048810ae74ac177bd94",
       "version_major": 2,
       "version_minor": 0
      },
      "text/plain": [
       "HBox(children=(FloatProgress(value=0.0, max=3.0), HTML(value='')))"
      ]
     },
     "metadata": {},
     "output_type": "display_data"
    },
    {
     "name": "stdout",
     "output_type": "stream",
     "text": [
      "\n"
     ]
    },
    {
     "data": {
      "application/vnd.jupyter.widget-view+json": {
       "model_id": "76a7de8865a54f658fbcc99d54120eb2",
       "version_major": 2,
       "version_minor": 0
      },
      "text/plain": [
       "HBox(children=(FloatProgress(value=0.0, max=3.0), HTML(value='')))"
      ]
     },
     "metadata": {},
     "output_type": "display_data"
    },
    {
     "name": "stdout",
     "output_type": "stream",
     "text": [
      "\n"
     ]
    },
    {
     "data": {
      "application/vnd.jupyter.widget-view+json": {
       "model_id": "3304876fd44b4af595a75fb9b5edc607",
       "version_major": 2,
       "version_minor": 0
      },
      "text/plain": [
       "HBox(children=(FloatProgress(value=0.0, max=3.0), HTML(value='')))"
      ]
     },
     "metadata": {},
     "output_type": "display_data"
    },
    {
     "name": "stdout",
     "output_type": "stream",
     "text": [
      "\n"
     ]
    },
    {
     "data": {
      "application/vnd.jupyter.widget-view+json": {
       "model_id": "98d6766769f44c9aacad4309444610a6",
       "version_major": 2,
       "version_minor": 0
      },
      "text/plain": [
       "HBox(children=(FloatProgress(value=0.0, max=3.0), HTML(value='')))"
      ]
     },
     "metadata": {},
     "output_type": "display_data"
    },
    {
     "name": "stdout",
     "output_type": "stream",
     "text": [
      "\n"
     ]
    },
    {
     "data": {
      "application/vnd.jupyter.widget-view+json": {
       "model_id": "298339c118434b749a3d5aae83e10582",
       "version_major": 2,
       "version_minor": 0
      },
      "text/plain": [
       "HBox(children=(FloatProgress(value=0.0, max=3.0), HTML(value='')))"
      ]
     },
     "metadata": {},
     "output_type": "display_data"
    },
    {
     "name": "stdout",
     "output_type": "stream",
     "text": [
      "\n"
     ]
    },
    {
     "data": {
      "application/vnd.jupyter.widget-view+json": {
       "model_id": "c2bc016cdca041ffb7b71f6e6c29be48",
       "version_major": 2,
       "version_minor": 0
      },
      "text/plain": [
       "HBox(children=(FloatProgress(value=0.0, max=3.0), HTML(value='')))"
      ]
     },
     "metadata": {},
     "output_type": "display_data"
    },
    {
     "name": "stdout",
     "output_type": "stream",
     "text": [
      "\n"
     ]
    },
    {
     "data": {
      "application/vnd.jupyter.widget-view+json": {
       "model_id": "7266f2a6d2af4514947641b56d9690ec",
       "version_major": 2,
       "version_minor": 0
      },
      "text/plain": [
       "HBox(children=(FloatProgress(value=0.0, max=3.0), HTML(value='')))"
      ]
     },
     "metadata": {},
     "output_type": "display_data"
    },
    {
     "name": "stdout",
     "output_type": "stream",
     "text": [
      "\n"
     ]
    },
    {
     "data": {
      "application/vnd.jupyter.widget-view+json": {
       "model_id": "ef489eedc4dd4fa89b8f05096785b8b2",
       "version_major": 2,
       "version_minor": 0
      },
      "text/plain": [
       "HBox(children=(FloatProgress(value=0.0, max=3.0), HTML(value='')))"
      ]
     },
     "metadata": {},
     "output_type": "display_data"
    },
    {
     "name": "stdout",
     "output_type": "stream",
     "text": [
      "\n"
     ]
    },
    {
     "data": {
      "application/vnd.jupyter.widget-view+json": {
       "model_id": "bf1f037c3b344ce3afad1bb5440019f5",
       "version_major": 2,
       "version_minor": 0
      },
      "text/plain": [
       "HBox(children=(FloatProgress(value=0.0, max=3.0), HTML(value='')))"
      ]
     },
     "metadata": {},
     "output_type": "display_data"
    },
    {
     "name": "stdout",
     "output_type": "stream",
     "text": [
      "\n"
     ]
    },
    {
     "data": {
      "application/vnd.jupyter.widget-view+json": {
       "model_id": "d42fff8028664aa6b4e6dc444ee145bb",
       "version_major": 2,
       "version_minor": 0
      },
      "text/plain": [
       "HBox(children=(FloatProgress(value=0.0, max=3.0), HTML(value='')))"
      ]
     },
     "metadata": {},
     "output_type": "display_data"
    },
    {
     "name": "stdout",
     "output_type": "stream",
     "text": [
      "\n"
     ]
    },
    {
     "data": {
      "application/vnd.jupyter.widget-view+json": {
       "model_id": "3aa812914e814464b700078ed3a27834",
       "version_major": 2,
       "version_minor": 0
      },
      "text/plain": [
       "HBox(children=(FloatProgress(value=0.0, max=3.0), HTML(value='')))"
      ]
     },
     "metadata": {},
     "output_type": "display_data"
    },
    {
     "name": "stdout",
     "output_type": "stream",
     "text": [
      "\n"
     ]
    },
    {
     "data": {
      "application/vnd.jupyter.widget-view+json": {
       "model_id": "c1745918599e418dbf00981ec2b5e16e",
       "version_major": 2,
       "version_minor": 0
      },
      "text/plain": [
       "HBox(children=(FloatProgress(value=0.0, max=3.0), HTML(value='')))"
      ]
     },
     "metadata": {},
     "output_type": "display_data"
    },
    {
     "name": "stdout",
     "output_type": "stream",
     "text": [
      "\n"
     ]
    },
    {
     "data": {
      "application/vnd.jupyter.widget-view+json": {
       "model_id": "b5105bd414ba4dcc89bf2c3bc8c77f57",
       "version_major": 2,
       "version_minor": 0
      },
      "text/plain": [
       "HBox(children=(FloatProgress(value=0.0, max=3.0), HTML(value='')))"
      ]
     },
     "metadata": {},
     "output_type": "display_data"
    },
    {
     "name": "stdout",
     "output_type": "stream",
     "text": [
      "\n"
     ]
    },
    {
     "data": {
      "application/vnd.jupyter.widget-view+json": {
       "model_id": "7d45aeaf015a4d3eb23b95508282ad6b",
       "version_major": 2,
       "version_minor": 0
      },
      "text/plain": [
       "HBox(children=(FloatProgress(value=0.0, max=3.0), HTML(value='')))"
      ]
     },
     "metadata": {},
     "output_type": "display_data"
    },
    {
     "name": "stdout",
     "output_type": "stream",
     "text": [
      "\n"
     ]
    },
    {
     "data": {
      "application/vnd.jupyter.widget-view+json": {
       "model_id": "2370c0f4764b4c769bc48633ec8b7645",
       "version_major": 2,
       "version_minor": 0
      },
      "text/plain": [
       "HBox(children=(FloatProgress(value=0.0, max=3.0), HTML(value='')))"
      ]
     },
     "metadata": {},
     "output_type": "display_data"
    },
    {
     "name": "stdout",
     "output_type": "stream",
     "text": [
      "\n"
     ]
    },
    {
     "data": {
      "application/vnd.jupyter.widget-view+json": {
       "model_id": "c92796c878c249fa91231b8f96193f7c",
       "version_major": 2,
       "version_minor": 0
      },
      "text/plain": [
       "HBox(children=(FloatProgress(value=0.0, max=3.0), HTML(value='')))"
      ]
     },
     "metadata": {},
     "output_type": "display_data"
    },
    {
     "name": "stdout",
     "output_type": "stream",
     "text": [
      "\n"
     ]
    },
    {
     "data": {
      "application/vnd.jupyter.widget-view+json": {
       "model_id": "8ac96668c5024ee29b398b9271e1928e",
       "version_major": 2,
       "version_minor": 0
      },
      "text/plain": [
       "HBox(children=(FloatProgress(value=0.0, max=3.0), HTML(value='')))"
      ]
     },
     "metadata": {},
     "output_type": "display_data"
    },
    {
     "name": "stdout",
     "output_type": "stream",
     "text": [
      "\n"
     ]
    },
    {
     "data": {
      "application/vnd.jupyter.widget-view+json": {
       "model_id": "f767b0f6d66143e8b4105522e25a7faa",
       "version_major": 2,
       "version_minor": 0
      },
      "text/plain": [
       "HBox(children=(FloatProgress(value=0.0, max=3.0), HTML(value='')))"
      ]
     },
     "metadata": {},
     "output_type": "display_data"
    },
    {
     "name": "stdout",
     "output_type": "stream",
     "text": [
      "\n"
     ]
    },
    {
     "data": {
      "application/vnd.jupyter.widget-view+json": {
       "model_id": "1e13ddb541cf4ba897834fbdd5c17668",
       "version_major": 2,
       "version_minor": 0
      },
      "text/plain": [
       "HBox(children=(FloatProgress(value=0.0, max=3.0), HTML(value='')))"
      ]
     },
     "metadata": {},
     "output_type": "display_data"
    },
    {
     "name": "stdout",
     "output_type": "stream",
     "text": [
      "\n"
     ]
    },
    {
     "data": {
      "application/vnd.jupyter.widget-view+json": {
       "model_id": "d11602d06ca645569bc26140b21b5ab8",
       "version_major": 2,
       "version_minor": 0
      },
      "text/plain": [
       "HBox(children=(FloatProgress(value=0.0, max=3.0), HTML(value='')))"
      ]
     },
     "metadata": {},
     "output_type": "display_data"
    },
    {
     "name": "stdout",
     "output_type": "stream",
     "text": [
      "\n"
     ]
    },
    {
     "data": {
      "application/vnd.jupyter.widget-view+json": {
       "model_id": "46df3d85eac24153b82db47179f209ec",
       "version_major": 2,
       "version_minor": 0
      },
      "text/plain": [
       "HBox(children=(FloatProgress(value=0.0, max=3.0), HTML(value='')))"
      ]
     },
     "metadata": {},
     "output_type": "display_data"
    },
    {
     "name": "stdout",
     "output_type": "stream",
     "text": [
      "\n"
     ]
    },
    {
     "data": {
      "application/vnd.jupyter.widget-view+json": {
       "model_id": "3c475b71afcb4b84b7f03c2489da939b",
       "version_major": 2,
       "version_minor": 0
      },
      "text/plain": [
       "HBox(children=(FloatProgress(value=0.0, max=3.0), HTML(value='')))"
      ]
     },
     "metadata": {},
     "output_type": "display_data"
    },
    {
     "name": "stdout",
     "output_type": "stream",
     "text": [
      "\n"
     ]
    },
    {
     "data": {
      "application/vnd.jupyter.widget-view+json": {
       "model_id": "da8292494d0644ffa352ba1bdf0c1c92",
       "version_major": 2,
       "version_minor": 0
      },
      "text/plain": [
       "HBox(children=(FloatProgress(value=0.0, max=3.0), HTML(value='')))"
      ]
     },
     "metadata": {},
     "output_type": "display_data"
    },
    {
     "name": "stdout",
     "output_type": "stream",
     "text": [
      "\n"
     ]
    },
    {
     "data": {
      "application/vnd.jupyter.widget-view+json": {
       "model_id": "e1a31392316544e1915671188674aa4a",
       "version_major": 2,
       "version_minor": 0
      },
      "text/plain": [
       "HBox(children=(FloatProgress(value=0.0, max=3.0), HTML(value='')))"
      ]
     },
     "metadata": {},
     "output_type": "display_data"
    },
    {
     "name": "stdout",
     "output_type": "stream",
     "text": [
      "\n"
     ]
    },
    {
     "data": {
      "application/vnd.jupyter.widget-view+json": {
       "model_id": "60a5c72f83584e8c868970e003ba973c",
       "version_major": 2,
       "version_minor": 0
      },
      "text/plain": [
       "HBox(children=(FloatProgress(value=0.0, max=3.0), HTML(value='')))"
      ]
     },
     "metadata": {},
     "output_type": "display_data"
    },
    {
     "name": "stdout",
     "output_type": "stream",
     "text": [
      "\n"
     ]
    },
    {
     "data": {
      "application/vnd.jupyter.widget-view+json": {
       "model_id": "e1468619297e4fcfbcd9da8cf3e4113e",
       "version_major": 2,
       "version_minor": 0
      },
      "text/plain": [
       "HBox(children=(FloatProgress(value=0.0, max=3.0), HTML(value='')))"
      ]
     },
     "metadata": {},
     "output_type": "display_data"
    },
    {
     "name": "stdout",
     "output_type": "stream",
     "text": [
      "\n"
     ]
    },
    {
     "data": {
      "application/vnd.jupyter.widget-view+json": {
       "model_id": "48735a5c473441e081ef99e62dfb5377",
       "version_major": 2,
       "version_minor": 0
      },
      "text/plain": [
       "HBox(children=(FloatProgress(value=0.0, max=3.0), HTML(value='')))"
      ]
     },
     "metadata": {},
     "output_type": "display_data"
    },
    {
     "name": "stdout",
     "output_type": "stream",
     "text": [
      "\n"
     ]
    },
    {
     "data": {
      "application/vnd.jupyter.widget-view+json": {
       "model_id": "2d1603d76d724e828f5c0ab0e2065f85",
       "version_major": 2,
       "version_minor": 0
      },
      "text/plain": [
       "HBox(children=(FloatProgress(value=0.0, max=3.0), HTML(value='')))"
      ]
     },
     "metadata": {},
     "output_type": "display_data"
    },
    {
     "name": "stdout",
     "output_type": "stream",
     "text": [
      "\n",
      "\n"
     ]
    },
    {
     "data": {
      "text/plain": [
       "(Pipeline(memory=None,\n",
       "          steps=[('addprevnextfeatures',\n",
       "                  <__main__.AddPrevNextFeatures object at 0x7f93affd4250>),\n",
       "                 ('xgbclassifier',\n",
       "                  XGBClassifier(base_score=0.5, booster=None,\n",
       "                                colsample_bylevel=1, colsample_bynode=1,\n",
       "                                colsample_bytree=1, gamma=0, gpu_id=-1,\n",
       "                                importance_type='gain',\n",
       "                                interaction_constraints=None, learning_rate=0.1,\n",
       "                                max_delta_step=0, max_depth=7,\n",
       "                                min_child_weight=2, missing=nan,\n",
       "                                monotone_constraints=None, n_estimators=1000,\n",
       "                                n_jobs=4, nthread=4, num_parallel_tree=1,\n",
       "                                objective='multi:softprob', random_state=0,\n",
       "                                reg_alpha=0, reg_lambda=1, scale_pos_weight=None,\n",
       "                                subsample=1, tree_method=None,\n",
       "                                validate_parameters=False, verbosity=None))],\n",
       "          verbose=False),\n",
       " 0.9899207278037889,\n",
       " 7,\n",
       " 2)"
      ]
     },
     "execution_count": 15,
     "metadata": {},
     "output_type": "execute_result"
    }
   ],
   "source": [
    "params = product(\n",
    "    range(3, 10), # max_depth\n",
    "    range(1, 6) # min_child_weight\n",
    ")\n",
    "\n",
    "max_depth=6\n",
    "min_child_weight=1\n",
    "\n",
    "for max_depth_, min_child_weight_ in tqdm(list(params)):\n",
    "    clf = make_pipeline(AddPrevNextFeatures(),\n",
    "                        XGBClassifier(learning_rate=learning_rate,\n",
    "                                      n_estimators=n_estimators,\n",
    "                                      max_depth=max_depth_,\n",
    "                                      min_child_weight=min_child_weight_,\n",
    "                                      nthread=4))\n",
    "    \n",
    "    score = train(clf)\n",
    "    results.append((score, clf))\n",
    "    if score > res_score:\n",
    "        max_depth=max_depth_\n",
    "        min_child_weight=min_child_weight_\n",
    "        res_score = score\n",
    "        res_model = clf\n",
    "        \n",
    "res_model, res_score, max_depth, min_child_weight"
   ]
  },
  {
   "cell_type": "markdown",
   "metadata": {},
   "source": [
    "#### Step 3: Tune gamma"
   ]
  },
  {
   "cell_type": "code",
   "execution_count": 16,
   "metadata": {},
   "outputs": [
    {
     "data": {
      "application/vnd.jupyter.widget-view+json": {
       "model_id": "eb9e4988ff584bc2a74f7e20941b3336",
       "version_major": 2,
       "version_minor": 0
      },
      "text/plain": [
       "HBox(children=(FloatProgress(value=0.0, max=5.0), HTML(value='')))"
      ]
     },
     "metadata": {},
     "output_type": "display_data"
    },
    {
     "data": {
      "application/vnd.jupyter.widget-view+json": {
       "model_id": "3159e2d2e9bb469c88b5e7e423a7a618",
       "version_major": 2,
       "version_minor": 0
      },
      "text/plain": [
       "HBox(children=(FloatProgress(value=0.0, max=3.0), HTML(value='')))"
      ]
     },
     "metadata": {},
     "output_type": "display_data"
    },
    {
     "name": "stdout",
     "output_type": "stream",
     "text": [
      "\n"
     ]
    },
    {
     "data": {
      "application/vnd.jupyter.widget-view+json": {
       "model_id": "fa8e56858d7c47ffaa439d4f62c92129",
       "version_major": 2,
       "version_minor": 0
      },
      "text/plain": [
       "HBox(children=(FloatProgress(value=0.0, max=3.0), HTML(value='')))"
      ]
     },
     "metadata": {},
     "output_type": "display_data"
    },
    {
     "name": "stdout",
     "output_type": "stream",
     "text": [
      "\n"
     ]
    },
    {
     "data": {
      "application/vnd.jupyter.widget-view+json": {
       "model_id": "be1d7a13e48749d5bceccb253e853d3d",
       "version_major": 2,
       "version_minor": 0
      },
      "text/plain": [
       "HBox(children=(FloatProgress(value=0.0, max=3.0), HTML(value='')))"
      ]
     },
     "metadata": {},
     "output_type": "display_data"
    },
    {
     "name": "stdout",
     "output_type": "stream",
     "text": [
      "\n"
     ]
    },
    {
     "data": {
      "application/vnd.jupyter.widget-view+json": {
       "model_id": "f870bf4fd1d5466dba73fec1d238d0b4",
       "version_major": 2,
       "version_minor": 0
      },
      "text/plain": [
       "HBox(children=(FloatProgress(value=0.0, max=3.0), HTML(value='')))"
      ]
     },
     "metadata": {},
     "output_type": "display_data"
    },
    {
     "name": "stdout",
     "output_type": "stream",
     "text": [
      "\n"
     ]
    },
    {
     "data": {
      "application/vnd.jupyter.widget-view+json": {
       "model_id": "e9eee2cac10f4d91a7d7edc66a26d7f3",
       "version_major": 2,
       "version_minor": 0
      },
      "text/plain": [
       "HBox(children=(FloatProgress(value=0.0, max=3.0), HTML(value='')))"
      ]
     },
     "metadata": {},
     "output_type": "display_data"
    },
    {
     "name": "stdout",
     "output_type": "stream",
     "text": [
      "\n",
      "\n"
     ]
    },
    {
     "data": {
      "text/plain": [
       "(Pipeline(memory=None,\n",
       "          steps=[('addprevnextfeatures',\n",
       "                  <__main__.AddPrevNextFeatures object at 0x7f93affd4250>),\n",
       "                 ('xgbclassifier',\n",
       "                  XGBClassifier(base_score=0.5, booster=None,\n",
       "                                colsample_bylevel=1, colsample_bynode=1,\n",
       "                                colsample_bytree=1, gamma=0, gpu_id=-1,\n",
       "                                importance_type='gain',\n",
       "                                interaction_constraints=None, learning_rate=0.1,\n",
       "                                max_delta_step=0, max_depth=7,\n",
       "                                min_child_weight=2, missing=nan,\n",
       "                                monotone_constraints=None, n_estimators=1000,\n",
       "                                n_jobs=4, nthread=4, num_parallel_tree=1,\n",
       "                                objective='multi:softprob', random_state=0,\n",
       "                                reg_alpha=0, reg_lambda=1, scale_pos_weight=None,\n",
       "                                subsample=1, tree_method=None,\n",
       "                                validate_parameters=False, verbosity=None))],\n",
       "          verbose=False),\n",
       " 0.9899207278037889,\n",
       " 0.0)"
      ]
     },
     "execution_count": 16,
     "metadata": {},
     "output_type": "execute_result"
    }
   ],
   "source": [
    "gammas = [i / 10.0 for i in range(0, 5)]\n",
    "gamma = 0\n",
    "\n",
    "for gamma_ in tqdm(gammas):\n",
    "    clf = make_pipeline(AddPrevNextFeatures(),\n",
    "                        XGBClassifier(learning_rate=learning_rate,\n",
    "                                      n_estimators=n_estimators,\n",
    "                                      max_depth=max_depth,\n",
    "                                      min_child_weight=min_child_weight,\n",
    "                                      gamma=gamma_,\n",
    "                                      nthread=4))\n",
    "    \n",
    "    score = train(clf)\n",
    "    results.append((score, clf))\n",
    "    if score > res_score:\n",
    "        gamma=gamma_,\n",
    "        res_score = score\n",
    "        res_model = clf\n",
    "        \n",
    "res_model, res_score, gamma"
   ]
  },
  {
   "cell_type": "markdown",
   "metadata": {},
   "source": [
    "#### Step 4: Tune subsample and colsample_bytree"
   ]
  },
  {
   "cell_type": "code",
   "execution_count": 32,
   "metadata": {},
   "outputs": [
    {
     "data": {
      "application/vnd.jupyter.widget-view+json": {
       "model_id": "13d53f7b500e4940a44e54f64c57224b",
       "version_major": 2,
       "version_minor": 0
      },
      "text/plain": [
       "HBox(children=(FloatProgress(value=0.0, max=16.0), HTML(value='')))"
      ]
     },
     "metadata": {},
     "output_type": "display_data"
    },
    {
     "data": {
      "application/vnd.jupyter.widget-view+json": {
       "model_id": "6e893ff4ce3745b0a80bbf3afd29a85f",
       "version_major": 2,
       "version_minor": 0
      },
      "text/plain": [
       "HBox(children=(FloatProgress(value=0.0, max=3.0), HTML(value='')))"
      ]
     },
     "metadata": {},
     "output_type": "display_data"
    },
    {
     "name": "stdout",
     "output_type": "stream",
     "text": [
      "\n"
     ]
    },
    {
     "data": {
      "application/vnd.jupyter.widget-view+json": {
       "model_id": "31b6187e7d8c4c6cb68a00b30586aec4",
       "version_major": 2,
       "version_minor": 0
      },
      "text/plain": [
       "HBox(children=(FloatProgress(value=0.0, max=3.0), HTML(value='')))"
      ]
     },
     "metadata": {},
     "output_type": "display_data"
    },
    {
     "name": "stdout",
     "output_type": "stream",
     "text": [
      "\n"
     ]
    },
    {
     "data": {
      "application/vnd.jupyter.widget-view+json": {
       "model_id": "e1fc7e33b2d141a5805e388deff89dcc",
       "version_major": 2,
       "version_minor": 0
      },
      "text/plain": [
       "HBox(children=(FloatProgress(value=0.0, max=3.0), HTML(value='')))"
      ]
     },
     "metadata": {},
     "output_type": "display_data"
    },
    {
     "name": "stdout",
     "output_type": "stream",
     "text": [
      "\n"
     ]
    },
    {
     "data": {
      "application/vnd.jupyter.widget-view+json": {
       "model_id": "b4e92bc2dae2418585e786285cb5b86e",
       "version_major": 2,
       "version_minor": 0
      },
      "text/plain": [
       "HBox(children=(FloatProgress(value=0.0, max=3.0), HTML(value='')))"
      ]
     },
     "metadata": {},
     "output_type": "display_data"
    },
    {
     "name": "stdout",
     "output_type": "stream",
     "text": [
      "\n"
     ]
    },
    {
     "data": {
      "application/vnd.jupyter.widget-view+json": {
       "model_id": "a29a9ad2adc2475aa62c34cdcab330ef",
       "version_major": 2,
       "version_minor": 0
      },
      "text/plain": [
       "HBox(children=(FloatProgress(value=0.0, max=3.0), HTML(value='')))"
      ]
     },
     "metadata": {},
     "output_type": "display_data"
    },
    {
     "name": "stdout",
     "output_type": "stream",
     "text": [
      "\n"
     ]
    },
    {
     "data": {
      "application/vnd.jupyter.widget-view+json": {
       "model_id": "c2814e6a4f0244b3b9623635ded2f82e",
       "version_major": 2,
       "version_minor": 0
      },
      "text/plain": [
       "HBox(children=(FloatProgress(value=0.0, max=3.0), HTML(value='')))"
      ]
     },
     "metadata": {},
     "output_type": "display_data"
    },
    {
     "name": "stdout",
     "output_type": "stream",
     "text": [
      "\n"
     ]
    },
    {
     "data": {
      "application/vnd.jupyter.widget-view+json": {
       "model_id": "dc259218d736491280285ed225909e54",
       "version_major": 2,
       "version_minor": 0
      },
      "text/plain": [
       "HBox(children=(FloatProgress(value=0.0, max=3.0), HTML(value='')))"
      ]
     },
     "metadata": {},
     "output_type": "display_data"
    },
    {
     "name": "stdout",
     "output_type": "stream",
     "text": [
      "\n"
     ]
    },
    {
     "data": {
      "application/vnd.jupyter.widget-view+json": {
       "model_id": "a5f67e842c73422fa091236fd5e0bb9f",
       "version_major": 2,
       "version_minor": 0
      },
      "text/plain": [
       "HBox(children=(FloatProgress(value=0.0, max=3.0), HTML(value='')))"
      ]
     },
     "metadata": {},
     "output_type": "display_data"
    },
    {
     "name": "stdout",
     "output_type": "stream",
     "text": [
      "\n"
     ]
    },
    {
     "data": {
      "application/vnd.jupyter.widget-view+json": {
       "model_id": "95461891c3e042c8bbfa9ba60229eec6",
       "version_major": 2,
       "version_minor": 0
      },
      "text/plain": [
       "HBox(children=(FloatProgress(value=0.0, max=3.0), HTML(value='')))"
      ]
     },
     "metadata": {},
     "output_type": "display_data"
    },
    {
     "name": "stdout",
     "output_type": "stream",
     "text": [
      "\n"
     ]
    },
    {
     "data": {
      "application/vnd.jupyter.widget-view+json": {
       "model_id": "40356643c94a4445a25fb5b1d31beffd",
       "version_major": 2,
       "version_minor": 0
      },
      "text/plain": [
       "HBox(children=(FloatProgress(value=0.0, max=3.0), HTML(value='')))"
      ]
     },
     "metadata": {},
     "output_type": "display_data"
    },
    {
     "name": "stdout",
     "output_type": "stream",
     "text": [
      "\n"
     ]
    },
    {
     "data": {
      "application/vnd.jupyter.widget-view+json": {
       "model_id": "2cd19649fd10491da0b47f903c7fad4a",
       "version_major": 2,
       "version_minor": 0
      },
      "text/plain": [
       "HBox(children=(FloatProgress(value=0.0, max=3.0), HTML(value='')))"
      ]
     },
     "metadata": {},
     "output_type": "display_data"
    },
    {
     "name": "stdout",
     "output_type": "stream",
     "text": [
      "\n"
     ]
    },
    {
     "data": {
      "application/vnd.jupyter.widget-view+json": {
       "model_id": "548d754ce0fc46af9307a641e20e502b",
       "version_major": 2,
       "version_minor": 0
      },
      "text/plain": [
       "HBox(children=(FloatProgress(value=0.0, max=3.0), HTML(value='')))"
      ]
     },
     "metadata": {},
     "output_type": "display_data"
    },
    {
     "name": "stdout",
     "output_type": "stream",
     "text": [
      "\n"
     ]
    },
    {
     "data": {
      "application/vnd.jupyter.widget-view+json": {
       "model_id": "2bff9bce6f0641ac8adf6f3e0d032a5f",
       "version_major": 2,
       "version_minor": 0
      },
      "text/plain": [
       "HBox(children=(FloatProgress(value=0.0, max=3.0), HTML(value='')))"
      ]
     },
     "metadata": {},
     "output_type": "display_data"
    },
    {
     "name": "stdout",
     "output_type": "stream",
     "text": [
      "\n"
     ]
    },
    {
     "data": {
      "application/vnd.jupyter.widget-view+json": {
       "model_id": "024634b252844827a7b518e74a42b2d1",
       "version_major": 2,
       "version_minor": 0
      },
      "text/plain": [
       "HBox(children=(FloatProgress(value=0.0, max=3.0), HTML(value='')))"
      ]
     },
     "metadata": {},
     "output_type": "display_data"
    },
    {
     "name": "stdout",
     "output_type": "stream",
     "text": [
      "\n"
     ]
    },
    {
     "data": {
      "application/vnd.jupyter.widget-view+json": {
       "model_id": "6584c664acd74ba0ba5610625cc4d502",
       "version_major": 2,
       "version_minor": 0
      },
      "text/plain": [
       "HBox(children=(FloatProgress(value=0.0, max=3.0), HTML(value='')))"
      ]
     },
     "metadata": {},
     "output_type": "display_data"
    },
    {
     "name": "stdout",
     "output_type": "stream",
     "text": [
      "\n"
     ]
    },
    {
     "data": {
      "application/vnd.jupyter.widget-view+json": {
       "model_id": "ffd14b0c26f74737ade0543ffa4b3509",
       "version_major": 2,
       "version_minor": 0
      },
      "text/plain": [
       "HBox(children=(FloatProgress(value=0.0, max=3.0), HTML(value='')))"
      ]
     },
     "metadata": {},
     "output_type": "display_data"
    },
    {
     "name": "stdout",
     "output_type": "stream",
     "text": [
      "\n",
      "\n"
     ]
    },
    {
     "data": {
      "text/plain": [
       "(Pipeline(memory=None,\n",
       "          steps=[('addprevnextfeatures',\n",
       "                  <__main__.AddPrevNextFeatures object at 0x7f93affd4250>),\n",
       "                 ('xgbclassifier',\n",
       "                  XGBClassifier(base_score=0.5, booster=None,\n",
       "                                colsample_bylevel=1, colsample_bynode=1,\n",
       "                                colsample_bytree=1, gamma=0, gpu_id=-1,\n",
       "                                importance_type='gain',\n",
       "                                interaction_constraints=None, learning_rate=0.1,\n",
       "                                max_delta_step=0, max_depth=7,\n",
       "                                min_child_weight=2, missing=nan,\n",
       "                                monotone_constraints=None, n_estimators=1000,\n",
       "                                n_jobs=4, nthread=4, num_parallel_tree=1,\n",
       "                                objective='multi:softprob', random_state=0,\n",
       "                                reg_alpha=0, reg_lambda=1, scale_pos_weight=None,\n",
       "                                subsample=1, tree_method=None,\n",
       "                                validate_parameters=False, verbosity=None))],\n",
       "          verbose=False),\n",
       " 0.9899207278037889,\n",
       " 1,\n",
       " 1)"
      ]
     },
     "execution_count": 32,
     "metadata": {},
     "output_type": "execute_result"
    }
   ],
   "source": [
    "params = product(\n",
    "    [i / 10.0 for i in range(6, 10)], # subsample\n",
    "    [i / 10.0 for i in range(6, 10)] # colsample_bytree\n",
    ")\n",
    "\n",
    "subsample = 1\n",
    "colsample_bytree = 1\n",
    "\n",
    "for subsample_, colsample_bytree_ in tqdm(list(params)):\n",
    "    clf = make_pipeline(AddPrevNextFeatures(),\n",
    "                        XGBClassifier(learning_rate=learning_rate,\n",
    "                                      n_estimators=n_estimators,\n",
    "                                      max_depth=max_depth,\n",
    "                                      min_child_weight=min_child_weight,\n",
    "                                      gamma=gamma,\n",
    "                                      subsample=subsample_,\n",
    "                                      colsample_bytree=colsample_bytree_,\n",
    "                                      nthread=4))\n",
    "    \n",
    "    score = train(clf)\n",
    "    results.append((score, clf))\n",
    "    if score > res_score:\n",
    "        subsample=subsample_\n",
    "        colsample_bytree=colsample_bytree_\n",
    "        res_score = score\n",
    "        res_model = clf\n",
    "        \n",
    "res_model, res_score, subsample, colsample_bytree"
   ]
  },
  {
   "cell_type": "markdown",
   "metadata": {},
   "source": [
    "#### Step 5: Tuning Regularization Parameters"
   ]
  },
  {
   "cell_type": "code",
   "execution_count": 33,
   "metadata": {
    "scrolled": true
   },
   "outputs": [
    {
     "data": {
      "application/vnd.jupyter.widget-view+json": {
       "model_id": "b752b0979e7641e1a0c6aceba37f37ac",
       "version_major": 2,
       "version_minor": 0
      },
      "text/plain": [
       "HBox(children=(FloatProgress(value=0.0, max=5.0), HTML(value='')))"
      ]
     },
     "metadata": {},
     "output_type": "display_data"
    },
    {
     "data": {
      "application/vnd.jupyter.widget-view+json": {
       "model_id": "4f5a614f4234453ba35cfb25e2cc856c",
       "version_major": 2,
       "version_minor": 0
      },
      "text/plain": [
       "HBox(children=(FloatProgress(value=0.0, max=3.0), HTML(value='')))"
      ]
     },
     "metadata": {},
     "output_type": "display_data"
    },
    {
     "name": "stdout",
     "output_type": "stream",
     "text": [
      "\n"
     ]
    },
    {
     "data": {
      "application/vnd.jupyter.widget-view+json": {
       "model_id": "eabbaf9ba8bd4810ac8d0ca40602cf26",
       "version_major": 2,
       "version_minor": 0
      },
      "text/plain": [
       "HBox(children=(FloatProgress(value=0.0, max=3.0), HTML(value='')))"
      ]
     },
     "metadata": {},
     "output_type": "display_data"
    },
    {
     "name": "stdout",
     "output_type": "stream",
     "text": [
      "\n"
     ]
    },
    {
     "data": {
      "application/vnd.jupyter.widget-view+json": {
       "model_id": "24a6f7d03b1e474dbc06442c4d4b0e88",
       "version_major": 2,
       "version_minor": 0
      },
      "text/plain": [
       "HBox(children=(FloatProgress(value=0.0, max=3.0), HTML(value='')))"
      ]
     },
     "metadata": {},
     "output_type": "display_data"
    },
    {
     "name": "stdout",
     "output_type": "stream",
     "text": [
      "\n"
     ]
    },
    {
     "data": {
      "application/vnd.jupyter.widget-view+json": {
       "model_id": "6b3580caceff4868ac4912f12a733b4f",
       "version_major": 2,
       "version_minor": 0
      },
      "text/plain": [
       "HBox(children=(FloatProgress(value=0.0, max=3.0), HTML(value='')))"
      ]
     },
     "metadata": {},
     "output_type": "display_data"
    },
    {
     "name": "stdout",
     "output_type": "stream",
     "text": [
      "\n"
     ]
    },
    {
     "data": {
      "application/vnd.jupyter.widget-view+json": {
       "model_id": "247e7087eb944ba4b4f083bea21b2b64",
       "version_major": 2,
       "version_minor": 0
      },
      "text/plain": [
       "HBox(children=(FloatProgress(value=0.0, max=3.0), HTML(value='')))"
      ]
     },
     "metadata": {},
     "output_type": "display_data"
    },
    {
     "name": "stdout",
     "output_type": "stream",
     "text": [
      "\n",
      "\n"
     ]
    },
    {
     "data": {
      "text/plain": [
       "(Pipeline(memory=None,\n",
       "          steps=[('addprevnextfeatures',\n",
       "                  <__main__.AddPrevNextFeatures object at 0x7f93affe86d0>),\n",
       "                 ('xgbclassifier',\n",
       "                  XGBClassifier(base_score=0.5, booster=None,\n",
       "                                colsample_bylevel=1, colsample_bynode=1,\n",
       "                                colsample_bytree=1, gamma=0.0, gpu_id=-1,\n",
       "                                importance_type='gain',\n",
       "                                interaction_constraints=None, learning_rate=0.1,\n",
       "                                max_delta_step=0, max_depth=7,\n",
       "                                min_child_weight=2, missing=nan,\n",
       "                                monotone_constraints=None, n_estimators=1000,\n",
       "                                n_jobs=4, nthread=4, num_parallel_tree=1,\n",
       "                                objective='multi:softprob', random_state=0,\n",
       "                                reg_alpha=0.01, reg_lambda=1,\n",
       "                                scale_pos_weight=None, subsample=1,\n",
       "                                tree_method=None, validate_parameters=False,\n",
       "                                verbosity=None))],\n",
       "          verbose=False),\n",
       " 0.9899519297852334,\n",
       " 0.01)"
      ]
     },
     "execution_count": 33,
     "metadata": {},
     "output_type": "execute_result"
    }
   ],
   "source": [
    "reg_alphas = [1e-5, 1e-2, 0.1, 1, 100]\n",
    "\n",
    "reg_alpha = reg_alphas[0]\n",
    "\n",
    "for reg_alpha_ in tqdm(reg_alphas):\n",
    "    clf = make_pipeline(AddPrevNextFeatures(),\n",
    "                        XGBClassifier(learning_rate=learning_rate,\n",
    "                                      n_estimators=n_estimators,\n",
    "                                      max_depth=max_depth,\n",
    "                                      min_child_weight=min_child_weight,\n",
    "                                      gamma=gamma,\n",
    "                                      subsample=subsample,\n",
    "                                      colsample_bytree=colsample_bytree,\n",
    "                                      reg_alpha=reg_alpha_,\n",
    "                                      nthread=4))\n",
    "    \n",
    "    score = train(clf)\n",
    "    results.append((score, clf))\n",
    "    if score > res_score:\n",
    "        reg_alpha = reg_alpha_\n",
    "        res_score = score\n",
    "        res_model = clf\n",
    "        \n",
    "res_model, res_score, reg_alpha"
   ]
  },
  {
   "cell_type": "code",
   "execution_count": 34,
   "metadata": {},
   "outputs": [
    {
     "data": {
      "application/vnd.jupyter.widget-view+json": {
       "model_id": "dfba5e9f0bb8444c825778d65ee66309",
       "version_major": 2,
       "version_minor": 0
      },
      "text/plain": [
       "HBox(children=(FloatProgress(value=0.0, max=5.0), HTML(value='')))"
      ]
     },
     "metadata": {},
     "output_type": "display_data"
    },
    {
     "data": {
      "application/vnd.jupyter.widget-view+json": {
       "model_id": "592eafe0479b471d95ec9f777c68f24c",
       "version_major": 2,
       "version_minor": 0
      },
      "text/plain": [
       "HBox(children=(FloatProgress(value=0.0, max=3.0), HTML(value='')))"
      ]
     },
     "metadata": {},
     "output_type": "display_data"
    },
    {
     "name": "stdout",
     "output_type": "stream",
     "text": [
      "\n"
     ]
    },
    {
     "data": {
      "application/vnd.jupyter.widget-view+json": {
       "model_id": "a83859e051e84f579752671bad5cc18e",
       "version_major": 2,
       "version_minor": 0
      },
      "text/plain": [
       "HBox(children=(FloatProgress(value=0.0, max=3.0), HTML(value='')))"
      ]
     },
     "metadata": {},
     "output_type": "display_data"
    },
    {
     "name": "stdout",
     "output_type": "stream",
     "text": [
      "\n"
     ]
    },
    {
     "data": {
      "application/vnd.jupyter.widget-view+json": {
       "model_id": "c359a4cd06e24d32a2869cdeb5cdc56d",
       "version_major": 2,
       "version_minor": 0
      },
      "text/plain": [
       "HBox(children=(FloatProgress(value=0.0, max=3.0), HTML(value='')))"
      ]
     },
     "metadata": {},
     "output_type": "display_data"
    },
    {
     "name": "stdout",
     "output_type": "stream",
     "text": [
      "\n"
     ]
    },
    {
     "data": {
      "application/vnd.jupyter.widget-view+json": {
       "model_id": "f68f73f3260642c2a69d214ca3387ac8",
       "version_major": 2,
       "version_minor": 0
      },
      "text/plain": [
       "HBox(children=(FloatProgress(value=0.0, max=3.0), HTML(value='')))"
      ]
     },
     "metadata": {},
     "output_type": "display_data"
    },
    {
     "name": "stdout",
     "output_type": "stream",
     "text": [
      "\n"
     ]
    },
    {
     "data": {
      "application/vnd.jupyter.widget-view+json": {
       "model_id": "531c4134a88042a88afdd09bb29ca95e",
       "version_major": 2,
       "version_minor": 0
      },
      "text/plain": [
       "HBox(children=(FloatProgress(value=0.0, max=3.0), HTML(value='')))"
      ]
     },
     "metadata": {},
     "output_type": "display_data"
    },
    {
     "name": "stdout",
     "output_type": "stream",
     "text": [
      "\n",
      "\n"
     ]
    },
    {
     "data": {
      "text/plain": [
       "(Pipeline(memory=None,\n",
       "          steps=[('addprevnextfeatures',\n",
       "                  <__main__.AddPrevNextFeatures object at 0x7f93affe86d0>),\n",
       "                 ('xgbclassifier',\n",
       "                  XGBClassifier(base_score=0.5, booster=None,\n",
       "                                colsample_bylevel=1, colsample_bynode=1,\n",
       "                                colsample_bytree=1, gamma=0.0, gpu_id=-1,\n",
       "                                importance_type='gain',\n",
       "                                interaction_constraints=None, learning_rate=0.1,\n",
       "                                max_delta_step=0, max_depth=7,\n",
       "                                min_child_weight=2, missing=nan,\n",
       "                                monotone_constraints=None, n_estimators=1000,\n",
       "                                n_jobs=4, nthread=4, num_parallel_tree=1,\n",
       "                                objective='multi:softprob', random_state=0,\n",
       "                                reg_alpha=0.01, reg_lambda=1,\n",
       "                                scale_pos_weight=None, subsample=1,\n",
       "                                tree_method=None, validate_parameters=False,\n",
       "                                verbosity=None))],\n",
       "          verbose=False),\n",
       " 0.9899519297852334,\n",
       " 0.01)"
      ]
     },
     "execution_count": 34,
     "metadata": {},
     "output_type": "execute_result"
    }
   ],
   "source": [
    "reg_alphas = [0, 0.001, 0.005, 0.01, 0.05]\n",
    "\n",
    "for reg_alpha_ in tqdm(reg_alphas):\n",
    "    clf = make_pipeline(AddPrevNextFeatures(),\n",
    "                        XGBClassifier(learning_rate=learning_rate,\n",
    "                                      n_estimators=n_estimators,\n",
    "                                      max_depth=max_depth,\n",
    "                                      min_child_weight=min_child_weight,\n",
    "                                      gamma=gamma,\n",
    "                                      subsample=subsample,\n",
    "                                      colsample_bytree=colsample_bytree,\n",
    "                                      reg_alpha=reg_alpha_,\n",
    "                                      nthread=4))\n",
    "    \n",
    "    score = train(clf)\n",
    "    results.append((score, clf))\n",
    "    if score > res_score:\n",
    "        reg_alpha = reg_alpha_\n",
    "        res_score = score\n",
    "        res_model = clf\n",
    "        \n",
    "res_model, res_score, reg_alpha"
   ]
  },
  {
   "cell_type": "markdown",
   "metadata": {},
   "source": [
    "#### Step 6: Reducing Learning Rate"
   ]
  },
  {
   "cell_type": "code",
   "execution_count": 61,
   "metadata": {},
   "outputs": [
    {
     "data": {
      "application/vnd.jupyter.widget-view+json": {
       "model_id": "b51ee3cf806845a5b980d8c35513c19f",
       "version_major": 2,
       "version_minor": 0
      },
      "text/plain": [
       "HBox(children=(FloatProgress(value=0.0, max=9.0), HTML(value='')))"
      ]
     },
     "metadata": {},
     "output_type": "display_data"
    },
    {
     "data": {
      "application/vnd.jupyter.widget-view+json": {
       "model_id": "0ead47a3886b44f383ab32dc8eacdb6a",
       "version_major": 2,
       "version_minor": 0
      },
      "text/plain": [
       "HBox(children=(FloatProgress(value=0.0, max=3.0), HTML(value='')))"
      ]
     },
     "metadata": {},
     "output_type": "display_data"
    },
    {
     "name": "stdout",
     "output_type": "stream",
     "text": [
      "\n"
     ]
    },
    {
     "data": {
      "application/vnd.jupyter.widget-view+json": {
       "model_id": "351ed8ccbf47479ca25bba426489a416",
       "version_major": 2,
       "version_minor": 0
      },
      "text/plain": [
       "HBox(children=(FloatProgress(value=0.0, max=3.0), HTML(value='')))"
      ]
     },
     "metadata": {},
     "output_type": "display_data"
    },
    {
     "name": "stdout",
     "output_type": "stream",
     "text": [
      "\n"
     ]
    },
    {
     "data": {
      "application/vnd.jupyter.widget-view+json": {
       "model_id": "0ad507b3f26546ff8517e859b5c19d9c",
       "version_major": 2,
       "version_minor": 0
      },
      "text/plain": [
       "HBox(children=(FloatProgress(value=0.0, max=3.0), HTML(value='')))"
      ]
     },
     "metadata": {},
     "output_type": "display_data"
    },
    {
     "name": "stdout",
     "output_type": "stream",
     "text": [
      "\n"
     ]
    },
    {
     "data": {
      "application/vnd.jupyter.widget-view+json": {
       "model_id": "2b447a7d550d4f6189252a0fc6a49c45",
       "version_major": 2,
       "version_minor": 0
      },
      "text/plain": [
       "HBox(children=(FloatProgress(value=0.0, max=3.0), HTML(value='')))"
      ]
     },
     "metadata": {},
     "output_type": "display_data"
    },
    {
     "name": "stdout",
     "output_type": "stream",
     "text": [
      "\n"
     ]
    },
    {
     "data": {
      "application/vnd.jupyter.widget-view+json": {
       "model_id": "0b003646d38c44db8ad16554dba2668b",
       "version_major": 2,
       "version_minor": 0
      },
      "text/plain": [
       "HBox(children=(FloatProgress(value=0.0, max=3.0), HTML(value='')))"
      ]
     },
     "metadata": {},
     "output_type": "display_data"
    },
    {
     "name": "stdout",
     "output_type": "stream",
     "text": [
      "\n"
     ]
    },
    {
     "data": {
      "application/vnd.jupyter.widget-view+json": {
       "model_id": "ef98d37caf644535b19bbab35c5e8ce5",
       "version_major": 2,
       "version_minor": 0
      },
      "text/plain": [
       "HBox(children=(FloatProgress(value=0.0, max=3.0), HTML(value='')))"
      ]
     },
     "metadata": {},
     "output_type": "display_data"
    },
    {
     "name": "stdout",
     "output_type": "stream",
     "text": [
      "\n"
     ]
    },
    {
     "data": {
      "application/vnd.jupyter.widget-view+json": {
       "model_id": "19ee59cb06cf47499547876a159ad22c",
       "version_major": 2,
       "version_minor": 0
      },
      "text/plain": [
       "HBox(children=(FloatProgress(value=0.0, max=3.0), HTML(value='')))"
      ]
     },
     "metadata": {},
     "output_type": "display_data"
    },
    {
     "name": "stdout",
     "output_type": "stream",
     "text": [
      "\n"
     ]
    },
    {
     "data": {
      "application/vnd.jupyter.widget-view+json": {
       "model_id": "3c8ecdf99eac4022b8a1274000893bae",
       "version_major": 2,
       "version_minor": 0
      },
      "text/plain": [
       "HBox(children=(FloatProgress(value=0.0, max=3.0), HTML(value='')))"
      ]
     },
     "metadata": {},
     "output_type": "display_data"
    },
    {
     "name": "stdout",
     "output_type": "stream",
     "text": [
      "\n"
     ]
    },
    {
     "data": {
      "application/vnd.jupyter.widget-view+json": {
       "model_id": "03f3d4020a7a4eeeb8784401c2a7421a",
       "version_major": 2,
       "version_minor": 0
      },
      "text/plain": [
       "HBox(children=(FloatProgress(value=0.0, max=3.0), HTML(value='')))"
      ]
     },
     "metadata": {},
     "output_type": "display_data"
    },
    {
     "name": "stdout",
     "output_type": "stream",
     "text": [
      "\n",
      "\n"
     ]
    },
    {
     "data": {
      "text/plain": [
       "(Pipeline(memory=None,\n",
       "          steps=[('addprevnextfeatures',\n",
       "                  <__main__.AddPrevNextFeatures object at 0x7f93affe86d0>),\n",
       "                 ('xgbclassifier',\n",
       "                  XGBClassifier(base_score=0.5, booster=None,\n",
       "                                colsample_bylevel=1, colsample_bynode=1,\n",
       "                                colsample_bytree=1, gamma=0.0, gpu_id=-1,\n",
       "                                importance_type='gain',\n",
       "                                interaction_constraints=None, learning_rate=0.1,\n",
       "                                max_delta_step=0, max_depth=7,\n",
       "                                min_child_weight=2, missing=nan,\n",
       "                                monotone_constraints=None, n_estimators=1000,\n",
       "                                n_jobs=4, nthread=4, num_parallel_tree=1,\n",
       "                                objective='multi:softprob', random_state=0,\n",
       "                                reg_alpha=0.01, reg_lambda=1,\n",
       "                                scale_pos_weight=None, subsample=1,\n",
       "                                tree_method=None, validate_parameters=False,\n",
       "                                verbosity=None))],\n",
       "          verbose=False),\n",
       " 0.9899519297852334,\n",
       " 0.1,\n",
       " 1000)"
      ]
     },
     "execution_count": 61,
     "metadata": {},
     "output_type": "execute_result"
    }
   ],
   "source": [
    "params = product(\n",
    "    [0.05, 0.01, 0.005], # learning_rate\n",
    "    [1500, 1800, 2000] # n_estimators\n",
    ")\n",
    "\n",
    "for learning_rate_, n_estimators_ in tqdm(list(params)):\n",
    "    clf = make_pipeline(AddPrevNextFeatures(),\n",
    "                        XGBClassifier(learning_rate=learning_rate_,\n",
    "                                      n_estimators=n_estimators_,\n",
    "                                      max_depth=max_depth,\n",
    "                                      min_child_weight=min_child_weight,\n",
    "                                      gamma=gamma,\n",
    "                                      subsample=subsample,\n",
    "                                      colsample_bytree=colsample_bytree,\n",
    "                                      reg_alpha=reg_alpha,\n",
    "                                      nthread=4))\n",
    "    \n",
    "    score = train(clf)\n",
    "    results.append((score, clf))\n",
    "    if score > res_score:\n",
    "        learning_rate = learning_rate_\n",
    "        n_estimators = n_estimators_\n",
    "        res_score = score\n",
    "        res_model = clf\n",
    "        \n",
    "res_model, res_score, learning_rate, n_estimators"
   ]
  },
  {
   "cell_type": "markdown",
   "metadata": {},
   "source": [
    "#### Saving model"
   ]
  },
  {
   "cell_type": "code",
   "execution_count": 64,
   "metadata": {},
   "outputs": [],
   "source": [
    "import pickle as pkl\n",
    "pkl.dump(res_model, open(\"res_model.pkl\", \"wb\"))"
   ]
  },
  {
   "cell_type": "code",
   "execution_count": 62,
   "metadata": {},
   "outputs": [
    {
     "data": {
      "image/png": "[encoded data removed]",
      "text/plain": [
       "<Figure size 1080x360 with 1 Axes>"
      ]
     },
     "metadata": {
      "needs_background": "light"
     },
     "output_type": "display_data"
    }
   ],
   "source": [
    "y_ = list(map(lambda x: x[0], results))\n",
    "x_ = [i for i in range(len(y_))] \n",
    "plt.figure(figsize=(15, 5))\n",
    "plt.plot(x_, y_)\n",
    "plt.savefig('parameters.png')"
   ]
  },
  {
   "cell_type": "code",
   "execution_count": 79,
   "metadata": {},
   "outputs": [
    {
     "data": {
      "text/plain": [
       "[(0.9889593783489218,\n",
       "  Pipeline(memory=None,\n",
       "           steps=[('addprevnextfeatures',\n",
       "                   <__main__.AddPrevNextFeatures object at 0x7f93b0ee1950>),\n",
       "                  ('xgbclassifier',\n",
       "                   XGBClassifier(base_score=0.5, booster=None,\n",
       "                                 colsample_bylevel=1, colsample_bynode=1,\n",
       "                                 colsample_bytree=1, gamma=0, gpu_id=-1,\n",
       "                                 importance_type='gain',\n",
       "                                 interaction_constraints=None, learning_rate=0.1,\n",
       "                                 max_delta_step=0, max_depth=6,\n",
       "                                 min_child_weight=1, missing=nan,\n",
       "                                 monotone_constraints=None, n_estimators=200,\n",
       "                                 n_jobs=4, nthread=4, num_parallel_tree=1,\n",
       "                                 objective='multi:softprob', random_state=0,\n",
       "                                 reg_alpha=0, reg_lambda=1, scale_pos_weight=None,\n",
       "                                 subsample=1, tree_method=None,\n",
       "                                 validate_parameters=False, verbosity=None))],\n",
       "           verbose=False)),\n",
       " (0.989291404526794,\n",
       "  Pipeline(memory=None,\n",
       "           steps=[('addprevnextfeatures',\n",
       "                   <__main__.AddPrevNextFeatures object at 0x7f93b04bf590>),\n",
       "                  ('xgbclassifier',\n",
       "                   XGBClassifier(base_score=0.5, booster=None,\n",
       "                                 colsample_bylevel=1, colsample_bynode=1,\n",
       "                                 colsample_bytree=1, gamma=0, gpu_id=-1,\n",
       "                                 importance_type='gain',\n",
       "                                 interaction_constraints=None, learning_rate=0.1,\n",
       "                                 max_delta_step=0, max_depth=6,\n",
       "                                 min_child_weight=1, missing=nan,\n",
       "                                 monotone_constraints=None, n_estimators=400,\n",
       "                                 n_jobs=4, nthread=4, num_parallel_tree=1,\n",
       "                                 objective='multi:softprob', random_state=0,\n",
       "                                 reg_alpha=0, reg_lambda=1, scale_pos_weight=None,\n",
       "                                 subsample=1, tree_method=None,\n",
       "                                 validate_parameters=False, verbosity=None))],\n",
       "           verbose=False)),\n",
       " (0.9896008105775452,\n",
       "  Pipeline(memory=None,\n",
       "           steps=[('addprevnextfeatures',\n",
       "                   <__main__.AddPrevNextFeatures object at 0x7f93b0515250>),\n",
       "                  ('xgbclassifier',\n",
       "                   XGBClassifier(base_score=0.5, booster=None,\n",
       "                                 colsample_bylevel=1, colsample_bynode=1,\n",
       "                                 colsample_bytree=1, gamma=0, gpu_id=-1,\n",
       "                                 importance_type='gain',\n",
       "                                 interaction_constraints=None, learning_rate=0.1,\n",
       "                                 max_delta_step=0, max_depth=6,\n",
       "                                 min_child_weight=1, missing=nan,\n",
       "                                 monotone_constraints=None, n_estimators=600,\n",
       "                                 n_jobs=4, nthread=4, num_parallel_tree=1,\n",
       "                                 objective='multi:softprob', random_state=0,\n",
       "                                 reg_alpha=0, reg_lambda=1, scale_pos_weight=None,\n",
       "                                 subsample=1, tree_method=None,\n",
       "                                 validate_parameters=False, verbosity=None))],\n",
       "           verbose=False)),\n",
       " (0.9896008105775452,\n",
       "  Pipeline(memory=None,\n",
       "           steps=[('addprevnextfeatures',\n",
       "                   <__main__.AddPrevNextFeatures object at 0x7f93b0505050>),\n",
       "                  ('xgbclassifier',\n",
       "                   XGBClassifier(base_score=0.5, booster=None,\n",
       "                                 colsample_bylevel=1, colsample_bynode=1,\n",
       "                                 colsample_bytree=1, gamma=0, gpu_id=-1,\n",
       "                                 importance_type='gain',\n",
       "                                 interaction_constraints=None, learning_rate=0.1,\n",
       "                                 max_delta_step=0, max_depth=6,\n",
       "                                 min_child_weight=1, missing=nan,\n",
       "                                 monotone_constraints=None, n_estimators=800,\n",
       "                                 n_jobs=4, nthread=4, num_parallel_tree=1,\n",
       "                                 objective='multi:softprob', random_state=0,\n",
       "                                 reg_alpha=0, reg_lambda=1, scale_pos_weight=None,\n",
       "                                 subsample=1, tree_method=None,\n",
       "                                 validate_parameters=False, verbosity=None))],\n",
       "           verbose=False)),\n",
       " (0.9896660701899364,\n",
       "  Pipeline(memory=None,\n",
       "           steps=[('addprevnextfeatures',\n",
       "                   <__main__.AddPrevNextFeatures object at 0x7f93b0513850>),\n",
       "                  ('xgbclassifier',\n",
       "                   XGBClassifier(base_score=0.5, booster=None,\n",
       "                                 colsample_bylevel=1, colsample_bynode=1,\n",
       "                                 colsample_bytree=1, gamma=0, gpu_id=-1,\n",
       "                                 importance_type='gain',\n",
       "                                 interaction_constraints=None, learning_rate=0.1,\n",
       "                                 max_delta_step=0, max_depth=6,\n",
       "                                 min_child_weight=1, missing=nan,\n",
       "                                 monotone_constraints=None, n_estimators=1000,\n",
       "                                 n_jobs=4, nthread=4, num_parallel_tree=1,\n",
       "                                 objective='multi:softprob', random_state=0,\n",
       "                                 reg_alpha=0, reg_lambda=1, scale_pos_weight=None,\n",
       "                                 subsample=1, tree_method=None,\n",
       "                                 validate_parameters=False, verbosity=None))],\n",
       "           verbose=False)),\n",
       " (0.9893789283112762,\n",
       "  Pipeline(memory=None,\n",
       "           steps=[('addprevnextfeatures',\n",
       "                   <__main__.AddPrevNextFeatures object at 0x7f93b04df490>),\n",
       "                  ('xgbclassifier',\n",
       "                   XGBClassifier(base_score=0.5, booster=None,\n",
       "                                 colsample_bylevel=1, colsample_bynode=1,\n",
       "                                 colsample_bytree=1, gamma=0, gpu_id=-1,\n",
       "                                 importance_type='gain',\n",
       "                                 interaction_constraints=None, learning_rate=0.1,\n",
       "                                 max_delta_step=0, max_depth=6,\n",
       "                                 min_child_weight=1, missing=nan,\n",
       "                                 monotone_constraints=None, n_estimators=1200,\n",
       "                                 n_jobs=4, nthread=4, num_parallel_tree=1,\n",
       "                                 objective='multi:softprob', random_state=0,\n",
       "                                 reg_alpha=0, reg_lambda=1, scale_pos_weight=None,\n",
       "                                 subsample=1, tree_method=None,\n",
       "                                 validate_parameters=False, verbosity=None))],\n",
       "           verbose=False)),\n",
       " (0.9893789283112762,\n",
       "  Pipeline(memory=None,\n",
       "           steps=[('addprevnextfeatures',\n",
       "                   <__main__.AddPrevNextFeatures object at 0x7f93b04e4310>),\n",
       "                  ('xgbclassifier',\n",
       "                   XGBClassifier(base_score=0.5, booster=None,\n",
       "                                 colsample_bylevel=1, colsample_bynode=1,\n",
       "                                 colsample_bytree=1, gamma=0, gpu_id=-1,\n",
       "                                 importance_type='gain',\n",
       "                                 interaction_constraints=None, learning_rate=0.1,\n",
       "                                 max_delta_step=0, max_depth=6,\n",
       "                                 min_child_weight=1, missing=nan,\n",
       "                                 monotone_constraints=None, n_estimators=1400,\n",
       "                                 n_jobs=4, nthread=4, num_parallel_tree=1,\n",
       "                                 objective='multi:softprob', random_state=0,\n",
       "                                 reg_alpha=0, reg_lambda=1, scale_pos_weight=None,\n",
       "                                 subsample=1, tree_method=None,\n",
       "                                 validate_parameters=False, verbosity=None))],\n",
       "           verbose=False)),\n",
       " (0.9890935367016618,\n",
       "  Pipeline(memory=None,\n",
       "           steps=[('addprevnextfeatures',\n",
       "                   <__main__.AddPrevNextFeatures object at 0x7f93b04ce850>),\n",
       "                  ('xgbclassifier',\n",
       "                   XGBClassifier(base_score=0.5, booster=None,\n",
       "                                 colsample_bylevel=1, colsample_bynode=1,\n",
       "                                 colsample_bytree=1, gamma=0, gpu_id=-1,\n",
       "                                 importance_type='gain',\n",
       "                                 interaction_constraints=None, learning_rate=0.1,\n",
       "                                 max_delta_step=0, max_depth=6,\n",
       "                                 min_child_weight=1, missing=nan,\n",
       "                                 monotone_constraints=None, n_estimators=1600,\n",
       "                                 n_jobs=4, nthread=4, num_parallel_tree=1,\n",
       "                                 objective='multi:softprob', random_state=0,\n",
       "                                 reg_alpha=0, reg_lambda=1, scale_pos_weight=None,\n",
       "                                 subsample=1, tree_method=None,\n",
       "                                 validate_parameters=False, verbosity=None))],\n",
       "           verbose=False)),\n",
       " (0.9893693241825804,\n",
       "  Pipeline(memory=None,\n",
       "           steps=[('addprevnextfeatures',\n",
       "                   <__main__.AddPrevNextFeatures object at 0x7f93b04d4c10>),\n",
       "                  ('xgbclassifier',\n",
       "                   XGBClassifier(base_score=0.5, booster=None,\n",
       "                                 colsample_bylevel=1, colsample_bynode=1,\n",
       "                                 colsample_bytree=1, gamma=0, gpu_id=-1,\n",
       "                                 importance_type='gain',\n",
       "                                 interaction_constraints=None, learning_rate=0.1,\n",
       "                                 max_delta_step=0, max_depth=3,\n",
       "                                 min_child_weight=1, missing=nan,\n",
       "                                 monotone_constraints=None, n_estimators=1000,\n",
       "                                 n_jobs=4, nthread=4, num_parallel_tree=1,\n",
       "                                 objective='multi:softprob', random_state=0,\n",
       "                                 reg_alpha=0, reg_lambda=1, scale_pos_weight=None,\n",
       "                                 subsample=1, tree_method=None,\n",
       "                                 validate_parameters=False, verbosity=None))],\n",
       "           verbose=False)),\n",
       " (0.9613116084245928,\n",
       "  Pipeline(memory=None,\n",
       "           steps=[('addprevnextfeatures',\n",
       "                   <__main__.AddPrevNextFeatures object at 0x7f93b04ba190>),\n",
       "                  ('xgbclassifier',\n",
       "                   XGBClassifier(base_score=0.5, booster=None,\n",
       "                                 colsample_bylevel=1, colsample_bynode=1,\n",
       "                                 colsample_bytree=1, gamma=0, gpu_id=-1,\n",
       "                                 importance_type='gain',\n",
       "                                 interaction_constraints=None, learning_rate=0.1,\n",
       "                                 max_delta_step=0, max_depth=3,\n",
       "                                 min_child_weight=2, missing=nan,\n",
       "                                 monotone_constraints=None, n_estimators=1000,\n",
       "                                 n_jobs=4, nthread=4, num_parallel_tree=1,\n",
       "                                 objective='multi:softprob', random_state=0,\n",
       "                                 reg_alpha=0, reg_lambda=1, scale_pos_weight=None,\n",
       "                                 subsample=1, tree_method=None,\n",
       "                                 validate_parameters=False, verbosity=None))],\n",
       "           verbose=False)),\n",
       " (0.9610504303806011,\n",
       "  Pipeline(memory=None,\n",
       "           steps=[('addprevnextfeatures',\n",
       "                   <__main__.AddPrevNextFeatures object at 0x7f93b0432390>),\n",
       "                  ('xgbclassifier',\n",
       "                   XGBClassifier(base_score=0.5, booster=None,\n",
       "                                 colsample_bylevel=1, colsample_bynode=1,\n",
       "                                 colsample_bytree=1, gamma=0, gpu_id=-1,\n",
       "                                 importance_type='gain',\n",
       "                                 interaction_constraints=None, learning_rate=0.1,\n",
       "                                 max_delta_step=0, max_depth=3,\n",
       "                                 min_child_weight=3, missing=nan,\n",
       "                                 monotone_constraints=None, n_estimators=1000,\n",
       "                                 n_jobs=4, nthread=4, num_parallel_tree=1,\n",
       "                                 objective='multi:softprob', random_state=0,\n",
       "                                 reg_alpha=0, reg_lambda=1, scale_pos_weight=None,\n",
       "                                 subsample=1, tree_method=None,\n",
       "                                 validate_parameters=False, verbosity=None))],\n",
       "           verbose=False)),\n",
       " (0.9601088860387188,\n",
       "  Pipeline(memory=None,\n",
       "           steps=[('addprevnextfeatures',\n",
       "                   <__main__.AddPrevNextFeatures object at 0x7f93b0424590>),\n",
       "                  ('xgbclassifier',\n",
       "                   XGBClassifier(base_score=0.5, booster=None,\n",
       "                                 colsample_bylevel=1, colsample_bynode=1,\n",
       "                                 colsample_bytree=1, gamma=0, gpu_id=-1,\n",
       "                                 importance_type='gain',\n",
       "                                 interaction_constraints=None, learning_rate=0.1,\n",
       "                                 max_delta_step=0, max_depth=3,\n",
       "                                 min_child_weight=4, missing=nan,\n",
       "                                 monotone_constraints=None, n_estimators=1000,\n",
       "                                 n_jobs=4, nthread=4, num_parallel_tree=1,\n",
       "                                 objective='multi:softprob', random_state=0,\n",
       "                                 reg_alpha=0, reg_lambda=1, scale_pos_weight=None,\n",
       "                                 subsample=1, tree_method=None,\n",
       "                                 validate_parameters=False, verbosity=None))],\n",
       "           verbose=False)),\n",
       " (0.960410225129861,\n",
       "  Pipeline(memory=None,\n",
       "           steps=[('addprevnextfeatures',\n",
       "                   <__main__.AddPrevNextFeatures object at 0x7f93b042f090>),\n",
       "                  ('xgbclassifier',\n",
       "                   XGBClassifier(base_score=0.5, booster=None,\n",
       "                                 colsample_bylevel=1, colsample_bynode=1,\n",
       "                                 colsample_bytree=1, gamma=0, gpu_id=-1,\n",
       "                                 importance_type='gain',\n",
       "                                 interaction_constraints=None, learning_rate=0.1,\n",
       "                                 max_delta_step=0, max_depth=3,\n",
       "                                 min_child_weight=5, missing=nan,\n",
       "                                 monotone_constraints=None, n_estimators=1000,\n",
       "                                 n_jobs=4, nthread=4, num_parallel_tree=1,\n",
       "                                 objective='multi:softprob', random_state=0,\n",
       "                                 reg_alpha=0, reg_lambda=1, scale_pos_weight=None,\n",
       "                                 subsample=1, tree_method=None,\n",
       "                                 validate_parameters=False, verbosity=None))],\n",
       "           verbose=False)),\n",
       " (0.988890355307633,\n",
       "  Pipeline(memory=None,\n",
       "           steps=[('addprevnextfeatures',\n",
       "                   <__main__.AddPrevNextFeatures object at 0x7f93b0439a90>),\n",
       "                  ('xgbclassifier',\n",
       "                   XGBClassifier(base_score=0.5, booster=None,\n",
       "                                 colsample_bylevel=1, colsample_bynode=1,\n",
       "                                 colsample_bytree=1, gamma=0, gpu_id=-1,\n",
       "                                 importance_type='gain',\n",
       "                                 interaction_constraints=None, learning_rate=0.1,\n",
       "                                 max_delta_step=0, max_depth=4,\n",
       "                                 min_child_weight=1, missing=nan,\n",
       "                                 monotone_constraints=None, n_estimators=1000,\n",
       "                                 n_jobs=4, nthread=4, num_parallel_tree=1,\n",
       "                                 objective='multi:softprob', random_state=0,\n",
       "                                 reg_alpha=0, reg_lambda=1, scale_pos_weight=None,\n",
       "                                 subsample=1, tree_method=None,\n",
       "                                 validate_parameters=False, verbosity=None))],\n",
       "           verbose=False)),\n",
       " (0.9616080716568494,\n",
       "  Pipeline(memory=None,\n",
       "           steps=[('addprevnextfeatures',\n",
       "                   <__main__.AddPrevNextFeatures object at 0x7f93af84fa10>),\n",
       "                  ('xgbclassifier',\n",
       "                   XGBClassifier(base_score=0.5, booster=None,\n",
       "                                 colsample_bylevel=1, colsample_bynode=1,\n",
       "                                 colsample_bytree=1, gamma=0, gpu_id=-1,\n",
       "                                 importance_type='gain',\n",
       "                                 interaction_constraints=None, learning_rate=0.1,\n",
       "                                 max_delta_step=0, max_depth=4,\n",
       "                                 min_child_weight=2, missing=nan,\n",
       "                                 monotone_constraints=None, n_estimators=1000,\n",
       "                                 n_jobs=4, nthread=4, num_parallel_tree=1,\n",
       "                                 objective='multi:softprob', random_state=0,\n",
       "                                 reg_alpha=0, reg_lambda=1, scale_pos_weight=None,\n",
       "                                 subsample=1, tree_method=None,\n",
       "                                 validate_parameters=False, verbosity=None))],\n",
       "           verbose=False)),\n",
       " (0.9617809707907045,\n",
       "  Pipeline(memory=None,\n",
       "           steps=[('addprevnextfeatures',\n",
       "                   <__main__.AddPrevNextFeatures object at 0x7f93af871310>),\n",
       "                  ('xgbclassifier',\n",
       "                   XGBClassifier(base_score=0.5, booster=None,\n",
       "                                 colsample_bylevel=1, colsample_bynode=1,\n",
       "                                 colsample_bytree=1, gamma=0, gpu_id=-1,\n",
       "                                 importance_type='gain',\n",
       "                                 interaction_constraints=None, learning_rate=0.1,\n",
       "                                 max_delta_step=0, max_depth=4,\n",
       "                                 min_child_weight=3, missing=nan,\n",
       "                                 monotone_constraints=None, n_estimators=1000,\n",
       "                                 n_jobs=4, nthread=4, num_parallel_tree=1,\n",
       "                                 objective='multi:softprob', random_state=0,\n",
       "                                 reg_alpha=0, reg_lambda=1, scale_pos_weight=None,\n",
       "                                 subsample=1, tree_method=None,\n",
       "                                 validate_parameters=False, verbosity=None))],\n",
       "           verbose=False)),\n",
       " (0.9618197409833109,\n",
       "  Pipeline(memory=None,\n",
       "           steps=[('addprevnextfeatures',\n",
       "                   <__main__.AddPrevNextFeatures object at 0x7f93af83e710>),\n",
       "                  ('xgbclassifier',\n",
       "                   XGBClassifier(base_score=0.5, booster=None,\n",
       "                                 colsample_bylevel=1, colsample_bynode=1,\n",
       "                                 colsample_bytree=1, gamma=0, gpu_id=-1,\n",
       "                                 importance_type='gain',\n",
       "                                 interaction_constraints=None, learning_rate=0.1,\n",
       "                                 max_delta_step=0, max_depth=4,\n",
       "                                 min_child_weight=4, missing=nan,\n",
       "                                 monotone_constraints=None, n_estimators=1000,\n",
       "                                 n_jobs=4, nthread=4, num_parallel_tree=1,\n",
       "                                 objective='multi:softprob', random_state=0,\n",
       "                                 reg_alpha=0, reg_lambda=1, scale_pos_weight=None,\n",
       "                                 subsample=1, tree_method=None,\n",
       "                                 validate_parameters=False, verbosity=None))],\n",
       "           verbose=False)),\n",
       " (0.961710148566084,\n",
       "  Pipeline(memory=None,\n",
       "           steps=[('addprevnextfeatures',\n",
       "                   <__main__.AddPrevNextFeatures object at 0x7f93b042ee50>),\n",
       "                  ('xgbclassifier',\n",
       "                   XGBClassifier(base_score=0.5, booster=None,\n",
       "                                 colsample_bylevel=1, colsample_bynode=1,\n",
       "                                 colsample_bytree=1, gamma=0, gpu_id=-1,\n",
       "                                 importance_type='gain',\n",
       "                                 interaction_constraints=None, learning_rate=0.1,\n",
       "                                 max_delta_step=0, max_depth=4,\n",
       "                                 min_child_weight=5, missing=nan,\n",
       "                                 monotone_constraints=None, n_estimators=1000,\n",
       "                                 n_jobs=4, nthread=4, num_parallel_tree=1,\n",
       "                                 objective='multi:softprob', random_state=0,\n",
       "                                 reg_alpha=0, reg_lambda=1, scale_pos_weight=None,\n",
       "                                 subsample=1, tree_method=None,\n",
       "                                 validate_parameters=False, verbosity=None))],\n",
       "           verbose=False)),\n",
       " (0.9893485413531075,\n",
       "  Pipeline(memory=None,\n",
       "           steps=[('addprevnextfeatures',\n",
       "                   <__main__.AddPrevNextFeatures object at 0x7f93af847a10>),\n",
       "                  ('xgbclassifier',\n",
       "                   XGBClassifier(base_score=0.5, booster=None,\n",
       "                                 colsample_bylevel=1, colsample_bynode=1,\n",
       "                                 colsample_bytree=1, gamma=0, gpu_id=-1,\n",
       "                                 importance_type='gain',\n",
       "                                 interaction_constraints=None, learning_rate=0.1,\n",
       "                                 max_delta_step=0, max_depth=5,\n",
       "                                 min_child_weight=1, missing=nan,\n",
       "                                 monotone_constraints=None, n_estimators=1000,\n",
       "                                 n_jobs=4, nthread=4, num_parallel_tree=1,\n",
       "                                 objective='multi:softprob', random_state=0,\n",
       "                                 reg_alpha=0, reg_lambda=1, scale_pos_weight=None,\n",
       "                                 subsample=1, tree_method=None,\n",
       "                                 validate_parameters=False, verbosity=None))],\n",
       "           verbose=False)),\n",
       " (0.9893172218641921,\n",
       "  Pipeline(memory=None,\n",
       "           steps=[('addprevnextfeatures',\n",
       "                   <__main__.AddPrevNextFeatures object at 0x7f93b0474790>),\n",
       "                  ('xgbclassifier',\n",
       "                   XGBClassifier(base_score=0.5, booster=None,\n",
       "                                 colsample_bylevel=1, colsample_bynode=1,\n",
       "                                 colsample_bytree=1, gamma=0, gpu_id=-1,\n",
       "                                 importance_type='gain',\n",
       "                                 interaction_constraints=None, learning_rate=0.1,\n",
       "                                 max_delta_step=0, max_depth=5,\n",
       "                                 min_child_weight=2, missing=nan,\n",
       "                                 monotone_constraints=None, n_estimators=1000,\n",
       "                                 n_jobs=4, nthread=4, num_parallel_tree=1,\n",
       "                                 objective='multi:softprob', random_state=0,\n",
       "                                 reg_alpha=0, reg_lambda=1, scale_pos_weight=None,\n",
       "                                 subsample=1, tree_method=None,\n",
       "                                 validate_parameters=False, verbosity=None))],\n",
       "           verbose=False)),\n",
       " (0.9614806951785653,\n",
       "  Pipeline(memory=None,\n",
       "           steps=[('addprevnextfeatures',\n",
       "                   <__main__.AddPrevNextFeatures object at 0x7f93b0465250>),\n",
       "                  ('xgbclassifier',\n",
       "                   XGBClassifier(base_score=0.5, booster=None,\n",
       "                                 colsample_bylevel=1, colsample_bynode=1,\n",
       "                                 colsample_bytree=1, gamma=0, gpu_id=-1,\n",
       "                                 importance_type='gain',\n",
       "                                 interaction_constraints=None, learning_rate=0.1,\n",
       "                                 max_delta_step=0, max_depth=5,\n",
       "                                 min_child_weight=3, missing=nan,\n",
       "                                 monotone_constraints=None, n_estimators=1000,\n",
       "                                 n_jobs=4, nthread=4, num_parallel_tree=1,\n",
       "                                 objective='multi:softprob', random_state=0,\n",
       "                                 reg_alpha=0, reg_lambda=1, scale_pos_weight=None,\n",
       "                                 subsample=1, tree_method=None,\n",
       "                                 validate_parameters=False, verbosity=None))],\n",
       "           verbose=False)),\n",
       " (0.9620748990478291,\n",
       "  Pipeline(memory=None,\n",
       "           steps=[('addprevnextfeatures',\n",
       "                   <__main__.AddPrevNextFeatures object at 0x7f93b048e8d0>),\n",
       "                  ('xgbclassifier',\n",
       "                   XGBClassifier(base_score=0.5, booster=None,\n",
       "                                 colsample_bylevel=1, colsample_bynode=1,\n",
       "                                 colsample_bytree=1, gamma=0, gpu_id=-1,\n",
       "                                 importance_type='gain',\n",
       "                                 interaction_constraints=None, learning_rate=0.1,\n",
       "                                 max_delta_step=0, max_depth=5,\n",
       "                                 min_child_weight=4, missing=nan,\n",
       "                                 monotone_constraints=None, n_estimators=1000,\n",
       "                                 n_jobs=4, nthread=4, num_parallel_tree=1,\n",
       "                                 objective='multi:softprob', random_state=0,\n",
       "                                 reg_alpha=0, reg_lambda=1, scale_pos_weight=None,\n",
       "                                 subsample=1, tree_method=None,\n",
       "                                 validate_parameters=False, verbosity=None))],\n",
       "           verbose=False)),\n",
       " (0.9627226244576095,\n",
       "  Pipeline(memory=None,\n",
       "           steps=[('addprevnextfeatures',\n",
       "                   <__main__.AddPrevNextFeatures object at 0x7f93b048e6d0>),\n",
       "                  ('xgbclassifier',\n",
       "                   XGBClassifier(base_score=0.5, booster=None,\n",
       "                                 colsample_bylevel=1, colsample_bynode=1,\n",
       "                                 colsample_bytree=1, gamma=0, gpu_id=-1,\n",
       "                                 importance_type='gain',\n",
       "                                 interaction_constraints=None, learning_rate=0.1,\n",
       "                                 max_delta_step=0, max_depth=5,\n",
       "                                 min_child_weight=5, missing=nan,\n",
       "                                 monotone_constraints=None, n_estimators=1000,\n",
       "                                 n_jobs=4, nthread=4, num_parallel_tree=1,\n",
       "                                 objective='multi:softprob', random_state=0,\n",
       "                                 reg_alpha=0, reg_lambda=1, scale_pos_weight=None,\n",
       "                                 subsample=1, tree_method=None,\n",
       "                                 validate_parameters=False, verbosity=None))],\n",
       "           verbose=False)),\n",
       " (0.9896660701899364,\n",
       "  Pipeline(memory=None,\n",
       "           steps=[('addprevnextfeatures',\n",
       "                   <__main__.AddPrevNextFeatures object at 0x7f93b03f9690>),\n",
       "                  ('xgbclassifier',\n",
       "                   XGBClassifier(base_score=0.5, booster=None,\n",
       "                                 colsample_bylevel=1, colsample_bynode=1,\n",
       "                                 colsample_bytree=1, gamma=0, gpu_id=-1,\n",
       "                                 importance_type='gain',\n",
       "                                 interaction_constraints=None, learning_rate=0.1,\n",
       "                                 max_delta_step=0, max_depth=6,\n",
       "                                 min_child_weight=1, missing=nan,\n",
       "                                 monotone_constraints=None, n_estimators=1000,\n",
       "                                 n_jobs=4, nthread=4, num_parallel_tree=1,\n",
       "                                 objective='multi:softprob', random_state=0,\n",
       "                                 reg_alpha=0, reg_lambda=1, scale_pos_weight=None,\n",
       "                                 subsample=1, tree_method=None,\n",
       "                                 validate_parameters=False, verbosity=None))],\n",
       "           verbose=False)),\n",
       " (0.9892630191595625,\n",
       "  Pipeline(memory=None,\n",
       "           steps=[('addprevnextfeatures',\n",
       "                   <__main__.AddPrevNextFeatures object at 0x7f93b0401610>),\n",
       "                  ('xgbclassifier',\n",
       "                   XGBClassifier(base_score=0.5, booster=None,\n",
       "                                 colsample_bylevel=1, colsample_bynode=1,\n",
       "                                 colsample_bytree=1, gamma=0, gpu_id=-1,\n",
       "                                 importance_type='gain',\n",
       "                                 interaction_constraints=None, learning_rate=0.1,\n",
       "                                 max_delta_step=0, max_depth=6,\n",
       "                                 min_child_weight=2, missing=nan,\n",
       "                                 monotone_constraints=None, n_estimators=1000,\n",
       "                                 n_jobs=4, nthread=4, num_parallel_tree=1,\n",
       "                                 objective='multi:softprob', random_state=0,\n",
       "                                 reg_alpha=0, reg_lambda=1, scale_pos_weight=None,\n",
       "                                 subsample=1, tree_method=None,\n",
       "                                 validate_parameters=False, verbosity=None))],\n",
       "           verbose=False)),\n",
       " (0.9623766572808045,\n",
       "  Pipeline(memory=None,\n",
       "           steps=[('addprevnextfeatures',\n",
       "                   <__main__.AddPrevNextFeatures object at 0x7f93b03f3910>),\n",
       "                  ('xgbclassifier',\n",
       "                   XGBClassifier(base_score=0.5, booster=None,\n",
       "                                 colsample_bylevel=1, colsample_bynode=1,\n",
       "                                 colsample_bytree=1, gamma=0, gpu_id=-1,\n",
       "                                 importance_type='gain',\n",
       "                                 interaction_constraints=None, learning_rate=0.1,\n",
       "                                 max_delta_step=0, max_depth=6,\n",
       "                                 min_child_weight=3, missing=nan,\n",
       "                                 monotone_constraints=None, n_estimators=1000,\n",
       "                                 n_jobs=4, nthread=4, num_parallel_tree=1,\n",
       "                                 objective='multi:softprob', random_state=0,\n",
       "                                 reg_alpha=0, reg_lambda=1, scale_pos_weight=None,\n",
       "                                 subsample=1, tree_method=None,\n",
       "                                 validate_parameters=False, verbosity=None))],\n",
       "           verbose=False)),\n",
       " (0.962074633283922,\n",
       "  Pipeline(memory=None,\n",
       "           steps=[('addprevnextfeatures',\n",
       "                   <__main__.AddPrevNextFeatures object at 0x7f93b0406350>),\n",
       "                  ('xgbclassifier',\n",
       "                   XGBClassifier(base_score=0.5, booster=None,\n",
       "                                 colsample_bylevel=1, colsample_bynode=1,\n",
       "                                 colsample_bytree=1, gamma=0, gpu_id=-1,\n",
       "                                 importance_type='gain',\n",
       "                                 interaction_constraints=None, learning_rate=0.1,\n",
       "                                 max_delta_step=0, max_depth=6,\n",
       "                                 min_child_weight=4, missing=nan,\n",
       "                                 monotone_constraints=None, n_estimators=1000,\n",
       "                                 n_jobs=4, nthread=4, num_parallel_tree=1,\n",
       "                                 objective='multi:softprob', random_state=0,\n",
       "                                 reg_alpha=0, reg_lambda=1, scale_pos_weight=None,\n",
       "                                 subsample=1, tree_method=None,\n",
       "                                 validate_parameters=False, verbosity=None))],\n",
       "           verbose=False)),\n",
       " (0.9620978967991732,\n",
       "  Pipeline(memory=None,\n",
       "           steps=[('addprevnextfeatures',\n",
       "                   <__main__.AddPrevNextFeatures object at 0x7f93b03df790>),\n",
       "                  ('xgbclassifier',\n",
       "                   XGBClassifier(base_score=0.5, booster=None,\n",
       "                                 colsample_bylevel=1, colsample_bynode=1,\n",
       "                                 colsample_bytree=1, gamma=0, gpu_id=-1,\n",
       "                                 importance_type='gain',\n",
       "                                 interaction_constraints=None, learning_rate=0.1,\n",
       "                                 max_delta_step=0, max_depth=6,\n",
       "                                 min_child_weight=5, missing=nan,\n",
       "                                 monotone_constraints=None, n_estimators=1000,\n",
       "                                 n_jobs=4, nthread=4, num_parallel_tree=1,\n",
       "                                 objective='multi:softprob', random_state=0,\n",
       "                                 reg_alpha=0, reg_lambda=1, scale_pos_weight=None,\n",
       "                                 subsample=1, tree_method=None,\n",
       "                                 validate_parameters=False, verbosity=None))],\n",
       "           verbose=False)),\n",
       " (0.9895797244518943,\n",
       "  Pipeline(memory=None,\n",
       "           steps=[('addprevnextfeatures',\n",
       "                   <__main__.AddPrevNextFeatures object at 0x7f93affad810>),\n",
       "                  ('xgbclassifier',\n",
       "                   XGBClassifier(base_score=0.5, booster=None,\n",
       "                                 colsample_bylevel=1, colsample_bynode=1,\n",
       "                                 colsample_bytree=1, gamma=0, gpu_id=-1,\n",
       "                                 importance_type='gain',\n",
       "                                 interaction_constraints=None, learning_rate=0.1,\n",
       "                                 max_delta_step=0, max_depth=7,\n",
       "                                 min_child_weight=1, missing=nan,\n",
       "                                 monotone_constraints=None, n_estimators=1000,\n",
       "                                 n_jobs=4, nthread=4, num_parallel_tree=1,\n",
       "                                 objective='multi:softprob', random_state=0,\n",
       "                                 reg_alpha=0, reg_lambda=1, scale_pos_weight=None,\n",
       "                                 subsample=1, tree_method=None,\n",
       "                                 validate_parameters=False, verbosity=None))],\n",
       "           verbose=False)),\n",
       " (0.9899207278037889,\n",
       "  Pipeline(memory=None,\n",
       "           steps=[('addprevnextfeatures',\n",
       "                   <__main__.AddPrevNextFeatures object at 0x7f93affd4250>),\n",
       "                  ('xgbclassifier',\n",
       "                   XGBClassifier(base_score=0.5, booster=None,\n",
       "                                 colsample_bylevel=1, colsample_bynode=1,\n",
       "                                 colsample_bytree=1, gamma=0, gpu_id=-1,\n",
       "                                 importance_type='gain',\n",
       "                                 interaction_constraints=None, learning_rate=0.1,\n",
       "                                 max_delta_step=0, max_depth=7,\n",
       "                                 min_child_weight=2, missing=nan,\n",
       "                                 monotone_constraints=None, n_estimators=1000,\n",
       "                                 n_jobs=4, nthread=4, num_parallel_tree=1,\n",
       "                                 objective='multi:softprob', random_state=0,\n",
       "                                 reg_alpha=0, reg_lambda=1, scale_pos_weight=None,\n",
       "                                 subsample=1, tree_method=None,\n",
       "                                 validate_parameters=False, verbosity=None))],\n",
       "           verbose=False)),\n",
       " (0.9895972785971149,\n",
       "  Pipeline(memory=None,\n",
       "           steps=[('addprevnextfeatures',\n",
       "                   <__main__.AddPrevNextFeatures object at 0x7f93affaf750>),\n",
       "                  ('xgbclassifier',\n",
       "                   XGBClassifier(base_score=0.5, booster=None,\n",
       "                                 colsample_bylevel=1, colsample_bynode=1,\n",
       "                                 colsample_bytree=1, gamma=0, gpu_id=-1,\n",
       "                                 importance_type='gain',\n",
       "                                 interaction_constraints=None, learning_rate=0.1,\n",
       "                                 max_delta_step=0, max_depth=7,\n",
       "                                 min_child_weight=3, missing=nan,\n",
       "                                 monotone_constraints=None, n_estimators=1000,\n",
       "                                 n_jobs=4, nthread=4, num_parallel_tree=1,\n",
       "                                 objective='multi:softprob', random_state=0,\n",
       "                                 reg_alpha=0, reg_lambda=1, scale_pos_weight=None,\n",
       "                                 subsample=1, tree_method=None,\n",
       "                                 validate_parameters=False, verbosity=None))],\n",
       "           verbose=False)),\n",
       " (0.9617522225078655,\n",
       "  Pipeline(memory=None,\n",
       "           steps=[('addprevnextfeatures',\n",
       "                   <__main__.AddPrevNextFeatures object at 0x7f93affb1690>),\n",
       "                  ('xgbclassifier',\n",
       "                   XGBClassifier(base_score=0.5, booster=None,\n",
       "                                 colsample_bylevel=1, colsample_bynode=1,\n",
       "                                 colsample_bytree=1, gamma=0, gpu_id=-1,\n",
       "                                 importance_type='gain',\n",
       "                                 interaction_constraints=None, learning_rate=0.1,\n",
       "                                 max_delta_step=0, max_depth=7,\n",
       "                                 min_child_weight=4, missing=nan,\n",
       "                                 monotone_constraints=None, n_estimators=1000,\n",
       "                                 n_jobs=4, nthread=4, num_parallel_tree=1,\n",
       "                                 objective='multi:softprob', random_state=0,\n",
       "                                 reg_alpha=0, reg_lambda=1, scale_pos_weight=None,\n",
       "                                 subsample=1, tree_method=None,\n",
       "                                 validate_parameters=False, verbosity=None))],\n",
       "           verbose=False)),\n",
       " (0.9615355899201118,\n",
       "  Pipeline(memory=None,\n",
       "           steps=[('addprevnextfeatures',\n",
       "                   <__main__.AddPrevNextFeatures object at 0x7f93b03c0290>),\n",
       "                  ('xgbclassifier',\n",
       "                   XGBClassifier(base_score=0.5, booster=None,\n",
       "                                 colsample_bylevel=1, colsample_bynode=1,\n",
       "                                 colsample_bytree=1, gamma=0, gpu_id=-1,\n",
       "                                 importance_type='gain',\n",
       "                                 interaction_constraints=None, learning_rate=0.1,\n",
       "                                 max_delta_step=0, max_depth=7,\n",
       "                                 min_child_weight=5, missing=nan,\n",
       "                                 monotone_constraints=None, n_estimators=1000,\n",
       "                                 n_jobs=4, nthread=4, num_parallel_tree=1,\n",
       "                                 objective='multi:softprob', random_state=0,\n",
       "                                 reg_alpha=0, reg_lambda=1, scale_pos_weight=None,\n",
       "                                 subsample=1, tree_method=None,\n",
       "                                 validate_parameters=False, verbosity=None))],\n",
       "           verbose=False)),\n",
       " (0.989260567834027,\n",
       "  Pipeline(memory=None,\n",
       "           steps=[('addprevnextfeatures',\n",
       "                   <__main__.AddPrevNextFeatures object at 0x7f93b03b9610>),\n",
       "                  ('xgbclassifier',\n",
       "                   XGBClassifier(base_score=0.5, booster=None,\n",
       "                                 colsample_bylevel=1, colsample_bynode=1,\n",
       "                                 colsample_bytree=1, gamma=0, gpu_id=-1,\n",
       "                                 importance_type='gain',\n",
       "                                 interaction_constraints=None, learning_rate=0.1,\n",
       "                                 max_delta_step=0, max_depth=8,\n",
       "                                 min_child_weight=1, missing=nan,\n",
       "                                 monotone_constraints=None, n_estimators=1000,\n",
       "                                 n_jobs=4, nthread=4, num_parallel_tree=1,\n",
       "                                 objective='multi:softprob', random_state=0,\n",
       "                                 reg_alpha=0, reg_lambda=1, scale_pos_weight=None,\n",
       "                                 subsample=1, tree_method=None,\n",
       "                                 validate_parameters=False, verbosity=None))],\n",
       "           verbose=False)),\n",
       " (0.9898257857915609,\n",
       "  Pipeline(memory=None,\n",
       "           steps=[('addprevnextfeatures',\n",
       "                   <__main__.AddPrevNextFeatures object at 0x7f93b03ac850>),\n",
       "                  ('xgbclassifier',\n",
       "                   XGBClassifier(base_score=0.5, booster=None,\n",
       "                                 colsample_bylevel=1, colsample_bynode=1,\n",
       "                                 colsample_bytree=1, gamma=0, gpu_id=-1,\n",
       "                                 importance_type='gain',\n",
       "                                 interaction_constraints=None, learning_rate=0.1,\n",
       "                                 max_delta_step=0, max_depth=8,\n",
       "                                 min_child_weight=2, missing=nan,\n",
       "                                 monotone_constraints=None, n_estimators=1000,\n",
       "                                 n_jobs=4, nthread=4, num_parallel_tree=1,\n",
       "                                 objective='multi:softprob', random_state=0,\n",
       "                                 reg_alpha=0, reg_lambda=1, scale_pos_weight=None,\n",
       "                                 subsample=1, tree_method=None,\n",
       "                                 validate_parameters=False, verbosity=None))],\n",
       "           verbose=False)),\n",
       " (0.9894956595374618,\n",
       "  Pipeline(memory=None,\n",
       "           steps=[('addprevnextfeatures',\n",
       "                   <__main__.AddPrevNextFeatures object at 0x7f93b03d32d0>),\n",
       "                  ('xgbclassifier',\n",
       "                   XGBClassifier(base_score=0.5, booster=None,\n",
       "                                 colsample_bylevel=1, colsample_bynode=1,\n",
       "                                 colsample_bytree=1, gamma=0, gpu_id=-1,\n",
       "                                 importance_type='gain',\n",
       "                                 interaction_constraints=None, learning_rate=0.1,\n",
       "                                 max_delta_step=0, max_depth=8,\n",
       "                                 min_child_weight=3, missing=nan,\n",
       "                                 monotone_constraints=None, n_estimators=1000,\n",
       "                                 n_jobs=4, nthread=4, num_parallel_tree=1,\n",
       "                                 objective='multi:softprob', random_state=0,\n",
       "                                 reg_alpha=0, reg_lambda=1, scale_pos_weight=None,\n",
       "                                 subsample=1, tree_method=None,\n",
       "                                 validate_parameters=False, verbosity=None))],\n",
       "           verbose=False)),\n",
       " (0.9619819968704704,\n",
       "  Pipeline(memory=None,\n",
       "           steps=[('addprevnextfeatures',\n",
       "                   <__main__.AddPrevNextFeatures object at 0x7f93b03480d0>),\n",
       "                  ('xgbclassifier',\n",
       "                   XGBClassifier(base_score=0.5, booster=None,\n",
       "                                 colsample_bylevel=1, colsample_bynode=1,\n",
       "                                 colsample_bytree=1, gamma=0, gpu_id=-1,\n",
       "                                 importance_type='gain',\n",
       "                                 interaction_constraints=None, learning_rate=0.1,\n",
       "                                 max_delta_step=0, max_depth=8,\n",
       "                                 min_child_weight=4, missing=nan,\n",
       "                                 monotone_constraints=None, n_estimators=1000,\n",
       "                                 n_jobs=4, nthread=4, num_parallel_tree=1,\n",
       "                                 objective='multi:softprob', random_state=0,\n",
       "                                 reg_alpha=0, reg_lambda=1, scale_pos_weight=None,\n",
       "                                 subsample=1, tree_method=None,\n",
       "                                 validate_parameters=False, verbosity=None))],\n",
       "           verbose=False)),\n",
       " (0.9620266402884706,\n",
       "  Pipeline(memory=None,\n",
       "           steps=[('addprevnextfeatures',\n",
       "                   <__main__.AddPrevNextFeatures object at 0x7f93b037c9d0>),\n",
       "                  ('xgbclassifier',\n",
       "                   XGBClassifier(base_score=0.5, booster=None,\n",
       "                                 colsample_bylevel=1, colsample_bynode=1,\n",
       "                                 colsample_bytree=1, gamma=0, gpu_id=-1,\n",
       "                                 importance_type='gain',\n",
       "                                 interaction_constraints=None, learning_rate=0.1,\n",
       "                                 max_delta_step=0, max_depth=8,\n",
       "                                 min_child_weight=5, missing=nan,\n",
       "                                 monotone_constraints=None, n_estimators=1000,\n",
       "                                 n_jobs=4, nthread=4, num_parallel_tree=1,\n",
       "                                 objective='multi:softprob', random_state=0,\n",
       "                                 reg_alpha=0, reg_lambda=1, scale_pos_weight=None,\n",
       "                                 subsample=1, tree_method=None,\n",
       "                                 validate_parameters=False, verbosity=None))],\n",
       "           verbose=False)),\n",
       " (0.988981166103826,\n",
       "  Pipeline(memory=None,\n",
       "           steps=[('addprevnextfeatures',\n",
       "                   <__main__.AddPrevNextFeatures object at 0x7f93b037e650>),\n",
       "                  ('xgbclassifier',\n",
       "                   XGBClassifier(base_score=0.5, booster=None,\n",
       "                                 colsample_bylevel=1, colsample_bynode=1,\n",
       "                                 colsample_bytree=1, gamma=0, gpu_id=-1,\n",
       "                                 importance_type='gain',\n",
       "                                 interaction_constraints=None, learning_rate=0.1,\n",
       "                                 max_delta_step=0, max_depth=9,\n",
       "                                 min_child_weight=1, missing=nan,\n",
       "                                 monotone_constraints=None, n_estimators=1000,\n",
       "                                 n_jobs=4, nthread=4, num_parallel_tree=1,\n",
       "                                 objective='multi:softprob', random_state=0,\n",
       "                                 reg_alpha=0, reg_lambda=1, scale_pos_weight=None,\n",
       "                                 subsample=1, tree_method=None,\n",
       "                                 validate_parameters=False, verbosity=None))],\n",
       "           verbose=False)),\n",
       " (0.989180711346271,\n",
       "  Pipeline(memory=None,\n",
       "           steps=[('addprevnextfeatures',\n",
       "                   <__main__.AddPrevNextFeatures object at 0x7f93b0385ad0>),\n",
       "                  ('xgbclassifier',\n",
       "                   XGBClassifier(base_score=0.5, booster=None,\n",
       "                                 colsample_bylevel=1, colsample_bynode=1,\n",
       "                                 colsample_bytree=1, gamma=0, gpu_id=-1,\n",
       "                                 importance_type='gain',\n",
       "                                 interaction_constraints=None, learning_rate=0.1,\n",
       "                                 max_delta_step=0, max_depth=9,\n",
       "                                 min_child_weight=2, missing=nan,\n",
       "                                 monotone_constraints=None, n_estimators=1000,\n",
       "                                 n_jobs=4, nthread=4, num_parallel_tree=1,\n",
       "                                 objective='multi:softprob', random_state=0,\n",
       "                                 reg_alpha=0, reg_lambda=1, scale_pos_weight=None,\n",
       "                                 subsample=1, tree_method=None,\n",
       "                                 validate_parameters=False, verbosity=None))],\n",
       "           verbose=False)),\n",
       " (0.9888088044798531,\n",
       "  Pipeline(memory=None,\n",
       "           steps=[('addprevnextfeatures',\n",
       "                   <__main__.AddPrevNextFeatures object at 0x7f93b0321650>),\n",
       "                  ('xgbclassifier',\n",
       "                   XGBClassifier(base_score=0.5, booster=None,\n",
       "                                 colsample_bylevel=1, colsample_bynode=1,\n",
       "                                 colsample_bytree=1, gamma=0, gpu_id=-1,\n",
       "                                 importance_type='gain',\n",
       "                                 interaction_constraints=None, learning_rate=0.1,\n",
       "                                 max_delta_step=0, max_depth=9,\n",
       "                                 min_child_weight=3, missing=nan,\n",
       "                                 monotone_constraints=None, n_estimators=1000,\n",
       "                                 n_jobs=4, nthread=4, num_parallel_tree=1,\n",
       "                                 objective='multi:softprob', random_state=0,\n",
       "                                 reg_alpha=0, reg_lambda=1, scale_pos_weight=None,\n",
       "                                 subsample=1, tree_method=None,\n",
       "                                 validate_parameters=False, verbosity=None))],\n",
       "           verbose=False)),\n",
       " (0.9613860633273044,\n",
       "  Pipeline(memory=None,\n",
       "           steps=[('addprevnextfeatures',\n",
       "                   <__main__.AddPrevNextFeatures object at 0x7f93b0364dd0>),\n",
       "                  ('xgbclassifier',\n",
       "                   XGBClassifier(base_score=0.5, booster=None,\n",
       "                                 colsample_bylevel=1, colsample_bynode=1,\n",
       "                                 colsample_bytree=1, gamma=0, gpu_id=-1,\n",
       "                                 importance_type='gain',\n",
       "                                 interaction_constraints=None, learning_rate=0.1,\n",
       "                                 max_delta_step=0, max_depth=9,\n",
       "                                 min_child_weight=4, missing=nan,\n",
       "                                 monotone_constraints=None, n_estimators=1000,\n",
       "                                 n_jobs=4, nthread=4, num_parallel_tree=1,\n",
       "                                 objective='multi:softprob', random_state=0,\n",
       "                                 reg_alpha=0, reg_lambda=1, scale_pos_weight=None,\n",
       "                                 subsample=1, tree_method=None,\n",
       "                                 validate_parameters=False, verbosity=None))],\n",
       "           verbose=False)),\n",
       " (0.961615173113273,\n",
       "  Pipeline(memory=None,\n",
       "           steps=[('addprevnextfeatures',\n",
       "                   <__main__.AddPrevNextFeatures object at 0x7f93b0356650>),\n",
       "                  ('xgbclassifier',\n",
       "                   XGBClassifier(base_score=0.5, booster=None,\n",
       "                                 colsample_bylevel=1, colsample_bynode=1,\n",
       "                                 colsample_bytree=1, gamma=0, gpu_id=-1,\n",
       "                                 importance_type='gain',\n",
       "                                 interaction_constraints=None, learning_rate=0.1,\n",
       "                                 max_delta_step=0, max_depth=9,\n",
       "                                 min_child_weight=5, missing=nan,\n",
       "                                 monotone_constraints=None, n_estimators=1000,\n",
       "                                 n_jobs=4, nthread=4, num_parallel_tree=1,\n",
       "                                 objective='multi:softprob', random_state=0,\n",
       "                                 reg_alpha=0, reg_lambda=1, scale_pos_weight=None,\n",
       "                                 subsample=1, tree_method=None,\n",
       "                                 validate_parameters=False, verbosity=None))],\n",
       "           verbose=False)),\n",
       " (0.9899207278037889,\n",
       "  Pipeline(memory=None,\n",
       "           steps=[('addprevnextfeatures',\n",
       "                   <__main__.AddPrevNextFeatures object at 0x7f93b034f990>),\n",
       "                  ('xgbclassifier',\n",
       "                   XGBClassifier(base_score=0.5, booster=None,\n",
       "                                 colsample_bylevel=1, colsample_bynode=1,\n",
       "                                 colsample_bytree=1, gamma=0.0, gpu_id=-1,\n",
       "                                 importance_type='gain',\n",
       "                                 interaction_constraints=None, learning_rate=0.1,\n",
       "                                 max_delta_step=0, max_depth=7,\n",
       "                                 min_child_weight=2, missing=nan,\n",
       "                                 monotone_constraints=None, n_estimators=1000,\n",
       "                                 n_jobs=4, nthread=4, num_parallel_tree=1,\n",
       "                                 objective='multi:softprob', random_state=0,\n",
       "                                 reg_alpha=0, reg_lambda=1, scale_pos_weight=None,\n",
       "                                 subsample=1, tree_method=None,\n",
       "                                 validate_parameters=False, verbosity=None))],\n",
       "           verbose=False)),\n",
       " (0.9888748640580868,\n",
       "  Pipeline(memory=None,\n",
       "           steps=[('addprevnextfeatures',\n",
       "                   <__main__.AddPrevNextFeatures object at 0x7f93b032ca10>),\n",
       "                  ('xgbclassifier',\n",
       "                   XGBClassifier(base_score=0.5, booster=None,\n",
       "                                 colsample_bylevel=1, colsample_bynode=1,\n",
       "                                 colsample_bytree=1, gamma=0.1, gpu_id=-1,\n",
       "                                 importance_type='gain',\n",
       "                                 interaction_constraints=None, learning_rate=0.1,\n",
       "                                 max_delta_step=0, max_depth=7,\n",
       "                                 min_child_weight=2, missing=nan,\n",
       "                                 monotone_constraints=None, n_estimators=1000,\n",
       "                                 n_jobs=4, nthread=4, num_parallel_tree=1,\n",
       "                                 objective='multi:softprob', random_state=0,\n",
       "                                 reg_alpha=0, reg_lambda=1, scale_pos_weight=None,\n",
       "                                 subsample=1, tree_method=None,\n",
       "                                 validate_parameters=False, verbosity=None))],\n",
       "           verbose=False)),\n",
       " (0.9889381300777792,\n",
       "  Pipeline(memory=None,\n",
       "           steps=[('addprevnextfeatures',\n",
       "                   <__main__.AddPrevNextFeatures object at 0x7f93b02f4890>),\n",
       "                  ('xgbclassifier',\n",
       "                   XGBClassifier(base_score=0.5, booster=None,\n",
       "                                 colsample_bylevel=1, colsample_bynode=1,\n",
       "                                 colsample_bytree=1, gamma=0.2, gpu_id=-1,\n",
       "                                 importance_type='gain',\n",
       "                                 interaction_constraints=None, learning_rate=0.1,\n",
       "                                 max_delta_step=0, max_depth=7,\n",
       "                                 min_child_weight=2, missing=nan,\n",
       "                                 monotone_constraints=None, n_estimators=1000,\n",
       "                                 n_jobs=4, nthread=4, num_parallel_tree=1,\n",
       "                                 objective='multi:softprob', random_state=0,\n",
       "                                 reg_alpha=0, reg_lambda=1, scale_pos_weight=None,\n",
       "                                 subsample=1, tree_method=None,\n",
       "                                 validate_parameters=False, verbosity=None))],\n",
       "           verbose=False)),\n",
       " (0.9620135875176389,\n",
       "  Pipeline(memory=None,\n",
       "           steps=[('addprevnextfeatures',\n",
       "                   <__main__.AddPrevNextFeatures object at 0x7f93b0314610>),\n",
       "                  ('xgbclassifier',\n",
       "                   XGBClassifier(base_score=0.5, booster=None,\n",
       "                                 colsample_bylevel=1, colsample_bynode=1,\n",
       "                                 colsample_bytree=1, gamma=0.3, gpu_id=-1,\n",
       "                                 importance_type='gain',\n",
       "                                 interaction_constraints=None, learning_rate=0.1,\n",
       "                                 max_delta_step=0, max_depth=7,\n",
       "                                 min_child_weight=2, missing=nan,\n",
       "                                 monotone_constraints=None, n_estimators=1000,\n",
       "                                 n_jobs=4, nthread=4, num_parallel_tree=1,\n",
       "                                 objective='multi:softprob', random_state=0,\n",
       "                                 reg_alpha=0, reg_lambda=1, scale_pos_weight=None,\n",
       "                                 subsample=1, tree_method=None,\n",
       "                                 validate_parameters=False, verbosity=None))],\n",
       "           verbose=False)),\n",
       " (0.9611377319869633,\n",
       "  Pipeline(memory=None,\n",
       "           steps=[('addprevnextfeatures',\n",
       "                   <__main__.AddPrevNextFeatures object at 0x7f93b02ec2d0>),\n",
       "                  ('xgbclassifier',\n",
       "                   XGBClassifier(base_score=0.5, booster=None,\n",
       "                                 colsample_bylevel=1, colsample_bynode=1,\n",
       "                                 colsample_bytree=1, gamma=0.4, gpu_id=-1,\n",
       "                                 importance_type='gain',\n",
       "                                 interaction_constraints=None, learning_rate=0.1,\n",
       "                                 max_delta_step=0, max_depth=7,\n",
       "                                 min_child_weight=2, missing=nan,\n",
       "                                 monotone_constraints=None, n_estimators=1000,\n",
       "                                 n_jobs=4, nthread=4, num_parallel_tree=1,\n",
       "                                 objective='multi:softprob', random_state=0,\n",
       "                                 reg_alpha=0, reg_lambda=1, scale_pos_weight=None,\n",
       "                                 subsample=1, tree_method=None,\n",
       "                                 validate_parameters=False, verbosity=None))],\n",
       "           verbose=False)),\n",
       " (0.9614180298447192,\n",
       "  Pipeline(memory=None,\n",
       "           steps=[('addprevnextfeatures',\n",
       "                   <__main__.AddPrevNextFeatures object at 0x7f93b0112c90>),\n",
       "                  ('xgbclassifier',\n",
       "                   XGBClassifier(base_score=0.5, booster=None,\n",
       "                                 colsample_bylevel=1, colsample_bynode=1,\n",
       "                                 colsample_bytree=0.6, gamma=0.0, gpu_id=-1,\n",
       "                                 importance_type='gain',\n",
       "                                 interaction_constraints=None, learning_rate=0.1,\n",
       "                                 max_delta_step=0, max_depth=7,\n",
       "                                 min_child_weight=2, missing=nan,\n",
       "                                 monotone_constraints=None, n_estimators=1000,\n",
       "                                 n_jobs=4, nthread=4, num_parallel_tree=1,\n",
       "                                 objective='multi:softprob', random_state=0,\n",
       "                                 reg_alpha=0, reg_lambda=1, scale_pos_weight=None,\n",
       "                                 subsample=0.6, tree_method=None,\n",
       "                                 validate_parameters=False, verbosity=None))],\n",
       "           verbose=False)),\n",
       " (0.9614372876505244,\n",
       "  Pipeline(memory=None,\n",
       "           steps=[('addprevnextfeatures',\n",
       "                   <__main__.AddPrevNextFeatures object at 0x7f93b0170f10>),\n",
       "                  ('xgbclassifier',\n",
       "                   XGBClassifier(base_score=0.5, booster=None,\n",
       "                                 colsample_bylevel=1, colsample_bynode=1,\n",
       "                                 colsample_bytree=0.7, gamma=0.0, gpu_id=-1,\n",
       "                                 importance_type='gain',\n",
       "                                 interaction_constraints=None, learning_rate=0.1,\n",
       "                                 max_delta_step=0, max_depth=7,\n",
       "                                 min_child_weight=2, missing=nan,\n",
       "                                 monotone_constraints=None, n_estimators=1000,\n",
       "                                 n_jobs=4, nthread=4, num_parallel_tree=1,\n",
       "                                 objective='multi:softprob', random_state=0,\n",
       "                                 reg_alpha=0, reg_lambda=1, scale_pos_weight=None,\n",
       "                                 subsample=0.6, tree_method=None,\n",
       "                                 validate_parameters=False, verbosity=None))],\n",
       "           verbose=False)),\n",
       " (0.9616859033697395,\n",
       "  Pipeline(memory=None,\n",
       "           steps=[('addprevnextfeatures',\n",
       "                   <__main__.AddPrevNextFeatures object at 0x7f93b0332f10>),\n",
       "                  ('xgbclassifier',\n",
       "                   XGBClassifier(base_score=0.5, booster=None,\n",
       "                                 colsample_bylevel=1, colsample_bynode=1,\n",
       "                                 colsample_bytree=0.8, gamma=0.0, gpu_id=-1,\n",
       "                                 importance_type='gain',\n",
       "                                 interaction_constraints=None, learning_rate=0.1,\n",
       "                                 max_delta_step=0, max_depth=7,\n",
       "                                 min_child_weight=2, missing=nan,\n",
       "                                 monotone_constraints=None, n_estimators=1000,\n",
       "                                 n_jobs=4, nthread=4, num_parallel_tree=1,\n",
       "                                 objective='multi:softprob', random_state=0,\n",
       "                                 reg_alpha=0, reg_lambda=1, scale_pos_weight=None,\n",
       "                                 subsample=0.6, tree_method=None,\n",
       "                                 validate_parameters=False, verbosity=None))],\n",
       "           verbose=False)),\n",
       " (0.961492741100597,\n",
       "  Pipeline(memory=None,\n",
       "           steps=[('addprevnextfeatures',\n",
       "                   <__main__.AddPrevNextFeatures object at 0x7f93b00ad390>),\n",
       "                  ('xgbclassifier',\n",
       "                   XGBClassifier(base_score=0.5, booster=None,\n",
       "                                 colsample_bylevel=1, colsample_bynode=1,\n",
       "                                 colsample_bytree=0.9, gamma=0.0, gpu_id=-1,\n",
       "                                 importance_type='gain',\n",
       "                                 interaction_constraints=None, learning_rate=0.1,\n",
       "                                 max_delta_step=0, max_depth=7,\n",
       "                                 min_child_weight=2, missing=nan,\n",
       "                                 monotone_constraints=None, n_estimators=1000,\n",
       "                                 n_jobs=4, nthread=4, num_parallel_tree=1,\n",
       "                                 objective='multi:softprob', random_state=0,\n",
       "                                 reg_alpha=0, reg_lambda=1, scale_pos_weight=None,\n",
       "                                 subsample=0.6, tree_method=None,\n",
       "                                 validate_parameters=False, verbosity=None))],\n",
       "           verbose=False)),\n",
       " (0.9616507830910749,\n",
       "  Pipeline(memory=None,\n",
       "           steps=[('addprevnextfeatures',\n",
       "                   <__main__.AddPrevNextFeatures object at 0x7f93b009f350>),\n",
       "                  ('xgbclassifier',\n",
       "                   XGBClassifier(base_score=0.5, booster=None,\n",
       "                                 colsample_bylevel=1, colsample_bynode=1,\n",
       "                                 colsample_bytree=0.6, gamma=0.0, gpu_id=-1,\n",
       "                                 importance_type='gain',\n",
       "                                 interaction_constraints=None, learning_rate=0.1,\n",
       "                                 max_delta_step=0, max_depth=7,\n",
       "                                 min_child_weight=2, missing=nan,\n",
       "                                 monotone_constraints=None, n_estimators=1000,\n",
       "                                 n_jobs=4, nthread=4, num_parallel_tree=1,\n",
       "                                 objective='multi:softprob', random_state=0,\n",
       "                                 reg_alpha=0, reg_lambda=1, scale_pos_weight=None,\n",
       "                                 subsample=0.7, tree_method=None,\n",
       "                                 validate_parameters=False, verbosity=None))],\n",
       "           verbose=False)),\n",
       " (0.9619302847136445,\n",
       "  Pipeline(memory=None,\n",
       "           steps=[('addprevnextfeatures',\n",
       "                   <__main__.AddPrevNextFeatures object at 0x7f93b00d6690>),\n",
       "                  ('xgbclassifier',\n",
       "                   XGBClassifier(base_score=0.5, booster=None,\n",
       "                                 colsample_bylevel=1, colsample_bynode=1,\n",
       "                                 colsample_bytree=0.7, gamma=0.0, gpu_id=-1,\n",
       "                                 importance_type='gain',\n",
       "                                 interaction_constraints=None, learning_rate=0.1,\n",
       "                                 max_delta_step=0, max_depth=7,\n",
       "                                 min_child_weight=2, missing=nan,\n",
       "                                 monotone_constraints=None, n_estimators=1000,\n",
       "                                 n_jobs=4, nthread=4, num_parallel_tree=1,\n",
       "                                 objective='multi:softprob', random_state=0,\n",
       "                                 reg_alpha=0, reg_lambda=1, scale_pos_weight=None,\n",
       "                                 subsample=0.7, tree_method=None,\n",
       "                                 validate_parameters=False, verbosity=None))],\n",
       "           verbose=False)),\n",
       " (0.962531039456111,\n",
       "  Pipeline(memory=None,\n",
       "           steps=[('addprevnextfeatures',\n",
       "                   <__main__.AddPrevNextFeatures object at 0x7f93b00489d0>),\n",
       "                  ('xgbclassifier',\n",
       "                   XGBClassifier(base_score=0.5, booster=None,\n",
       "                                 colsample_bylevel=1, colsample_bynode=1,\n",
       "                                 colsample_bytree=0.8, gamma=0.0, gpu_id=-1,\n",
       "                                 importance_type='gain',\n",
       "                                 interaction_constraints=None, learning_rate=0.1,\n",
       "                                 max_delta_step=0, max_depth=7,\n",
       "                                 min_child_weight=2, missing=nan,\n",
       "                                 monotone_constraints=None, n_estimators=1000,\n",
       "                                 n_jobs=4, nthread=4, num_parallel_tree=1,\n",
       "                                 objective='multi:softprob', random_state=0,\n",
       "                                 reg_alpha=0, reg_lambda=1, scale_pos_weight=None,\n",
       "                                 subsample=0.7, tree_method=None,\n",
       "                                 validate_parameters=False, verbosity=None))],\n",
       "           verbose=False)),\n",
       " (0.9616155700599119,\n",
       "  Pipeline(memory=None,\n",
       "           steps=[('addprevnextfeatures',\n",
       "                   <__main__.AddPrevNextFeatures object at 0x7f93b0046150>),\n",
       "                  ('xgbclassifier',\n",
       "                   XGBClassifier(base_score=0.5, booster=None,\n",
       "                                 colsample_bylevel=1, colsample_bynode=1,\n",
       "                                 colsample_bytree=0.9, gamma=0.0, gpu_id=-1,\n",
       "                                 importance_type='gain',\n",
       "                                 interaction_constraints=None, learning_rate=0.1,\n",
       "                                 max_delta_step=0, max_depth=7,\n",
       "                                 min_child_weight=2, missing=nan,\n",
       "                                 monotone_constraints=None, n_estimators=1000,\n",
       "                                 n_jobs=4, nthread=4, num_parallel_tree=1,\n",
       "                                 objective='multi:softprob', random_state=0,\n",
       "                                 reg_alpha=0, reg_lambda=1, scale_pos_weight=None,\n",
       "                                 subsample=0.7, tree_method=None,\n",
       "                                 validate_parameters=False, verbosity=None))],\n",
       "           verbose=False)),\n",
       " (0.9613581420275694,\n",
       "  Pipeline(memory=None,\n",
       "           steps=[('addprevnextfeatures',\n",
       "                   <__main__.AddPrevNextFeatures object at 0x7f93b004b890>),\n",
       "                  ('xgbclassifier',\n",
       "                   XGBClassifier(base_score=0.5, booster=None,\n",
       "                                 colsample_bylevel=1, colsample_bynode=1,\n",
       "                                 colsample_bytree=0.6, gamma=0.0, gpu_id=-1,\n",
       "                                 importance_type='gain',\n",
       "                                 interaction_constraints=None, learning_rate=0.1,\n",
       "                                 max_delta_step=0, max_depth=7,\n",
       "                                 min_child_weight=2, missing=nan,\n",
       "                                 monotone_constraints=None, n_estimators=1000,\n",
       "                                 n_jobs=4, nthread=4, num_parallel_tree=1,\n",
       "                                 objective='multi:softprob', random_state=0,\n",
       "                                 reg_alpha=0, reg_lambda=1, scale_pos_weight=None,\n",
       "                                 subsample=0.8, tree_method=None,\n",
       "                                 validate_parameters=False, verbosity=None))],\n",
       "           verbose=False)),\n",
       " (0.9886007192441535,\n",
       "  Pipeline(memory=None,\n",
       "           steps=[('addprevnextfeatures',\n",
       "                   <__main__.AddPrevNextFeatures object at 0x7f93b0021490>),\n",
       "                  ('xgbclassifier',\n",
       "                   XGBClassifier(base_score=0.5, booster=None,\n",
       "                                 colsample_bylevel=1, colsample_bynode=1,\n",
       "                                 colsample_bytree=0.7, gamma=0.0, gpu_id=-1,\n",
       "                                 importance_type='gain',\n",
       "                                 interaction_constraints=None, learning_rate=0.1,\n",
       "                                 max_delta_step=0, max_depth=7,\n",
       "                                 min_child_weight=2, missing=nan,\n",
       "                                 monotone_constraints=None, n_estimators=1000,\n",
       "                                 n_jobs=4, nthread=4, num_parallel_tree=1,\n",
       "                                 objective='multi:softprob', random_state=0,\n",
       "                                 reg_alpha=0, reg_lambda=1, scale_pos_weight=None,\n",
       "                                 subsample=0.8, tree_method=None,\n",
       "                                 validate_parameters=False, verbosity=None))],\n",
       "           verbose=False)),\n",
       " (0.9605055390827891,\n",
       "  Pipeline(memory=None,\n",
       "           steps=[('addprevnextfeatures',\n",
       "                   <__main__.AddPrevNextFeatures object at 0x7f93b002b310>),\n",
       "                  ('xgbclassifier',\n",
       "                   XGBClassifier(base_score=0.5, booster=None,\n",
       "                                 colsample_bylevel=1, colsample_bynode=1,\n",
       "                                 colsample_bytree=0.8, gamma=0.0, gpu_id=-1,\n",
       "                                 importance_type='gain',\n",
       "                                 interaction_constraints=None, learning_rate=0.1,\n",
       "                                 max_delta_step=0, max_depth=7,\n",
       "                                 min_child_weight=2, missing=nan,\n",
       "                                 monotone_constraints=None, n_estimators=1000,\n",
       "                                 n_jobs=4, nthread=4, num_parallel_tree=1,\n",
       "                                 objective='multi:softprob', random_state=0,\n",
       "                                 reg_alpha=0, reg_lambda=1, scale_pos_weight=None,\n",
       "                                 subsample=0.8, tree_method=None,\n",
       "                                 validate_parameters=False, verbosity=None))],\n",
       "           verbose=False)),\n",
       " (0.9882629378945813,\n",
       "  Pipeline(memory=None,\n",
       "           steps=[('addprevnextfeatures',\n",
       "                   <__main__.AddPrevNextFeatures object at 0x7f93b00976d0>),\n",
       "                  ('xgbclassifier',\n",
       "                   XGBClassifier(base_score=0.5, booster=None,\n",
       "                                 colsample_bylevel=1, colsample_bynode=1,\n",
       "                                 colsample_bytree=0.9, gamma=0.0, gpu_id=-1,\n",
       "                                 importance_type='gain',\n",
       "                                 interaction_constraints=None, learning_rate=0.1,\n",
       "                                 max_delta_step=0, max_depth=7,\n",
       "                                 min_child_weight=2, missing=nan,\n",
       "                                 monotone_constraints=None, n_estimators=1000,\n",
       "                                 n_jobs=4, nthread=4, num_parallel_tree=1,\n",
       "                                 objective='multi:softprob', random_state=0,\n",
       "                                 reg_alpha=0, reg_lambda=1, scale_pos_weight=None,\n",
       "                                 subsample=0.8, tree_method=None,\n",
       "                                 validate_parameters=False, verbosity=None))],\n",
       "           verbose=False)),\n",
       " (0.9609546923814537,\n",
       "  Pipeline(memory=None,\n",
       "           steps=[('addprevnextfeatures',\n",
       "                   <__main__.AddPrevNextFeatures object at 0x7f93b0023d50>),\n",
       "                  ('xgbclassifier',\n",
       "                   XGBClassifier(base_score=0.5, booster=None,\n",
       "                                 colsample_bylevel=1, colsample_bynode=1,\n",
       "                                 colsample_bytree=0.6, gamma=0.0, gpu_id=-1,\n",
       "                                 importance_type='gain',\n",
       "                                 interaction_constraints=None, learning_rate=0.1,\n",
       "                                 max_delta_step=0, max_depth=7,\n",
       "                                 min_child_weight=2, missing=nan,\n",
       "                                 monotone_constraints=None, n_estimators=1000,\n",
       "                                 n_jobs=4, nthread=4, num_parallel_tree=1,\n",
       "                                 objective='multi:softprob', random_state=0,\n",
       "                                 reg_alpha=0, reg_lambda=1, scale_pos_weight=None,\n",
       "                                 subsample=0.9, tree_method=None,\n",
       "                                 validate_parameters=False, verbosity=None))],\n",
       "           verbose=False)),\n",
       " (0.961615561712399,\n",
       "  Pipeline(memory=None,\n",
       "           steps=[('addprevnextfeatures',\n",
       "                   <__main__.AddPrevNextFeatures object at 0x7f93b0097e10>),\n",
       "                  ('xgbclassifier',\n",
       "                   XGBClassifier(base_score=0.5, booster=None,\n",
       "                                 colsample_bylevel=1, colsample_bynode=1,\n",
       "                                 colsample_bytree=0.7, gamma=0.0, gpu_id=-1,\n",
       "                                 importance_type='gain',\n",
       "                                 interaction_constraints=None, learning_rate=0.1,\n",
       "                                 max_delta_step=0, max_depth=7,\n",
       "                                 min_child_weight=2, missing=nan,\n",
       "                                 monotone_constraints=None, n_estimators=1000,\n",
       "                                 n_jobs=4, nthread=4, num_parallel_tree=1,\n",
       "                                 objective='multi:softprob', random_state=0,\n",
       "                                 reg_alpha=0, reg_lambda=1, scale_pos_weight=None,\n",
       "                                 subsample=0.9, tree_method=None,\n",
       "                                 validate_parameters=False, verbosity=None))],\n",
       "           verbose=False)),\n",
       " (0.9612535603910137,\n",
       "  Pipeline(memory=None,\n",
       "           steps=[('addprevnextfeatures',\n",
       "                   <__main__.AddPrevNextFeatures object at 0x7f93b0083650>),\n",
       "                  ('xgbclassifier',\n",
       "                   XGBClassifier(base_score=0.5, booster=None,\n",
       "                                 colsample_bylevel=1, colsample_bynode=1,\n",
       "                                 colsample_bytree=0.8, gamma=0.0, gpu_id=-1,\n",
       "                                 importance_type='gain',\n",
       "                                 interaction_constraints=None, learning_rate=0.1,\n",
       "                                 max_delta_step=0, max_depth=7,\n",
       "                                 min_child_weight=2, missing=nan,\n",
       "                                 monotone_constraints=None, n_estimators=1000,\n",
       "                                 n_jobs=4, nthread=4, num_parallel_tree=1,\n",
       "                                 objective='multi:softprob', random_state=0,\n",
       "                                 reg_alpha=0, reg_lambda=1, scale_pos_weight=None,\n",
       "                                 subsample=0.9, tree_method=None,\n",
       "                                 validate_parameters=False, verbosity=None))],\n",
       "           verbose=False)),\n",
       " (0.9890479843164902,\n",
       "  Pipeline(memory=None,\n",
       "           steps=[('addprevnextfeatures',\n",
       "                   <__main__.AddPrevNextFeatures object at 0x7f93b007d250>),\n",
       "                  ('xgbclassifier',\n",
       "                   XGBClassifier(base_score=0.5, booster=None,\n",
       "                                 colsample_bylevel=1, colsample_bynode=1,\n",
       "                                 colsample_bytree=0.9, gamma=0.0, gpu_id=-1,\n",
       "                                 importance_type='gain',\n",
       "                                 interaction_constraints=None, learning_rate=0.1,\n",
       "                                 max_delta_step=0, max_depth=7,\n",
       "                                 min_child_weight=2, missing=nan,\n",
       "                                 monotone_constraints=None, n_estimators=1000,\n",
       "                                 n_jobs=4, nthread=4, num_parallel_tree=1,\n",
       "                                 objective='multi:softprob', random_state=0,\n",
       "                                 reg_alpha=0, reg_lambda=1, scale_pos_weight=None,\n",
       "                                 subsample=0.9, tree_method=None,\n",
       "                                 validate_parameters=False, verbosity=None))],\n",
       "           verbose=False)),\n",
       " (0.9899207278037889,\n",
       "  Pipeline(memory=None,\n",
       "           steps=[('addprevnextfeatures',\n",
       "                   <__main__.AddPrevNextFeatures object at 0x7f93b0068f50>),\n",
       "                  ('xgbclassifier',\n",
       "                   XGBClassifier(base_score=0.5, booster=None,\n",
       "                                 colsample_bylevel=1, colsample_bynode=1,\n",
       "                                 colsample_bytree=1, gamma=0.0, gpu_id=-1,\n",
       "                                 importance_type='gain',\n",
       "                                 interaction_constraints=None, learning_rate=0.1,\n",
       "                                 max_delta_step=0, max_depth=7,\n",
       "                                 min_child_weight=2, missing=nan,\n",
       "                                 monotone_constraints=None, n_estimators=1000,\n",
       "                                 n_jobs=4, nthread=4, num_parallel_tree=1,\n",
       "                                 objective='multi:softprob', random_state=0,\n",
       "                                 reg_alpha=1e-05, reg_lambda=1,\n",
       "                                 scale_pos_weight=None, subsample=1,\n",
       "                                 tree_method=None, validate_parameters=False,\n",
       "                                 verbosity=None))],\n",
       "           verbose=False)),\n",
       " (0.9899519297852334,\n",
       "  Pipeline(memory=None,\n",
       "           steps=[('addprevnextfeatures',\n",
       "                   <__main__.AddPrevNextFeatures object at 0x7f93affe86d0>),\n",
       "                  ('xgbclassifier',\n",
       "                   XGBClassifier(base_score=0.5, booster=None,\n",
       "                                 colsample_bylevel=1, colsample_bynode=1,\n",
       "                                 colsample_bytree=1, gamma=0.0, gpu_id=-1,\n",
       "                                 importance_type='gain',\n",
       "                                 interaction_constraints=None, learning_rate=0.1,\n",
       "                                 max_delta_step=0, max_depth=7,\n",
       "                                 min_child_weight=2, missing=nan,\n",
       "                                 monotone_constraints=None, n_estimators=1000,\n",
       "                                 n_jobs=4, nthread=4, num_parallel_tree=1,\n",
       "                                 objective='multi:softprob', random_state=0,\n",
       "                                 reg_alpha=0.01, reg_lambda=1,\n",
       "                                 scale_pos_weight=None, subsample=1,\n",
       "                                 tree_method=None, validate_parameters=False,\n",
       "                                 verbosity=None))],\n",
       "           verbose=False)),\n",
       " (0.9898891290691165,\n",
       "  Pipeline(memory=None,\n",
       "           steps=[('addprevnextfeatures',\n",
       "                   <__main__.AddPrevNextFeatures object at 0x7f93affe3b10>),\n",
       "                  ('xgbclassifier',\n",
       "                   XGBClassifier(base_score=0.5, booster=None,\n",
       "                                 colsample_bylevel=1, colsample_bynode=1,\n",
       "                                 colsample_bytree=1, gamma=0.0, gpu_id=-1,\n",
       "                                 importance_type='gain',\n",
       "                                 interaction_constraints=None, learning_rate=0.1,\n",
       "                                 max_delta_step=0, max_depth=7,\n",
       "                                 min_child_weight=2, missing=nan,\n",
       "                                 monotone_constraints=None, n_estimators=1000,\n",
       "                                 n_jobs=4, nthread=4, num_parallel_tree=1,\n",
       "                                 objective='multi:softprob', random_state=0,\n",
       "                                 reg_alpha=0.1, reg_lambda=1,\n",
       "                                 scale_pos_weight=None, subsample=1,\n",
       "                                 tree_method=None, validate_parameters=False,\n",
       "                                 verbosity=None))],\n",
       "           verbose=False)),\n",
       " (0.988361168557519,\n",
       "  Pipeline(memory=None,\n",
       "           steps=[('addprevnextfeatures',\n",
       "                   <__main__.AddPrevNextFeatures object at 0x7f93af9440d0>),\n",
       "                  ('xgbclassifier',\n",
       "                   XGBClassifier(base_score=0.5, booster=None,\n",
       "                                 colsample_bylevel=1, colsample_bynode=1,\n",
       "                                 colsample_bytree=1, gamma=0.0, gpu_id=-1,\n",
       "                                 importance_type='gain',\n",
       "                                 interaction_constraints=None, learning_rate=0.1,\n",
       "                                 max_delta_step=0, max_depth=7,\n",
       "                                 min_child_weight=2, missing=nan,\n",
       "                                 monotone_constraints=None, n_estimators=1000,\n",
       "                                 n_jobs=4, nthread=4, num_parallel_tree=1,\n",
       "                                 objective='multi:softprob', random_state=0,\n",
       "                                 reg_alpha=1, reg_lambda=1, scale_pos_weight=None,\n",
       "                                 subsample=1, tree_method=None,\n",
       "                                 validate_parameters=False, verbosity=None))],\n",
       "           verbose=False)),\n",
       " (0.7189169124992633,\n",
       "  Pipeline(memory=None,\n",
       "           steps=[('addprevnextfeatures',\n",
       "                   <__main__.AddPrevNextFeatures object at 0x7f93af95d710>),\n",
       "                  ('xgbclassifier',\n",
       "                   XGBClassifier(base_score=0.5, booster=None,\n",
       "                                 colsample_bylevel=1, colsample_bynode=1,\n",
       "                                 colsample_bytree=1, gamma=0.0, gpu_id=-1,\n",
       "                                 importance_type='gain',\n",
       "                                 interaction_constraints=None, learning_rate=0.1,\n",
       "                                 max_delta_step=0, max_depth=7,\n",
       "                                 min_child_weight=2, missing=nan,\n",
       "                                 monotone_constraints=None, n_estimators=1000,\n",
       "                                 n_jobs=4, nthread=4, num_parallel_tree=1,\n",
       "                                 objective='multi:softprob', random_state=0,\n",
       "                                 reg_alpha=100, reg_lambda=1,\n",
       "                                 scale_pos_weight=None, subsample=1,\n",
       "                                 tree_method=None, validate_parameters=False,\n",
       "                                 verbosity=None))],\n",
       "           verbose=False)),\n",
       " (0.9899207278037889,\n",
       "  Pipeline(memory=None,\n",
       "           steps=[('addprevnextfeatures',\n",
       "                   <__main__.AddPrevNextFeatures object at 0x7f93af94b190>),\n",
       "                  ('xgbclassifier',\n",
       "                   XGBClassifier(base_score=0.5, booster=None,\n",
       "                                 colsample_bylevel=1, colsample_bynode=1,\n",
       "                                 colsample_bytree=1, gamma=0.0, gpu_id=-1,\n",
       "                                 importance_type='gain',\n",
       "                                 interaction_constraints=None, learning_rate=0.1,\n",
       "                                 max_delta_step=0, max_depth=7,\n",
       "                                 min_child_weight=2, missing=nan,\n",
       "                                 monotone_constraints=None, n_estimators=1000,\n",
       "                                 n_jobs=4, nthread=4, num_parallel_tree=1,\n",
       "                                 objective='multi:softprob', random_state=0,\n",
       "                                 reg_alpha=0, reg_lambda=1, scale_pos_weight=None,\n",
       "                                 subsample=1, tree_method=None,\n",
       "                                 validate_parameters=False, verbosity=None))],\n",
       "           verbose=False)),\n",
       " (0.9896094349703998,\n",
       "  Pipeline(memory=None,\n",
       "           steps=[('addprevnextfeatures',\n",
       "                   <__main__.AddPrevNextFeatures object at 0x7f93af95a790>),\n",
       "                  ('xgbclassifier',\n",
       "                   XGBClassifier(base_score=0.5, booster=None,\n",
       "                                 colsample_bylevel=1, colsample_bynode=1,\n",
       "                                 colsample_bytree=1, gamma=0.0, gpu_id=-1,\n",
       "                                 importance_type='gain',\n",
       "                                 interaction_constraints=None, learning_rate=0.1,\n",
       "                                 max_delta_step=0, max_depth=7,\n",
       "                                 min_child_weight=2, missing=nan,\n",
       "                                 monotone_constraints=None, n_estimators=1000,\n",
       "                                 n_jobs=4, nthread=4, num_parallel_tree=1,\n",
       "                                 objective='multi:softprob', random_state=0,\n",
       "                                 reg_alpha=0.001, reg_lambda=1,\n",
       "                                 scale_pos_weight=None, subsample=1,\n",
       "                                 tree_method=None, validate_parameters=False,\n",
       "                                 verbosity=None))],\n",
       "           verbose=False)),\n",
       " (0.9899207278037889,\n",
       "  Pipeline(memory=None,\n",
       "           steps=[('addprevnextfeatures',\n",
       "                   <__main__.AddPrevNextFeatures object at 0x7f93af926750>),\n",
       "                  ('xgbclassifier',\n",
       "                   XGBClassifier(base_score=0.5, booster=None,\n",
       "                                 colsample_bylevel=1, colsample_bynode=1,\n",
       "                                 colsample_bytree=1, gamma=0.0, gpu_id=-1,\n",
       "                                 importance_type='gain',\n",
       "                                 interaction_constraints=None, learning_rate=0.1,\n",
       "                                 max_delta_step=0, max_depth=7,\n",
       "                                 min_child_weight=2, missing=nan,\n",
       "                                 monotone_constraints=None, n_estimators=1000,\n",
       "                                 n_jobs=4, nthread=4, num_parallel_tree=1,\n",
       "                                 objective='multi:softprob', random_state=0,\n",
       "                                 reg_alpha=0.005, reg_lambda=1,\n",
       "                                 scale_pos_weight=None, subsample=1,\n",
       "                                 tree_method=None, validate_parameters=False,\n",
       "                                 verbosity=None))],\n",
       "           verbose=False)),\n",
       " (0.9899519297852334,\n",
       "  Pipeline(memory=None,\n",
       "           steps=[('addprevnextfeatures',\n",
       "                   <__main__.AddPrevNextFeatures object at 0x7f93af90a310>),\n",
       "                  ('xgbclassifier',\n",
       "                   XGBClassifier(base_score=0.5, booster=None,\n",
       "                                 colsample_bylevel=1, colsample_bynode=1,\n",
       "                                 colsample_bytree=1, gamma=0.0, gpu_id=-1,\n",
       "                                 importance_type='gain',\n",
       "                                 interaction_constraints=None, learning_rate=0.1,\n",
       "                                 max_delta_step=0, max_depth=7,\n",
       "                                 min_child_weight=2, missing=nan,\n",
       "                                 monotone_constraints=None, n_estimators=1000,\n",
       "                                 n_jobs=4, nthread=4, num_parallel_tree=1,\n",
       "                                 objective='multi:softprob', random_state=0,\n",
       "                                 reg_alpha=0.01, reg_lambda=1,\n",
       "                                 scale_pos_weight=None, subsample=1,\n",
       "                                 tree_method=None, validate_parameters=False,\n",
       "                                 verbosity=None))],\n",
       "           verbose=False)),\n",
       " (0.9896406369518442,\n",
       "  Pipeline(memory=None,\n",
       "           steps=[('addprevnextfeatures',\n",
       "                   <__main__.AddPrevNextFeatures object at 0x7f93af9314d0>),\n",
       "                  ('xgbclassifier',\n",
       "                   XGBClassifier(base_score=0.5, booster=None,\n",
       "                                 colsample_bylevel=1, colsample_bynode=1,\n",
       "                                 colsample_bytree=1, gamma=0.0, gpu_id=-1,\n",
       "                                 importance_type='gain',\n",
       "                                 interaction_constraints=None, learning_rate=0.1,\n",
       "                                 max_delta_step=0, max_depth=7,\n",
       "                                 min_child_weight=2, missing=nan,\n",
       "                                 monotone_constraints=None, n_estimators=1000,\n",
       "                                 n_jobs=4, nthread=4, num_parallel_tree=1,\n",
       "                                 objective='multi:softprob', random_state=0,\n",
       "                                 reg_alpha=0.05, reg_lambda=1,\n",
       "                                 scale_pos_weight=None, subsample=1,\n",
       "                                 tree_method=None, validate_parameters=False,\n",
       "                                 verbosity=None))],\n",
       "           verbose=False)),\n",
       " (0.9899207278037889,\n",
       "  Pipeline(memory=None,\n",
       "           steps=[('addprevnextfeatures',\n",
       "                   <__main__.AddPrevNextFeatures object at 0x7f93a4089890>),\n",
       "                  ('xgbclassifier',\n",
       "                   XGBClassifier(base_score=0.5, booster=None,\n",
       "                                 colsample_bylevel=1, colsample_bynode=1,\n",
       "                                 colsample_bytree=1, gamma=0.0, gpu_id=-1,\n",
       "                                 importance_type='gain',\n",
       "                                 interaction_constraints=None, learning_rate=0.05,\n",
       "                                 max_delta_step=0, max_depth=7,\n",
       "                                 min_child_weight=2, missing=nan,\n",
       "                                 monotone_constraints=None, n_estimators=1500,\n",
       "                                 n_jobs=4, nthread=4, num_parallel_tree=1,\n",
       "                                 objective='multi:softprob', random_state=0,\n",
       "                                 reg_alpha=0.01, reg_lambda=1,\n",
       "                                 scale_pos_weight=None, subsample=1,\n",
       "                                 tree_method=None, validate_parameters=False,\n",
       "                                 verbosity=None))],\n",
       "           verbose=False)),\n",
       " (0.9899207278037889,\n",
       "  Pipeline(memory=None,\n",
       "           steps=[('addprevnextfeatures',\n",
       "                   <__main__.AddPrevNextFeatures object at 0x7f93a41ba610>),\n",
       "                  ('xgbclassifier',\n",
       "                   XGBClassifier(base_score=0.5, booster=None,\n",
       "                                 colsample_bylevel=1, colsample_bynode=1,\n",
       "                                 colsample_bytree=1, gamma=0.0, gpu_id=-1,\n",
       "                                 importance_type='gain',\n",
       "                                 interaction_constraints=None, learning_rate=0.05,\n",
       "                                 max_delta_step=0, max_depth=7,\n",
       "                                 min_child_weight=2, missing=nan,\n",
       "                                 monotone_constraints=None, n_estimators=1800,\n",
       "                                 n_jobs=4, nthread=4, num_parallel_tree=1,\n",
       "                                 objective='multi:softprob', random_state=0,\n",
       "                                 reg_alpha=0.01, reg_lambda=1,\n",
       "                                 scale_pos_weight=None, subsample=1,\n",
       "                                 tree_method=None, validate_parameters=False,\n",
       "                                 verbosity=None))],\n",
       "           verbose=False)),\n",
       " (0.9899207278037889,\n",
       "  Pipeline(memory=None,\n",
       "           steps=[('addprevnextfeatures',\n",
       "                   <__main__.AddPrevNextFeatures object at 0x7f93a40e3610>),\n",
       "                  ('xgbclassifier',\n",
       "                   XGBClassifier(base_score=0.5, booster=None,\n",
       "                                 colsample_bylevel=1, colsample_bynode=1,\n",
       "                                 colsample_bytree=1, gamma=0.0, gpu_id=-1,\n",
       "                                 importance_type='gain',\n",
       "                                 interaction_constraints=None, learning_rate=0.05,\n",
       "                                 max_delta_step=0, max_depth=7,\n",
       "                                 min_child_weight=2, missing=nan,\n",
       "                                 monotone_constraints=None, n_estimators=2000,\n",
       "                                 n_jobs=4, nthread=4, num_parallel_tree=1,\n",
       "                                 objective='multi:softprob', random_state=0,\n",
       "                                 reg_alpha=0.01, reg_lambda=1,\n",
       "                                 scale_pos_weight=None, subsample=1,\n",
       "                                 tree_method=None, validate_parameters=False,\n",
       "                                 verbosity=None))],\n",
       "           verbose=False)),\n",
       " (0.9889457755044374,\n",
       "  Pipeline(memory=None,\n",
       "           steps=[('addprevnextfeatures',\n",
       "                   <__main__.AddPrevNextFeatures object at 0x7f93a4182850>),\n",
       "                  ('xgbclassifier',\n",
       "                   XGBClassifier(base_score=0.5, booster=None,\n",
       "                                 colsample_bylevel=1, colsample_bynode=1,\n",
       "                                 colsample_bytree=1, gamma=0.0, gpu_id=-1,\n",
       "                                 importance_type='gain',\n",
       "                                 interaction_constraints=None, learning_rate=0.01,\n",
       "                                 max_delta_step=0, max_depth=7,\n",
       "                                 min_child_weight=2, missing=nan,\n",
       "                                 monotone_constraints=None, n_estimators=1500,\n",
       "                                 n_jobs=4, nthread=4, num_parallel_tree=1,\n",
       "                                 objective='multi:softprob', random_state=0,\n",
       "                                 reg_alpha=0.01, reg_lambda=1,\n",
       "                                 scale_pos_weight=None, subsample=1,\n",
       "                                 tree_method=None, validate_parameters=False,\n",
       "                                 verbosity=None))],\n",
       "           verbose=False)),\n",
       " (0.9889775660062098,\n",
       "  Pipeline(memory=None,\n",
       "           steps=[('addprevnextfeatures',\n",
       "                   <__main__.AddPrevNextFeatures object at 0x7f93a41c8150>),\n",
       "                  ('xgbclassifier',\n",
       "                   XGBClassifier(base_score=0.5, booster=None,\n",
       "                                 colsample_bylevel=1, colsample_bynode=1,\n",
       "                                 colsample_bytree=1, gamma=0.0, gpu_id=-1,\n",
       "                                 importance_type='gain',\n",
       "                                 interaction_constraints=None, learning_rate=0.01,\n",
       "                                 max_delta_step=0, max_depth=7,\n",
       "                                 min_child_weight=2, missing=nan,\n",
       "                                 monotone_constraints=None, n_estimators=1800,\n",
       "                                 n_jobs=4, nthread=4, num_parallel_tree=1,\n",
       "                                 objective='multi:softprob', random_state=0,\n",
       "                                 reg_alpha=0.01, reg_lambda=1,\n",
       "                                 scale_pos_weight=None, subsample=1,\n",
       "                                 tree_method=None, validate_parameters=False,\n",
       "                                 verbosity=None))],\n",
       "           verbose=False)),\n",
       " (0.9889775660062098,\n",
       "  Pipeline(memory=None,\n",
       "           steps=[('addprevnextfeatures',\n",
       "                   <__main__.AddPrevNextFeatures object at 0x7f93a42381d0>),\n",
       "                  ('xgbclassifier',\n",
       "                   XGBClassifier(base_score=0.5, booster=None,\n",
       "                                 colsample_bylevel=1, colsample_bynode=1,\n",
       "                                 colsample_bytree=1, gamma=0.0, gpu_id=-1,\n",
       "                                 importance_type='gain',\n",
       "                                 interaction_constraints=None, learning_rate=0.01,\n",
       "                                 max_delta_step=0, max_depth=7,\n",
       "                                 min_child_weight=2, missing=nan,\n",
       "                                 monotone_constraints=None, n_estimators=2000,\n",
       "                                 n_jobs=4, nthread=4, num_parallel_tree=1,\n",
       "                                 objective='multi:softprob', random_state=0,\n",
       "                                 reg_alpha=0.01, reg_lambda=1,\n",
       "                                 scale_pos_weight=None, subsample=1,\n",
       "                                 tree_method=None, validate_parameters=False,\n",
       "                                 verbosity=None))],\n",
       "           verbose=False)),\n",
       " (0.9891031047165235,\n",
       "  Pipeline(memory=None,\n",
       "           steps=[('addprevnextfeatures',\n",
       "                   <__main__.AddPrevNextFeatures object at 0x7f93a422a910>),\n",
       "                  ('xgbclassifier',\n",
       "                   XGBClassifier(base_score=0.5, booster=None,\n",
       "                                 colsample_bylevel=1, colsample_bynode=1,\n",
       "                                 colsample_bytree=1, gamma=0.0, gpu_id=-1,\n",
       "                                 importance_type='gain',\n",
       "                                 interaction_constraints=None,\n",
       "                                 learning_rate=0.005, max_delta_step=0,\n",
       "                                 max_depth=7, min_child_weight=2, missing=nan,\n",
       "                                 monotone_constraints=None, n_estimators=1500,\n",
       "                                 n_jobs=4, nthread=4, num_parallel_tree=1,\n",
       "                                 objective='multi:softprob', random_state=0,\n",
       "                                 reg_alpha=0.01, reg_lambda=1,\n",
       "                                 scale_pos_weight=None, subsample=1,\n",
       "                                 tree_method=None, validate_parameters=False,\n",
       "                                 verbosity=None))],\n",
       "           verbose=False)),\n",
       " (0.9894297905713357,\n",
       "  Pipeline(memory=None,\n",
       "           steps=[('addprevnextfeatures',\n",
       "                   <__main__.AddPrevNextFeatures object at 0x7f93af8b62d0>),\n",
       "                  ('xgbclassifier',\n",
       "                   XGBClassifier(base_score=0.5, booster=None,\n",
       "                                 colsample_bylevel=1, colsample_bynode=1,\n",
       "                                 colsample_bytree=1, gamma=0.0, gpu_id=-1,\n",
       "                                 importance_type='gain',\n",
       "                                 interaction_constraints=None,\n",
       "                                 learning_rate=0.005, max_delta_step=0,\n",
       "                                 max_depth=7, min_child_weight=2, missing=nan,\n",
       "                                 monotone_constraints=None, n_estimators=1800,\n",
       "                                 n_jobs=4, nthread=4, num_parallel_tree=1,\n",
       "                                 objective='multi:softprob', random_state=0,\n",
       "                                 reg_alpha=0.01, reg_lambda=1,\n",
       "                                 scale_pos_weight=None, subsample=1,\n",
       "                                 tree_method=None, validate_parameters=False,\n",
       "                                 verbosity=None))],\n",
       "           verbose=False)),\n",
       " (0.9894615688485991,\n",
       "  Pipeline(memory=None,\n",
       "           steps=[('addprevnextfeatures',\n",
       "                   <__main__.AddPrevNextFeatures object at 0x7f93af818450>),\n",
       "                  ('xgbclassifier',\n",
       "                   XGBClassifier(base_score=0.5, booster=None,\n",
       "                                 colsample_bylevel=1, colsample_bynode=1,\n",
       "                                 colsample_bytree=1, gamma=0.0, gpu_id=-1,\n",
       "                                 importance_type='gain',\n",
       "                                 interaction_constraints=None,\n",
       "                                 learning_rate=0.005, max_delta_step=0,\n",
       "                                 max_depth=7, min_child_weight=2, missing=nan,\n",
       "                                 monotone_constraints=None, n_estimators=2000,\n",
       "                                 n_jobs=4, nthread=4, num_parallel_tree=1,\n",
       "                                 objective='multi:softprob', random_state=0,\n",
       "                                 reg_alpha=0.01, reg_lambda=1,\n",
       "                                 scale_pos_weight=None, subsample=1,\n",
       "                                 tree_method=None, validate_parameters=False,\n",
       "                                 verbosity=None))],\n",
       "           verbose=False))]"
      ]
     },
     "execution_count": 79,
     "metadata": {},
     "output_type": "execute_result"
    }
   ],
   "source": [
    "results"
   ]
  },
  {
   "cell_type": "code",
   "execution_count": 74,
   "metadata": {},
   "outputs": [],
   "source": [
    "res = results.copy()"
   ]
  },
  {
   "cell_type": "code",
   "execution_count": 77,
   "metadata": {},
   "outputs": [],
   "source": [
    "del res[68]"
   ]
  },
  {
   "cell_type": "code",
   "execution_count": 78,
   "metadata": {},
   "outputs": [
    {
     "data": {
      "image/png": "[encoded data removed]",
      "text/plain": [
       "<Figure size 1080x360 with 1 Axes>"
      ]
     },
     "metadata": {
      "needs_background": "light"
     },
     "output_type": "display_data"
    }
   ],
   "source": [
    "y_ = list(map(lambda x: x[0], res))\n",
    "x_ = [i for i in range(len(y_))] \n",
    "plt.figure(figsize=(15, 5))\n",
    "plt.plot(x_, y_)\n",
    "plt.savefig('parameters.png')"
   ]
  },
  {
   "cell_type": "code",
   "execution_count": null,
   "metadata": {},
   "outputs": [],
   "source": []
  }
 ],
 "metadata": {
  "kernelspec": {
   "display_name": "Python 3",
   "language": "python",
   "name": "python3"
  },
  "language_info": {
   "codemirror_mode": {
    "name": "ipython",
    "version": 3
   },
   "file_extension": ".py",
   "mimetype": "text/x-python",
   "name": "python",
   "nbconvert_exporter": "python",
   "pygments_lexer": "ipython3",
   "version": "3.7.6"
  }
 },
 "nbformat": 4,
 "nbformat_minor": 2
}
