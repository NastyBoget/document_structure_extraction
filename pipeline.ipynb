{
 "cells": [
  {
   "cell_type": "markdown",
   "metadata": {},
   "source": [
    "1) parameters tune\n",
    "\n",
    "2) learning curve\n",
    "\n",
    "3) является ли предыдущая строка продолжением следующей - сделать лучше + тесты\n",
    "\n",
    "4) разбить на модули"
   ]
  },
  {
   "cell_type": "code",
   "execution_count": 1,
   "metadata": {},
   "outputs": [],
   "source": [
    "import re\n",
    "import cv2\n",
    "import json\n",
    "import numpy as np\n",
    "from functools import reduce\n",
    "from sklearn.pipeline import make_pipeline\n",
    "from sklearn.model_selection import KFold\n",
    "from sklearn.metrics import f1_score\n",
    "from xgboost import XGBClassifier\n",
    "from tqdm.notebook import tqdm\n",
    "import matplotlib.pyplot as plt\n",
    "from collections import defaultdict\n",
    "import xgbfir\n",
    "from itertools import product\n",
    "from sklearn.utils import shuffle"
   ]
  },
  {
   "cell_type": "code",
   "execution_count": 2,
   "metadata": {},
   "outputs": [],
   "source": [
    "reg_expr = [re.compile(r'\\d+(\\.\\d+)+\\D'), # 1.1.1 1\n",
    "            re.compile(r'\\d+[\\)\\}]'), # 1) 2\n",
    "            re.compile(r'\\w+(\\.\\w+)+\\W'), # 3\n",
    "            re.compile(r'[а-яА-Я\\d]+(\\.[а-яА-Я\\d]+)+\\W'), # b.b.b 4\n",
    "            re.compile(r'[\\wа-яА-Я]\\.\\W'), # b. 5\n",
    "            re.compile(r'[6а-яА-Яa-zA-Z][\\)\\}]'), # б) 6\n",
    "            re.compile(r'\\-|—'), # - 7\n",
    "            re.compile(r'®|\\*'), # * 8\n",
    "            re.compile(r'[a-zа-я]'), # строчная буква в начале 9\n",
    "            re.compile(r'[A-ZА-Я]'),  # заглавная буква в начале 10\n",
    "            re.compile(r'Раздел|Подраздел|Глава|Параграф|Секция|Часть|Статья'), # 11 \n",
    "            re.compile(r'[\\wа-я] ')] # 12\n",
    "\n",
    "def add_reg_features(line):\n",
    "    features = [0] * len(reg_expr)\n",
    "    i = 0\n",
    "    for expr in reg_expr:\n",
    "        match = expr.search(line)\n",
    "    \n",
    "        if match:\n",
    "            if match.start() == 0:\n",
    "                features[i] = 1\n",
    "        i += 1\n",
    "        \n",
    "    return features"
   ]
  },
  {
   "cell_type": "code",
   "execution_count": 3,
   "metadata": {},
   "outputs": [],
   "source": [
    "end_reg_expr = [re.compile(r'.*\\.'),\n",
    "                re.compile(r'.*;'),\n",
    "                re.compile(r'.*:'),\n",
    "                re.compile(r'.*,'),\n",
    "                re.compile(r'.*[\\wа-яА-Я]'),\n",
    "                re.compile(r'[А-ЯA-Z\\.,\\s]+')] # uppercase\n",
    "\n",
    "def add_end_reg_features(line):\n",
    "    features = [0] * len(end_reg_expr)\n",
    "    i = 0\n",
    "    for expr in end_reg_expr:\n",
    "        match = expr.fullmatch(line)\n",
    "        if match:\n",
    "            features[i] = 1\n",
    "        i += 1\n",
    "    return features"
   ]
  },
  {
   "cell_type": "code",
   "execution_count": 4,
   "metadata": {},
   "outputs": [],
   "source": [
    "# 1.1.1 -> 1.1.2\n",
    "# 1) -> 2)\n",
    "# 1. -> 2.\n",
    "# -\n",
    "\n",
    "# unit tests!!!\n",
    "# analyzing previous lines\n",
    "\n",
    "RE_LIST1 = re.compile(r'\\d+(\\.\\d+)+\\D') # 1.1.1\n",
    "RE_LIST2 = re.compile(r'\\d+[\\)\\.]\\s') # 1) 1.\n",
    "RE_LIST3 = re.compile(r'\\-|—') # -\n",
    "RE_LIST4 = re.compile(r'[a-zA-Zа-яА-Я][\\)\\.]\\s') # a)\n",
    "\n",
    "def list_continue(doc_info, line, line_num):\n",
    "    match = RE_LIST1.match(line)\n",
    "    if match:\n",
    "        last_num = int(match.group()[-2])\n",
    "        for i in range(line_num - 1, -1, -1):\n",
    "            doc_line = doc_info[i]['text']\n",
    "            match = RE_LIST1.match(doc_line)\n",
    "            if match:\n",
    "                return last_num == int(match.group()[-2]) + 1\n",
    "        return False\n",
    "    match = RE_LIST2.match(line)\n",
    "    if match:\n",
    "        last_num = int(match.group()[:-2])\n",
    "        for i in range(line_num - 1, -1, -1):\n",
    "            doc_line = doc_info[i]['text']\n",
    "            match = RE_LIST2.match(doc_line)\n",
    "            if match:\n",
    "                return last_num == int(match.group()[:-2]) + 1\n",
    "        return False\n",
    "    match = RE_LIST3.match(line)\n",
    "    if match:\n",
    "        for i in range(line_num - 1, -1, -1):\n",
    "            doc_line = doc_info[i]['text']\n",
    "            match = RE_LIST3.match(doc_line)\n",
    "            if match:\n",
    "                return True\n",
    "        return False\n",
    "    match = RE_LIST4.match(line)\n",
    "    if match:\n",
    "        last_num = ord(match.group()[-2])\n",
    "        for i in range(line_num - 1, -1, -1):\n",
    "            doc_line = doc_info[i]['text']\n",
    "            match = RE_LIST1.match(doc_line)\n",
    "            if match:\n",
    "                return last_num == ord(match.group()[-2]) + 1\n",
    "        return False\n",
    "    return False"
   ]
  },
  {
   "cell_type": "code",
   "execution_count": 5,
   "metadata": {},
   "outputs": [],
   "source": [
    "# font-weight detection\n",
    "\n",
    "def bold_mean_color(bbox, img, d_ksize, e_ksize):\n",
    "    x, y, w, h = bbox\n",
    "    crop_img = img[y:y + h, x:x + w]\n",
    "    kernel = np.ones((d_ksize, d_ksize),np.uint8)\n",
    "    dilation = cv2.dilate(crop_img, kernel, iterations = 1)\n",
    "    kernel = np.ones((e_ksize, e_ksize),np.uint8)\n",
    "    erosion = cv2.erode(dilation, kernel, iterations = 1)\n",
    "    avg_color_per_row = np.average(erosion, axis=0)\n",
    "    avg_color = np.average(avg_color_per_row, axis=0)\n",
    "    return np.average(avg_color)"
   ]
  },
  {
   "cell_type": "code",
   "execution_count": 6,
   "metadata": {},
   "outputs": [],
   "source": [
    "# amount letters of the first word in line\n",
    "\n",
    "RE_WORD = re.compile(r'[a-zA-Zа-яА-Я]+')\n",
    "RE_FIRST = re.compile(r'\\S+\\s')\n",
    "\n",
    "def letters_cnt(line):\n",
    "    res = [0, 0, 0]\n",
    "    match = RE_WORD.search(line)\n",
    "    if match:\n",
    "        if match.start() == 0: # word in the beginning of the line\n",
    "            res[0] = len(match.group(0))\n",
    "    match = RE_FIRST.search(line)\n",
    "    if match:\n",
    "        if match.start() == 0: # some characters in the beginning of the line\n",
    "            res[1] = len(match.group(0))\n",
    "    words = line.split()\n",
    "    if len(words) >= 2:\n",
    "        res[2] = len(words[1])\n",
    "    return res"
   ]
  },
  {
   "cell_type": "code",
   "execution_count": 7,
   "metadata": {},
   "outputs": [],
   "source": [
    "def add_bold_mean_colors(bbox, img, num):\n",
    "    res = []\n",
    "    for i in range(2, num + 1):\n",
    "        res.append(bold_mean_color(bbox, img, i, i ))\n",
    "    return res"
   ]
  },
  {
   "cell_type": "code",
   "execution_count": 8,
   "metadata": {},
   "outputs": [],
   "source": [
    "class AddImgFeatures:\n",
    "    def __init__(self):\n",
    "        pass\n",
    "    \n",
    "    def fit(self):\n",
    "        pass\n",
    "    \n",
    "    def transform(self, X):\n",
    "        \"\"\"\n",
    "        X - [{\"name\": \"doc_name\", \"entities\": [{\"text\": \"\", \"bbox\": []}]}]\n",
    "        returns features\n",
    "        \"\"\"\n",
    "        features = []\n",
    "        for doc in X:\n",
    "            doc_features = []\n",
    "            doc_name = doc['name']\n",
    "            doc_info = doc['entities']\n",
    "            num_bold = 7\n",
    "            img = cv2.imread('docs/' + doc_name)\n",
    "            heigth = img.shape[0]\n",
    "            width = img.shape[1]\n",
    "            i = 0\n",
    "            for line_info in doc_info:\n",
    "                list_cont = list_continue(doc_info, line_info['text'], i) # several different features???\n",
    "                word_cnt = len(line_info['text'].split())\n",
    "                line_length = len(line_info['text'])\n",
    "                \n",
    "                line_features = [line_info['bbox'][0] / width, # left\n",
    "                                 line_info['bbox'][1] / heigth, # top\n",
    "                                 line_info['bbox'][3] / heigth, # height\n",
    "                                 line_length, word_cnt, list_cont] \n",
    "                line_features += add_bold_mean_colors(line_info['bbox'], img, num_bold)\n",
    "                line_features += letters_cnt(line_info['text'])\n",
    "                line_features += add_reg_features(line_info['text'])\n",
    "                line_features += add_end_reg_features(line_info['text'])\n",
    "                doc_features.append(line_features)\n",
    "                i += 1\n",
    "            features.append(doc_features)\n",
    "        return features\n",
    "    \n",
    "    def fit_transform(self, X, y=None):\n",
    "        return self.transform(X)"
   ]
  },
  {
   "cell_type": "code",
   "execution_count": 9,
   "metadata": {},
   "outputs": [],
   "source": [
    "def add_prev_next_features(doc, line_features, num_line):\n",
    "    \"\"\"\n",
    "    doc - list of line_features\n",
    "    line_features - list of features\n",
    "    \"\"\"\n",
    "    add_f = [0] * len(line_features)\n",
    "    extended_doc = [add_f] * 4 + doc + [add_f] * 4\n",
    "    prev_features = reduce(lambda x, y: x + y, \n",
    "                           extended_doc[num_line: num_line + 4])\n",
    "    next_features = reduce(lambda x, y: x + y, \n",
    "                           extended_doc[num_line + 5: num_line + 9])\n",
    "    return line_features + prev_features + next_features"
   ]
  },
  {
   "cell_type": "code",
   "execution_count": 10,
   "metadata": {},
   "outputs": [],
   "source": [
    "class AddPrevNextFeatures:\n",
    "    def __init__(self):\n",
    "        pass\n",
    "    \n",
    "    def fit(self):\n",
    "        pass\n",
    "    \n",
    "    def transform(self, X):\n",
    "        \"\"\"\n",
    "        X - list of doc_features\n",
    "        doc_features - list of line_features\n",
    "        \n",
    "        for each line 4 previous and 4 next features added\n",
    "        result list of lines features\n",
    "        \"\"\"\n",
    "        result = []\n",
    "        for doc_features in X:\n",
    "            i = 0\n",
    "            l = len(doc_features)\n",
    "            mean_left = np.sum(list(map(lambda x: x[0], doc_features))) / l\n",
    "            mean_heigth = np.sum(list(map(lambda x: x[2], doc_features))) / l\n",
    "            mean_line_length = np.sum(list(map(lambda x: x[3], doc_features))) / l\n",
    "            mean_word_cnt = np.sum(list(map(lambda x: x[4], doc_features))) / l\n",
    "            mean_bold_color = np.sum(list(map(lambda x: x[9], doc_features))) / l # bold5\n",
    "            mean_word_letters_cnt = np.sum(list(map(lambda x: x[12], doc_features))) / l \n",
    "            for line_features in doc_features:\n",
    "                new_features = add_prev_next_features(doc_features, line_features, i)\n",
    "                i += 1\n",
    "                new_features += [mean_left, mean_heigth, mean_line_length, \n",
    "                                 mean_word_cnt, mean_bold_color, mean_word_letters_cnt]\n",
    "                result.append(new_features)\n",
    "        return np.array(result)\n",
    "    \n",
    "    def fit_transform(self, X, y=None):\n",
    "        return self.transform(X)"
   ]
  },
  {
   "cell_type": "code",
   "execution_count": 11,
   "metadata": {},
   "outputs": [],
   "source": [
    "label2class = {\n",
    "    \"header\" : 1,\n",
    "    \"list\" : 2,\n",
    "    \"text\" : 3,\n",
    "    \"other\" : 4\n",
    "}\n",
    "\n",
    "with open(\"data.json\", \"r\") as read_file:\n",
    "    docs = json.load(read_file)\n",
    "    y = []\n",
    "    for doc in docs:\n",
    "        elem = [label2class[line['label']] for line in doc['entities']]\n",
    "        y.append(elem)\n",
    "    X = []\n",
    "    for doc in docs:\n",
    "        elem = {}\n",
    "        elem['name'] = doc['name']\n",
    "        elem['entities'] = [{'text': line_info['text'], \n",
    "                        'bbox': [line_info['x'], line_info['y'],\n",
    "                                line_info['width'], line_info['height']]}\n",
    "                      for line_info in doc['entities']]\n",
    "        X.append(elem)\n",
    "    X = np.array(X)\n",
    "    y = np.array(y)"
   ]
  },
  {
   "cell_type": "code",
   "execution_count": 12,
   "metadata": {},
   "outputs": [],
   "source": [
    "aif = AddImgFeatures()\n",
    "X = np.array(aif.transform(X))"
   ]
  },
  {
   "cell_type": "code",
   "execution_count": 13,
   "metadata": {},
   "outputs": [
    {
     "data": {
      "text/plain": [
       "{'memory': None,\n",
       " 'steps': [('addprevnextfeatures',\n",
       "   <__main__.AddPrevNextFeatures at 0x7fdb7f829ed0>),\n",
       "  ('xgbclassifier',\n",
       "   XGBClassifier(base_score=0.5, booster=None, colsample_bylevel=1,\n",
       "                 colsample_bynode=1, colsample_bytree=1, gamma=0.0, gpu_id=-1,\n",
       "                 importance_type='gain', interaction_constraints=None,\n",
       "                 learning_rate=0.1, max_delta_step=0, max_depth=7,\n",
       "                 min_child_weight=2, missing=nan, monotone_constraints=None,\n",
       "                 n_estimators=1000, n_jobs=4, nthread=4, num_parallel_tree=1,\n",
       "                 objective='multi:softprob', random_state=0, reg_alpha=0.01,\n",
       "                 reg_lambda=1, scale_pos_weight=None, subsample=1,\n",
       "                 tree_method=None, validate_parameters=False, verbosity=None))],\n",
       " 'verbose': False,\n",
       " 'addprevnextfeatures': <__main__.AddPrevNextFeatures at 0x7fdb7f829ed0>,\n",
       " 'xgbclassifier': XGBClassifier(base_score=0.5, booster=None, colsample_bylevel=1,\n",
       "               colsample_bynode=1, colsample_bytree=1, gamma=0.0, gpu_id=-1,\n",
       "               importance_type='gain', interaction_constraints=None,\n",
       "               learning_rate=0.1, max_delta_step=0, max_depth=7,\n",
       "               min_child_weight=2, missing=nan, monotone_constraints=None,\n",
       "               n_estimators=1000, n_jobs=4, nthread=4, num_parallel_tree=1,\n",
       "               objective='multi:softprob', random_state=0, reg_alpha=0.01,\n",
       "               reg_lambda=1, scale_pos_weight=None, subsample=1,\n",
       "               tree_method=None, validate_parameters=False, verbosity=None),\n",
       " 'xgbclassifier__objective': 'multi:softprob',\n",
       " 'xgbclassifier__base_score': 0.5,\n",
       " 'xgbclassifier__booster': None,\n",
       " 'xgbclassifier__colsample_bylevel': 1,\n",
       " 'xgbclassifier__colsample_bynode': 1,\n",
       " 'xgbclassifier__colsample_bytree': 1,\n",
       " 'xgbclassifier__gamma': 0.0,\n",
       " 'xgbclassifier__gpu_id': -1,\n",
       " 'xgbclassifier__importance_type': 'gain',\n",
       " 'xgbclassifier__interaction_constraints': None,\n",
       " 'xgbclassifier__learning_rate': 0.1,\n",
       " 'xgbclassifier__max_delta_step': 0,\n",
       " 'xgbclassifier__max_depth': 7,\n",
       " 'xgbclassifier__min_child_weight': 2,\n",
       " 'xgbclassifier__missing': nan,\n",
       " 'xgbclassifier__monotone_constraints': None,\n",
       " 'xgbclassifier__n_estimators': 1000,\n",
       " 'xgbclassifier__n_jobs': 4,\n",
       " 'xgbclassifier__num_parallel_tree': 1,\n",
       " 'xgbclassifier__random_state': 0,\n",
       " 'xgbclassifier__reg_alpha': 0.01,\n",
       " 'xgbclassifier__reg_lambda': 1,\n",
       " 'xgbclassifier__scale_pos_weight': None,\n",
       " 'xgbclassifier__subsample': 1,\n",
       " 'xgbclassifier__tree_method': None,\n",
       " 'xgbclassifier__validate_parameters': False,\n",
       " 'xgbclassifier__verbosity': None,\n",
       " 'xgbclassifier__nthread': 4}"
      ]
     },
     "execution_count": 13,
     "metadata": {},
     "output_type": "execute_result"
    }
   ],
   "source": [
    "import pickle as pkl\n",
    "clf = pkl.load(open(\"res_model.pkl\", \"rb\"))\n",
    "clf.get_params()"
   ]
  },
  {
   "cell_type": "code",
   "execution_count": 14,
   "metadata": {},
   "outputs": [
    {
     "data": {
      "text/plain": [
       "0.9892182528963529"
      ]
     },
     "execution_count": 14,
     "metadata": {},
     "output_type": "execute_result"
    }
   ],
   "source": [
    "model = make_pipeline(AddPrevNextFeatures(),\n",
    "                                  XGBClassifier(\n",
    "                                      learning_rate=0.1,\n",
    "                                      n_estimators=1000,\n",
    "                                      colsample_bytree=1,\n",
    "                                      subsample=1,\n",
    "                                      gamma=0.0,\n",
    "                                      reg_alpha=0.01,\n",
    "                                      min_child_weight=2,\n",
    "                                      max_depth=7\n",
    "                                  ))\n",
    "\n",
    "X, y = shuffle(X, y, random_state=0)\n",
    "X_train, X_test = X[:400], X[400:]\n",
    "y_train = np.array(reduce(lambda x1, x2: x1 + x2, y[:400]))\n",
    "y_test = np.array(reduce(lambda x1, x2: x1 + x2, y[400:]))\n",
    "\n",
    "model.fit(X_train, y_train)\n",
    "\n",
    "y_pred = model.predict(X_test)\n",
    "score = f1_score(y_test, y_pred, average='macro')\n",
    "score"
   ]
  },
  {
   "cell_type": "code",
   "execution_count": 15,
   "metadata": {},
   "outputs": [
    {
     "data": {
      "text/plain": [
       "array([[ 162,    4,    0,    0],\n",
       "       [   8, 1794,    1,    0],\n",
       "       [   1,    2, 5151,    0],\n",
       "       [   0,    0,    0,    2]])"
      ]
     },
     "execution_count": 15,
     "metadata": {},
     "output_type": "execute_result"
    }
   ],
   "source": [
    "from sklearn.metrics import confusion_matrix\n",
    "\n",
    "class2label = {\n",
    "    1: \"Header\", \n",
    "    2: \"List\", \n",
    "    3: \"Text\", \n",
    "    4: \"Other\"\n",
    "}\n",
    "\n",
    "y_test = [class2label[y] for y in y_test]\n",
    "y_pred = [class2label[y] for y in y_pred]\n",
    "\n",
    "confusion_matrix(y_test, y_pred, labels=['Header', 'List', 'Text', 'Other'])"
   ]
  },
  {
   "cell_type": "code",
   "execution_count": 16,
   "metadata": {},
   "outputs": [],
   "source": [
    "def plot_confusion_matrix(cm, classes,\n",
    "                          normalize=False,\n",
    "                          title='Confusion matrix',\n",
    "                          cmap=plt.cm.Blues):\n",
    "    \"\"\"\n",
    "    This function prints and plots the confusion matrix.\n",
    "    Normalization can be applied by setting `normalize=True`.\n",
    "    \"\"\"\n",
    "    import itertools\n",
    "    if normalize:\n",
    "        cm = cm.astype('float') / cm.sum(axis=1)[:, np.newaxis]\n",
    "        print(\"Normalized confusion matrix\")\n",
    "    else:\n",
    "        print('Confusion matrix, without normalization')\n",
    "\n",
    "    print(cm)\n",
    "\n",
    "    plt.imshow(cm, interpolation='nearest', cmap=cmap)\n",
    "    plt.title(title, fontsize=20)\n",
    "    plt.colorbar()\n",
    "    tick_marks = np.arange(len(classes))\n",
    "    plt.xticks(tick_marks, classes, rotation=45, fontsize=20)\n",
    "    plt.yticks(tick_marks, classes, fontsize=20)\n",
    "\n",
    "    fmt = '.2f' if normalize else 'd'\n",
    "    thresh = cm.max() / 2.\n",
    "    for i, j in itertools.product(range(cm.shape[0]), range(cm.shape[1])):\n",
    "        plt.text(j, i, format(cm[i, j], fmt),\n",
    "                 horizontalalignment=\"center\",\n",
    "                 fontsize=20,\n",
    "                 color=\"white\" if cm[i, j] > thresh else \"black\")\n",
    "\n",
    "    plt.ylabel('True label', fontsize=20)\n",
    "    plt.xlabel('Predicted label', fontsize=20)\n",
    "    plt.savefig('conf_matrix.png')"
   ]
  },
  {
   "cell_type": "code",
   "execution_count": 17,
   "metadata": {},
   "outputs": [
    {
     "name": "stdout",
     "output_type": "stream",
     "text": [
      "Confusion matrix, without normalization\n",
      "[[ 162    4    0    0]\n",
      " [   8 1794    1    0]\n",
      " [   1    2 5151    0]\n",
      " [   0    0    0    2]]\n"
     ]
    },
    {
     "data": {
      "image/png": "[encoded data removed]",
      "text/plain": [
       "<Figure size 720x720 with 2 Axes>"
      ]
     },
     "metadata": {
      "needs_background": "light"
     },
     "output_type": "display_data"
    }
   ],
   "source": [
    "cnf_matrix = confusion_matrix(y_test, y_pred, labels=['Header', 'List', 'Text', 'Other'])\n",
    "np.set_printoptions(precision=2)\n",
    "\n",
    "# Plot non-normalized confusion matrix\n",
    "plt.figure(figsize=(10, 10))\n",
    "plot_confusion_matrix(cnf_matrix, classes=['Header', 'List', 'Text', 'Other'],\n",
    "                      title='Confusion matrix, without normalization')"
   ]
  },
  {
   "cell_type": "code",
   "execution_count": null,
   "metadata": {},
   "outputs": [],
   "source": []
  }
 ],
 "metadata": {
  "kernelspec": {
   "display_name": "Python 3",
   "language": "python",
   "name": "python3"
  },
  "language_info": {
   "codemirror_mode": {
    "name": "ipython",
    "version": 3
   },
   "file_extension": ".py",
   "mimetype": "text/x-python",
   "name": "python",
   "nbconvert_exporter": "python",
   "pygments_lexer": "ipython3",
   "version": "3.7.6"
  }
 },
 "nbformat": 4,
 "nbformat_minor": 2
}
