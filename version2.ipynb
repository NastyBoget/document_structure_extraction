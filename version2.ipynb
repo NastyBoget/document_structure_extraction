{
 "cells": [
  {
   "cell_type": "markdown",
   "metadata": {},
   "source": [
    "## Манифест"
   ]
  },
  {
   "cell_type": "markdown",
   "metadata": {},
   "source": [
    "#### 1)Заголовки\n",
    "\n",
    "Как правило, в начале документа идет глобальный заголовок - будем считать его заголовком 0 уровня.\n",
    "\n",
    "Затем могут идти подзаголовки, начинающиеся со слов Глава, Раздел, Секция, Параграф, Статья + нумерация. Это заголовки n-го уровня, в зависимости от нумерации. (Раздел 1 - 1 уровень, Раздел/Подраздел 1.1 - 2 уровень и т. д.). Ограничимся тремя уровнями вложенности.\n",
    "\n",
    "1)Заголовок (может быть в несколько строк)\n",
    "\n",
    "2)Глава/параграф/секция/подзаголовок/раздел + нумерация\n",
    "\n",
    "3)Подглава/подсекция/подпараграф/подраздел + нумерация\n",
    "\n",
    "Могут быть подзаголовки без нумерации и без начальных слов, просто строки текста, выделенные курсивом, подчеркнуты, жирным шрифтом + отступ (???)\n",
    "\n",
    "#### 2)Списки (уровень вложенности?)\n",
    "\n",
    "Будем анализировать технические отчеты и статьи законов - считаем нумерованными списками следующее:\n",
    "\n",
    "1)Вложенные списки с нумерацией 1.1, 1.1.1, и т.д.  - это списки 2, 3 уровня. Выделим такие списки как отдельный класс с неограниченным уровнем вложенности. Уровень таких списков определяется отдельно.\n",
    "\n",
    "2)Списки + уровень вложенности (ограничимся третьим уровнем вложенности)\n",
    "\n",
    "-Строки, начинающиеся с цифр (нумерованные списки) 1. 1) 1\n",
    "\n",
    "-Списки, в которых нумерация ведется с помощью букв а), А), а, А, (a), (A)\n",
    "\n",
    "-Списки маркированные точка, галка, кружок, тире, ромб, квадрат, крестик и т.д.\n",
    "\n",
    "При этом можно учитывать отступ от начала строки и смотреть, продолжается ли нумерация далее\n",
    "Если один список вложен в другой, то его уровень увеличивается\n",
    "\n",
    "Заголовки и элементы списков(?) могут занимать несколько строк, это нужно также уметь как-то определять\n",
    "\n",
    "#### 3)Просто строки\n",
    "\n",
    "### JSON на выходе\n",
    "\n",
    "[ {\"type\": '', \"level\": '', \"content\": ''}, { }, { } ]\n",
    "\n",
    "type - тип строчки - header - 0, list - 1, text - 2\n",
    "\n",
    "level - для заголовков, списков - 1, 2, 3, ...  уровни\n",
    "\n",
    "content - содержимое строчки\n",
    "\n",
    "### Оценка \n",
    "\n",
    "f-мера макро\n",
    "\n",
    "$F_{measure} = \\frac{2*Precision*Recall}{Precision + Recall}$\n",
    "\n",
    "$Precision = \\frac{TP}{TP + FP}$\n",
    "\n",
    "$Recall = \\frac{TP}{TP + FN}$"
   ]
  },
  {
   "cell_type": "markdown",
   "metadata": {},
   "source": [
    "Что делать с английскими буквами? (или римскими цифрами, например)\n",
    "\n",
    "Как извлекать информацию о шрифтах, отступах и т.д.?\n",
    "\n",
    "Насколько сложная структура может быть (насколько сложные и разнообразные документы)? \n",
    "\n",
    "Как оценивать вместе с номером уровня заголовка?\n"
   ]
  },
  {
   "cell_type": "markdown",
   "metadata": {},
   "source": [
    "## Извлечение текста из pdf\n",
    "https://www.severcart.ru/blog/all/tesseract_ocr_python/"
   ]
  },
  {
   "cell_type": "code",
   "execution_count": 1,
   "metadata": {},
   "outputs": [],
   "source": [
    "from pdf2text import pdf2text"
   ]
  },
  {
   "cell_type": "markdown",
   "metadata": {},
   "source": [
    "## Правила для извлечения логической структуры"
   ]
  },
  {
   "cell_type": "code",
   "execution_count": 27,
   "metadata": {},
   "outputs": [],
   "source": [
    "import re\n",
    "RE_LIST = re.compile(r'\\d+(\\.\\d+)*\\D') # для отдельного типа списка"
   ]
  },
  {
   "cell_type": "code",
   "execution_count": 42,
   "metadata": {},
   "outputs": [
    {
     "data": {
      "text/plain": [
       "2"
      ]
     },
     "execution_count": 42,
     "metadata": {},
     "output_type": "execute_result"
    }
   ],
   "source": [
    "match = RE_LIST.match('1.1.1 kljkhg')\n",
    "match.string[match.span()[0]:match.span()[1]].count('.')"
   ]
  },
  {
   "cell_type": "code",
   "execution_count": 25,
   "metadata": {},
   "outputs": [],
   "source": [
    "def list_proc(line):\n",
    "    \"\"\"\n",
    "    если список, возвращает тип и глубину вложенности\n",
    "    \"\"\"\n",
    "    match = RE_LIST.search(line)\n",
    "    if match:\n",
    "        if match.start() == 0:\n",
    "            return 'list', match.string[match.span()[0]:match.span()[1]].count('.') + 1\n",
    "    return"
   ]
  },
  {
   "cell_type": "markdown",
   "metadata": {},
   "source": [
    "pipeline - классификатор, на входе - список строк текста, на выходе - тип строк"
   ]
  },
  {
   "cell_type": "code",
   "execution_count": 57,
   "metadata": {},
   "outputs": [],
   "source": [
    "from sklearn.pipeline import Pipeline, make_pipeline\n",
    "from sklearn.feature_extraction.text import CountVectorizer\n",
    "from sklearn.linear_model import LogisticRegression\n",
    "class string2features:\n",
    "    def __init__(self):\n",
    "        pass\n",
    "    def fit(self):\n",
    "        pass\n",
    "    def predict(self):\n",
    "        pass\n",
    "    def fit_transform(self, X, y):\n",
    "        return self.transform(X)\n",
    "    def transform(self, X):\n",
    "        \"\"\"\n",
    "        X - список строк\n",
    "        \"\"\"\n",
    "        first_words = []\n",
    "        for line in X:\n",
    "            if line.split():\n",
    "                first_words.append(line.split()[0])\n",
    "            else:\n",
    "                first_words.append('')\n",
    "        return first_words\n",
    "\n",
    "ppl = make_pipeline(string2features(), CountVectorizer(token_pattern=r'(?u)\\b\\w+\\b'), LogisticRegression())"
   ]
  },
  {
   "cell_type": "markdown",
   "metadata": {},
   "source": [
    "Извлекаем признаки:\n",
    "смотрим на первое слово в каждой непустой строчке документа -> считаем слова"
   ]
  },
  {
   "cell_type": "code",
   "execution_count": 3,
   "metadata": {},
   "outputs": [
    {
     "data": {
      "text/plain": [
       "['1.',\n",
       " '',\n",
       " '1.1.',\n",
       " 'Доработка',\n",
       " '',\n",
       " 'системы',\n",
       " 'зав.',\n",
       " '',\n",
       " '1.2.',\n",
       " '',\n",
       " '—',\n",
       " '13ДГОЗ',\n",
       " '',\n",
       " '—',\n",
       " 'ное',\n",
       " '',\n",
       " '1.3.',\n",
       " '',\n",
       " '1.4.',\n",
       " '',\n",
       " '2.',\n",
       " '',\n",
       " '2.1.',\n",
       " 'документации',\n",
       " 'пункта',\n",
       " '№802),',\n",
       " 'корабельными',\n",
       " 'ной',\n",
       " 'верное',\n",
       " 'екта,',\n",
       " 'кументации.',\n",
       " '',\n",
       " '2.2.',\n",
       " 'командного',\n",
       " '',\n",
       " '2.3.']"
      ]
     },
     "execution_count": 3,
     "metadata": {},
     "output_type": "execute_result"
    }
   ],
   "source": [
    "import cv2\n",
    "import pytesseract\n",
    "image = cv2.imread('0004.jpeg')\n",
    "text = pytesseract.image_to_string(image, lang='rus') #to_data\n",
    "lines = text.split(sep='\\n')\n",
    "first_words = []\n",
    "for line in lines:\n",
    "    if line.split():\n",
    "        first_words.append(line.split()[0])\n",
    "    else:\n",
    "        first_words.append('')\n",
    "first_words"
   ]
  },
  {
   "cell_type": "markdown",
   "metadata": {},
   "source": [
    "### Разметка\n",
    "\n",
    "вектор ответов \n",
    "\n",
    "1-header -> level\n",
    "\n",
    "2-list -> level \n",
    "\n",
    "3-text\n"
   ]
  },
  {
   "cell_type": "code",
   "execution_count": 7,
   "metadata": {},
   "outputs": [
    {
     "name": "stdout",
     "output_type": "stream",
     "text": [
      "1. Наименование работы и основание для ее выполнения\n",
      "2\n",
      "1\n",
      "\n",
      "3\n",
      "1.1. Наименование работы\n",
      "2\n",
      "2\n",
      "Доработка конструкторской документации интегрированной мостиковой\n",
      "3\n",
      "\n",
      "3\n",
      "системы ходового командного пункта (ИМС ХКП) для заказа 11442М\n",
      "3\n",
      "зав. №802.\n",
      "3\n",
      "\n",
      "3\n",
      "1.2. Основание для выполнения работы:\n",
      "2\n",
      "2\n",
      "\n",
      "3\n",
      "— Государственный контракт на выполнение работ №Р/1/1/0122/ГК-\n",
      "2\n",
      "3\n",
      "13ДГОЗ 2013 г.\n",
      "3\n",
      "\n",
      "3\n",
      "— Тактико-техническое задание модернизации заказа 11442, утвержден-\n",
      "2\n",
      "3\n",
      "ное Министром обороны РФ 6.05.2013 года.\n",
      "3\n",
      "\n",
      "3\n",
      "1.3. Исполнитель —\n",
      "2\n",
      "2\n",
      "\n",
      "3\n",
      "1.4. Заказчик — ОАО «Северное ПКБ», г. Санкт-Петербург.\n",
      "2\n",
      "2\n",
      "\n",
      "3\n",
      "2. Цель выполнения работы, наименование и индекс системы\n",
      "2\n",
      "1\n",
      "\n",
      "3\n",
      "2.1. Целью работы является доработка Исполнителем конструкторской\n",
      "2\n",
      "2\n",
      "документации интегрированной мостиковой системы ходового командного\n",
      "3\n",
      "пункта по техническим условиям ИСПОЛНИТЕЛЯ ддля заказа 11442М (зав.\n",
      "3\n",
      "№802), решение вопросов электрического и конструктивного сопряжения с\n",
      "3\n",
      "корабельными системами, определение состава (комплектации) доработан-\n",
      "3\n",
      "ной аппаратуры для ее установки на заказе, а также обеспечение ОАО «Се-\n",
      "3\n",
      "верное ПКБ» необходимой документацией для разработки технического про-\n",
      "3\n",
      "екта, рабочей конструкторской, приёмо-сдаточной и эксплуатационной до-\n",
      "3\n",
      "кументации.\n",
      "3\n",
      "\n",
      "3\n",
      "2.2. Наименование: Интегрированная мостиковая система ходового\n",
      "2\n",
      "2\n",
      "командного пункта.\n",
      "3\n",
      "\n",
      "3\n",
      "2.3. Индекс: ИМС-11442М.\n",
      "2\n",
      "2\n"
     ]
    },
    {
     "data": {
      "text/plain": [
       "[{'type': 2,\n",
       "  'level': 1,\n",
       "  'content': '1. Наименование работы и основание для ее выполнения'},\n",
       " {'type': 3, 'level': None, 'content': ''},\n",
       " {'type': 2, 'level': 2, 'content': '1.1. Наименование работы'},\n",
       " {'type': 3,\n",
       "  'level': None,\n",
       "  'content': 'Доработка конструкторской документации интегрированной мостиковой'},\n",
       " {'type': 3, 'level': None, 'content': ''},\n",
       " {'type': 3,\n",
       "  'level': None,\n",
       "  'content': 'системы ходового командного пункта (ИМС ХКП) для заказа 11442М'},\n",
       " {'type': 3, 'level': None, 'content': 'зав. №802.'},\n",
       " {'type': 3, 'level': None, 'content': ''},\n",
       " {'type': 2, 'level': 2, 'content': '1.2. Основание для выполнения работы:'},\n",
       " {'type': 3, 'level': None, 'content': ''},\n",
       " {'type': 2,\n",
       "  'level': 3,\n",
       "  'content': '— Государственный контракт на выполнение работ №Р/1/1/0122/ГК-'},\n",
       " {'type': 3, 'level': None, 'content': '13ДГОЗ 2013 г.'},\n",
       " {'type': 3, 'level': None, 'content': ''},\n",
       " {'type': 2,\n",
       "  'level': 3,\n",
       "  'content': '— Тактико-техническое задание модернизации заказа 11442, утвержден-'},\n",
       " {'type': 3,\n",
       "  'level': None,\n",
       "  'content': 'ное Министром обороны РФ 6.05.2013 года.'},\n",
       " {'type': 3, 'level': None, 'content': ''},\n",
       " {'type': 2, 'level': 2, 'content': '1.3. Исполнитель —'},\n",
       " {'type': 3, 'level': None, 'content': ''},\n",
       " {'type': 2,\n",
       "  'level': 2,\n",
       "  'content': '1.4. Заказчик — ОАО «Северное ПКБ», г. Санкт-Петербург.'},\n",
       " {'type': 3, 'level': None, 'content': ''},\n",
       " {'type': 2,\n",
       "  'level': 1,\n",
       "  'content': '2. Цель выполнения работы, наименование и индекс системы'},\n",
       " {'type': 3, 'level': None, 'content': ''},\n",
       " {'type': 2,\n",
       "  'level': 2,\n",
       "  'content': '2.1. Целью работы является доработка Исполнителем конструкторской'},\n",
       " {'type': 3,\n",
       "  'level': None,\n",
       "  'content': 'документации интегрированной мостиковой системы ходового командного'},\n",
       " {'type': 3,\n",
       "  'level': None,\n",
       "  'content': 'пункта по техническим условиям ИСПОЛНИТЕЛЯ ддля заказа 11442М (зав.'},\n",
       " {'type': 3,\n",
       "  'level': None,\n",
       "  'content': '№802), решение вопросов электрического и конструктивного сопряжения с'},\n",
       " {'type': 3,\n",
       "  'level': None,\n",
       "  'content': 'корабельными системами, определение состава (комплектации) доработан-'},\n",
       " {'type': 3,\n",
       "  'level': None,\n",
       "  'content': 'ной аппаратуры для ее установки на заказе, а также обеспечение ОАО «Се-'},\n",
       " {'type': 3,\n",
       "  'level': None,\n",
       "  'content': 'верное ПКБ» необходимой документацией для разработки технического про-'},\n",
       " {'type': 3,\n",
       "  'level': None,\n",
       "  'content': 'екта, рабочей конструкторской, приёмо-сдаточной и эксплуатационной до-'},\n",
       " {'type': 3, 'level': None, 'content': 'кументации.'},\n",
       " {'type': 3, 'level': None, 'content': ''},\n",
       " {'type': 2,\n",
       "  'level': 2,\n",
       "  'content': '2.2. Наименование: Интегрированная мостиковая система ходового'},\n",
       " {'type': 3, 'level': None, 'content': 'командного пункта.'},\n",
       " {'type': 3, 'level': None, 'content': ''},\n",
       " {'type': 2, 'level': 2, 'content': '2.3. Индекс: ИМС-11442М.'}]"
      ]
     },
     "execution_count": 7,
     "metadata": {},
     "output_type": "execute_result"
    }
   ],
   "source": [
    "import json\n",
    "doc_with_labels = []\n",
    "for line in lines:\n",
    "    print(line)\n",
    "    type_ = int(input())\n",
    "    if type_ == 1 or type_ == 2:\n",
    "        level_ = int(input())\n",
    "    else:\n",
    "        level_ = None\n",
    "    doc_with_labels.append({\"type\": type_, \"level\": level_, \"content\": line})\n",
    "with open(\"file_with_labels.json\", \"w\") as write_file:\n",
    "    json.dump(doc_with_labels, write_file, ensure_ascii=False)\n",
    "doc_with_labels"
   ]
  },
  {
   "cell_type": "markdown",
   "metadata": {},
   "source": [
    "Обучаем модель:\n",
    "логистическая регрессия, для каждой строки - тип строки + уровень???\n",
    "\n",
    "как работать с уровнем? строка-название + строка-уровень"
   ]
  },
  {
   "cell_type": "code",
   "execution_count": 54,
   "metadata": {},
   "outputs": [],
   "source": [
    "import json\n",
    "with open(\"file_with_labels.json\", \"r\") as read_file:\n",
    "    doc_with_labels = json.load(read_file)"
   ]
  },
  {
   "cell_type": "code",
   "execution_count": 55,
   "metadata": {},
   "outputs": [
    {
     "data": {
      "text/plain": [
       "(['1. Наименование работы и основание для ее выполнения',\n",
       "  '',\n",
       "  '1.1. Наименование работы',\n",
       "  'Доработка конструкторской документации интегрированной мостиковой',\n",
       "  '',\n",
       "  'системы ходового командного пункта (ИМС ХКП) для заказа 11442М',\n",
       "  'зав. №802.',\n",
       "  '',\n",
       "  '1.2. Основание для выполнения работы:',\n",
       "  '',\n",
       "  '— Государственный контракт на выполнение работ №Р/1/1/0122/ГК-',\n",
       "  '13ДГОЗ 2013 г.',\n",
       "  '',\n",
       "  '— Тактико-техническое задание модернизации заказа 11442, утвержден-',\n",
       "  'ное Министром обороны РФ 6.05.2013 года.',\n",
       "  '',\n",
       "  '1.3. Исполнитель —',\n",
       "  '',\n",
       "  '1.4. Заказчик — ОАО «Северное ПКБ», г. Санкт-Петербург.',\n",
       "  '',\n",
       "  '2. Цель выполнения работы, наименование и индекс системы',\n",
       "  '',\n",
       "  '2.1. Целью работы является доработка Исполнителем конструкторской',\n",
       "  'документации интегрированной мостиковой системы ходового командного',\n",
       "  'пункта по техническим условиям ИСПОЛНИТЕЛЯ ддля заказа 11442М (зав.',\n",
       "  '№802), решение вопросов электрического и конструктивного сопряжения с',\n",
       "  'корабельными системами, определение состава (комплектации) доработан-',\n",
       "  'ной аппаратуры для ее установки на заказе, а также обеспечение ОАО «Се-',\n",
       "  'верное ПКБ» необходимой документацией для разработки технического про-',\n",
       "  'екта, рабочей конструкторской, приёмо-сдаточной и эксплуатационной до-',\n",
       "  'кументации.',\n",
       "  '',\n",
       "  '2.2. Наименование: Интегрированная мостиковая система ходового',\n",
       "  'командного пункта.',\n",
       "  '',\n",
       "  '2.3. Индекс: ИМС-11442М.'],\n",
       " [2,\n",
       "  3,\n",
       "  2,\n",
       "  3,\n",
       "  3,\n",
       "  3,\n",
       "  3,\n",
       "  3,\n",
       "  2,\n",
       "  3,\n",
       "  2,\n",
       "  3,\n",
       "  3,\n",
       "  2,\n",
       "  3,\n",
       "  3,\n",
       "  2,\n",
       "  3,\n",
       "  2,\n",
       "  3,\n",
       "  2,\n",
       "  3,\n",
       "  2,\n",
       "  3,\n",
       "  3,\n",
       "  3,\n",
       "  3,\n",
       "  3,\n",
       "  3,\n",
       "  3,\n",
       "  3,\n",
       "  3,\n",
       "  2,\n",
       "  3,\n",
       "  3,\n",
       "  2])"
      ]
     },
     "execution_count": 55,
     "metadata": {},
     "output_type": "execute_result"
    }
   ],
   "source": [
    "y = [x[\"type\"] for x in doc_with_labels]\n",
    "X = [x[\"content\"] for x in doc_with_labels]\n",
    "X, y"
   ]
  },
  {
   "cell_type": "markdown",
   "metadata": {},
   "source": [
    "Сохраняем и загружаем обученную модель"
   ]
  },
  {
   "cell_type": "code",
   "execution_count": 58,
   "metadata": {},
   "outputs": [
    {
     "name": "stderr",
     "output_type": "stream",
     "text": [
      "/home/nastyboget/anaconda3/lib/python3.7/site-packages/sklearn/linear_model/logistic.py:432: FutureWarning: Default solver will be changed to 'lbfgs' in 0.22. Specify a solver to silence this warning.\n",
      "  FutureWarning)\n"
     ]
    }
   ],
   "source": [
    "import pickle as pkl\n",
    "clf = ppl.fit(X, y)\n",
    "pkl.dump(clf, open(\"model.pkl\", \"wb\"))\n",
    "model = pkl.load(open(\"model.pkl\", \"rb\"))"
   ]
  },
  {
   "cell_type": "markdown",
   "metadata": {},
   "source": [
    "предскажем классы по тем же признакам (разделить трэйн и тест) ??? "
   ]
  },
  {
   "cell_type": "code",
   "execution_count": 60,
   "metadata": {},
   "outputs": [
    {
     "data": {
      "text/plain": [
       "array([2, 3, 2, 3, 3, 3, 3, 3, 2, 3, 3, 3, 3, 3, 3, 3, 2, 3, 2, 3, 2, 3,\n",
       "       2, 3, 3, 3, 3, 3, 3, 3, 3, 3, 2, 3, 3, 2])"
      ]
     },
     "execution_count": 60,
     "metadata": {},
     "output_type": "execute_result"
    }
   ],
   "source": [
    "y_pred = clf.predict(X)\n",
    "y_pred"
   ]
  },
  {
   "cell_type": "markdown",
   "metadata": {},
   "source": [
    "## Оценка"
   ]
  },
  {
   "cell_type": "markdown",
   "metadata": {},
   "source": [
    "пока качество определения уровня заголовка не учитываю и не строю дерево"
   ]
  },
  {
   "cell_type": "code",
   "execution_count": 61,
   "metadata": {},
   "outputs": [
    {
     "data": {
      "text/plain": [
       "0.9307692307692308"
      ]
     },
     "execution_count": 61,
     "metadata": {},
     "output_type": "execute_result"
    }
   ],
   "source": [
    "from sklearn.metrics import f1_score\n",
    "f1_score(y, y_pred, average='macro')"
   ]
  }
 ],
 "metadata": {
  "kernelspec": {
   "display_name": "Python 3",
   "language": "python",
   "name": "python3"
  },
  "language_info": {
   "codemirror_mode": {
    "name": "ipython",
    "version": 3
   },
   "file_extension": ".py",
   "mimetype": "text/x-python",
   "name": "python",
   "nbconvert_exporter": "python",
   "pygments_lexer": "ipython3",
   "version": "3.7.3"
  }
 },
 "nbformat": 4,
 "nbformat_minor": 2
}
