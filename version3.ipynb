{
 "cells": [
  {
   "cell_type": "markdown",
   "metadata": {},
   "source": [
    "## Манифест"
   ]
  },
  {
   "cell_type": "markdown",
   "metadata": {},
   "source": [
    "Как правило, документы имеют логическую структуру: название, разбиение на главы, подглавы и т. д., нумерованные и маркированные списки.\n",
    "Мы занимаемся извлечением структурных элементов из сканированных документов.\n",
    "Выделение такой логической структуры документа может пригодиться для автоматизированного анализа документов. Мы хотим решать эту задачу как задачу классификации, нам нужно для каждой строки текста определить, к какому типу она относится.\n",
    "\n",
    "Выделяются следующие типы:\n",
    "\n",
    "#### 1)Заголовок\n",
    "\n",
    "Название главы, секции, подглавы, параграфа - если название занимает несколько строк, остальные тоже относятся к названию. Заголовок визуально выделяется от основного текста отступом и/или шрифтом и/или жирностью.\n",
    "\n",
    "#### 2)Список\n",
    "\n",
    "Начало нумерованного или маркированного списка - если элемент списка занимает несколько строк - остальные строки не считаем списком. К списку относятся все пронумерованные любым способом строки (если они не выделены жирностью, отступом, шрифтом и относятся к заголовкам).\n",
    "\n",
    "#### 3)Текст\n",
    "\n",
    "Все остальное считается текстом. В том числе, текстом считается пустая строка. Если элементы списков занимают более одной строки, то все строки, кроме первой, считаются текстом.\n",
    "\n",
    "На вход вам будут подаваться строки документов. Вам необходимо для каждой строки документа определить её тип.\n",
    "Необходимо Заголовок пометить цифрой 1, Список - 2, Текст - 3\n",
    "\n",
    "В папке с примерами лежат изображения с правильной разметкой. Красными рамками обведены заголовки, зелёными рамками обведены элементы списков, а синими обведены текстовые блоки. \n",
    "\n",
    "Пример разметки."
   ]
  },
  {
   "cell_type": "markdown",
   "metadata": {},
   "source": [
    "<img width = '600px' src=\"examples/0040_example.jpeg\">"
   ]
  },
  {
   "cell_type": "markdown",
   "metadata": {},
   "source": [
    "### Уровни вложенности\n",
    "\n",
    "#### 1)Заголовки\n",
    "\n",
    "Как правило, в начале документа идет глобальный заголовок - будем считать его заголовком 0 уровня.\n",
    "\n",
    "Затем могут идти подзаголовки, начинающиеся со слов Глава, Раздел, Секция, Параграф, Статья + может присутствовать нумерация. Это заголовки n-го уровня, в зависимости от нумерации. (Раздел 1 - 1 уровень, Раздел/Подраздел 1.1 - 2 уровень и т. д.). Ограничимся тремя уровнями вложенности:\n",
    "\n",
    "0)Заголовок (может быть в несколько строк) (нулевой уровень)\n",
    "\n",
    "1)Глава/параграф/секция/подзаголовок/раздел + нумерация\n",
    "\n",
    "2)Подглава/подсекция/подпараграф/подраздел + нумерация\n",
    "\n",
    "3)Подподглава и т. д. + нумерация\n",
    "\n",
    "Также могут быть подзаголовки без нумерации и без начальных слов - строки текста, выделенные отступом и/или шрифтом и/или жирностью. Нумерация уровней определяется визуально аналогично описанной выше.\n",
    "\n",
    "#### 2)Списки\n",
    "\n",
    "Будем анализировать технические отчеты и статьи законов - считаем нумерованными списками следующее:\n",
    "\n",
    "1)Вложенные списки с нумерацией 1, 1.1, 1.1.1 (и т.д.)  - это списки 1, 2, 3 (и т.д.) уровня. Выделим такие списки как отдельный класс с неограниченным уровнем вложенности. Уровень таких списков определяется отдельно.\n",
    "\n",
    "2)Списки + уровень вложенности (ограничимся третьим уровнем вложенности)\n",
    "\n",
    "-Строки, начинающиеся с цифр (нумерованные списки) 1. 1) 1\n",
    "\n",
    "-Списки, в которых нумерация ведется с помощью букв а), А), а, А, (a), (A)\n",
    "\n",
    "-Списки маркированные точка, галка, кружок, тире, ромб, квадрат, крестик и т.д.\n",
    "\n",
    "Если один список вложен в другой или список относится к блоку текста с заголовком n-го уровня, то уровень вложенности такого списка равен n+1, то есть уровень увеличивается на единицу по сравнению с предыдущим элементом.\n",
    "\n",
    "Заголовки и элементы списков могут занимать несколько строк, при этом каждая строка заголовка считается заголовком, а в элементах списков списком считается только первая строка, остальные строки - текст (но уровень вложенности такой же, как и у списка, к которому относится строка)\n",
    "\n",
    "#### 3)Просто строки \n",
    "\n",
    "Уровень вложенности определяется блоком текста, к которому относится данная строка. Например, если строка - продолжение элемента списка, то ее уровень вложенности соответствует уровню вложенности элемента списка. Если строка располагается после подзаголовка n-го уровня, то ее уровень также равен n."
   ]
  },
  {
   "cell_type": "markdown",
   "metadata": {},
   "source": [
    "### Вопросы на будущее\n",
    "\n",
    "Что делать с английскими буквами? (или римскими цифрами, например)\n",
    "\n",
    "Как извлекать информацию о шрифтах, отступах и т.д.?\n",
    "\n",
    "Насколько сложная структура может быть (насколько сложные и разнообразные документы)? \n",
    "\n",
    "Как оценивать вместе с номером уровня заголовка?\n"
   ]
  },
  {
   "cell_type": "markdown",
   "metadata": {},
   "source": [
    "## Извлечение текста из pdf\n",
    "https://www.severcart.ru/blog/all/tesseract_ocr_python/"
   ]
  },
  {
   "cell_type": "code",
   "execution_count": 1,
   "metadata": {},
   "outputs": [],
   "source": [
    "from pdf2text import pdf2text"
   ]
  },
  {
   "cell_type": "markdown",
   "metadata": {},
   "source": [
    "## Классификация заголовков"
   ]
  },
  {
   "cell_type": "code",
   "execution_count": 2,
   "metadata": {},
   "outputs": [],
   "source": [
    "import re\n",
    "RE_LIST = re.compile(r'\\d+(\\.\\d+)*\\D') # для отдельного типа списка\n",
    "RE_HEADER = re.compile(r'Раздел|Подраздел|Глава|Параграф|Секция|Часть|Статья')"
   ]
  },
  {
   "cell_type": "code",
   "execution_count": null,
   "metadata": {},
   "outputs": [],
   "source": [
    "def list_proc(line):\n",
    "    \"\"\"\n",
    "    если список, возвращает тип и глубину вложенности\n",
    "    \"\"\"\n",
    "    match = RE_LIST.search(line)\n",
    "    if match:\n",
    "        if match.start() == 0:\n",
    "            return 'list', match.string[match.span()[0]:match.span()[1]].count('.') + 1\n",
    "    return"
   ]
  },
  {
   "cell_type": "code",
   "execution_count": 3,
   "metadata": {},
   "outputs": [],
   "source": [
    "class AddFeatures:\n",
    "    def __init__(self):\n",
    "        pass\n",
    "    def fit(self):\n",
    "        pass\n",
    "    def transform(self, X):\n",
    "        \"\"\"\n",
    "        returns 2 columns: 1-list, 2-header\n",
    "        X - list of strings\n",
    "        \"\"\"\n",
    "        features = []\n",
    "        for line in X:\n",
    "            match = RE_LIST.search(line)\n",
    "            if match:\n",
    "                if match.start() == 0:\n",
    "                    features.append([1, 0])\n",
    "                    continue\n",
    "            match = RE_HEADER.search(line)\n",
    "            if match:\n",
    "                if match.start() == 0:\n",
    "                    features.append([0, 1])\n",
    "                    continue\n",
    "            features.append([0, 0])\n",
    "        return features\n",
    "    def fit_transform(self, X, y=None):\n",
    "        return self.transform(X)"
   ]
  },
  {
   "cell_type": "markdown",
   "metadata": {},
   "source": [
    "Извлекаем признаки:\n",
    "смотрим на первое слово в каждой непустой строчке документа -> считаем слова"
   ]
  },
  {
   "cell_type": "code",
   "execution_count": 4,
   "metadata": {},
   "outputs": [],
   "source": [
    "from sklearn.pipeline import Pipeline, make_pipeline, FeatureUnion\n",
    "from sklearn.feature_extraction.text import CountVectorizer\n",
    "from sklearn.linear_model import LogisticRegression\n",
    "from string2features import string2features\n",
    "\n",
    "ppl = make_pipeline(string2features(), \n",
    "                    FeatureUnion([('af', AddFeatures()),\n",
    "                                  ('cv', CountVectorizer(token_pattern=r'(?u)\\b\\w+\\b'))]), \n",
    "                    LogisticRegression())"
   ]
  },
  {
   "cell_type": "markdown",
   "metadata": {},
   "source": [
    "Обучаем модель:\n",
    "логистическая регрессия, для каждой строки - тип строки + уровень???\n",
    "\n",
    "как работать с уровнем? строка-название + строка-уровень"
   ]
  },
  {
   "cell_type": "code",
   "execution_count": 5,
   "metadata": {},
   "outputs": [],
   "source": [
    "import json\n",
    "with open(\"file_train.json\", \"r\") as read_file:\n",
    "    doc_with_labels = json.load(read_file)"
   ]
  },
  {
   "cell_type": "code",
   "execution_count": 6,
   "metadata": {},
   "outputs": [],
   "source": [
    "y = [x[\"type\"] for x in doc_with_labels]\n",
    "X = [x[\"content\"] for x in doc_with_labels]"
   ]
  },
  {
   "cell_type": "markdown",
   "metadata": {},
   "source": [
    "Обучаем и сохраняем обученную модель"
   ]
  },
  {
   "cell_type": "code",
   "execution_count": 7,
   "metadata": {},
   "outputs": [
    {
     "name": "stderr",
     "output_type": "stream",
     "text": [
      "/home/nastyboget/media/anaconda3/lib/python3.7/site-packages/sklearn/linear_model/logistic.py:432: FutureWarning: Default solver will be changed to 'lbfgs' in 0.22. Specify a solver to silence this warning.\n",
      "  FutureWarning)\n",
      "/home/nastyboget/media/anaconda3/lib/python3.7/site-packages/sklearn/linear_model/logistic.py:469: FutureWarning: Default multi_class will be changed to 'auto' in 0.22. Specify the multi_class option to silence this warning.\n",
      "  \"this warning.\", FutureWarning)\n"
     ]
    }
   ],
   "source": [
    "import pickle as pkl\n",
    "clf = ppl.fit(X, y)\n",
    "pkl.dump(clf, open(\"model.pkl\", \"wb\"))"
   ]
  },
  {
   "cell_type": "markdown",
   "metadata": {},
   "source": [
    "Кросс-валидация"
   ]
  },
  {
   "cell_type": "code",
   "execution_count": 8,
   "metadata": {},
   "outputs": [],
   "source": [
    "with open(\"file_with_labels.json\", \"r\") as read_file:\n",
    "    doc_test = json.load(read_file)\n",
    "    y = [x[\"type\"] for x in doc_test]\n",
    "    X = [x[\"content\"] for x in doc_test]"
   ]
  },
  {
   "cell_type": "code",
   "execution_count": 9,
   "metadata": {},
   "outputs": [
    {
     "name": "stderr",
     "output_type": "stream",
     "text": [
      "/home/nastyboget/media/anaconda3/lib/python3.7/site-packages/sklearn/linear_model/logistic.py:432: FutureWarning: Default solver will be changed to 'lbfgs' in 0.22. Specify a solver to silence this warning.\n",
      "  FutureWarning)\n",
      "/home/nastyboget/media/anaconda3/lib/python3.7/site-packages/sklearn/linear_model/logistic.py:469: FutureWarning: Default multi_class will be changed to 'auto' in 0.22. Specify the multi_class option to silence this warning.\n",
      "  \"this warning.\", FutureWarning)\n",
      "/home/nastyboget/media/anaconda3/lib/python3.7/site-packages/sklearn/metrics/classification.py:1437: UndefinedMetricWarning: F-score is ill-defined and being set to 0.0 in labels with no predicted samples.\n",
      "  'precision', 'predicted', average, warn_for)\n",
      "/home/nastyboget/media/anaconda3/lib/python3.7/site-packages/sklearn/linear_model/logistic.py:432: FutureWarning: Default solver will be changed to 'lbfgs' in 0.22. Specify a solver to silence this warning.\n",
      "  FutureWarning)\n",
      "/home/nastyboget/media/anaconda3/lib/python3.7/site-packages/sklearn/linear_model/logistic.py:469: FutureWarning: Default multi_class will be changed to 'auto' in 0.22. Specify the multi_class option to silence this warning.\n",
      "  \"this warning.\", FutureWarning)\n",
      "/home/nastyboget/media/anaconda3/lib/python3.7/site-packages/sklearn/metrics/classification.py:1437: UndefinedMetricWarning: F-score is ill-defined and being set to 0.0 in labels with no predicted samples.\n",
      "  'precision', 'predicted', average, warn_for)\n",
      "/home/nastyboget/media/anaconda3/lib/python3.7/site-packages/sklearn/linear_model/logistic.py:432: FutureWarning: Default solver will be changed to 'lbfgs' in 0.22. Specify a solver to silence this warning.\n",
      "  FutureWarning)\n",
      "/home/nastyboget/media/anaconda3/lib/python3.7/site-packages/sklearn/linear_model/logistic.py:469: FutureWarning: Default multi_class will be changed to 'auto' in 0.22. Specify the multi_class option to silence this warning.\n",
      "  \"this warning.\", FutureWarning)\n",
      "/home/nastyboget/media/anaconda3/lib/python3.7/site-packages/sklearn/metrics/classification.py:1437: UndefinedMetricWarning: F-score is ill-defined and being set to 0.0 in labels with no predicted samples.\n",
      "  'precision', 'predicted', average, warn_for)\n"
     ]
    },
    {
     "data": {
      "text/plain": [
       "{'fit_time': array([0.02383327, 0.02338219, 0.02320027]),\n",
       " 'score_time': array([0.07023168, 0.01454997, 0.00963664]),\n",
       " 'test_score': array([0.59539095, 0.52446103, 0.5210825 ])}"
      ]
     },
     "execution_count": 9,
     "metadata": {},
     "output_type": "execute_result"
    }
   ],
   "source": [
    "from sklearn.model_selection import cross_validate\n",
    "clf = make_pipeline(string2features(), CountVectorizer(token_pattern=r'(?u)\\b\\w+\\b'), LogisticRegression())\n",
    "scores = cross_validate(clf, X, y, cv=3, scoring='f1_macro')\n",
    "scores"
   ]
  },
  {
   "cell_type": "code",
   "execution_count": 10,
   "metadata": {},
   "outputs": [
    {
     "data": {
      "text/plain": [
       "0.546978158505072"
      ]
     },
     "execution_count": 10,
     "metadata": {},
     "output_type": "execute_result"
    }
   ],
   "source": [
    "import numpy as np\n",
    "score = np.mean(scores['test_score'])\n",
    "score"
   ]
  },
  {
   "cell_type": "code",
   "execution_count": null,
   "metadata": {},
   "outputs": [],
   "source": []
  }
 ],
 "metadata": {
  "kernelspec": {
   "display_name": "Python 3",
   "language": "python",
   "name": "python3"
  },
  "language_info": {
   "codemirror_mode": {
    "name": "ipython",
    "version": 3
   },
   "file_extension": ".py",
   "mimetype": "text/x-python",
   "name": "python",
   "nbconvert_exporter": "python",
   "pygments_lexer": "ipython3",
   "version": "3.7.4"
  }
 },
 "nbformat": 4,
 "nbformat_minor": 2
}
