{
 "cells": [
  {
   "cell_type": "markdown",
   "metadata": {},
   "source": [
    "# Разметка\n",
    "\n",
    "1 - заголовок\n",
    "\n",
    "2 - список\n",
    "\n",
    "3 - текст"
   ]
  },
  {
   "cell_type": "code",
   "execution_count": null,
   "metadata": {},
   "outputs": [],
   "source": [
    "import os\n",
    "import cv2\n",
    "import pytesseract\n",
    "import matplotlib.pyplot as plt\n",
    "docs = list(os.walk('docs'))\n",
    "path = docs[0][0]\n",
    "docs = docs[0][2]\n",
    "docs_with_labels = []\n",
    "for doc in docs:\n",
    "    image = cv2.imread(path + '/' + doc)\n",
    "    plt.figure(figsize=(15, 15))\n",
    "    plt.imshow(image)\n",
    "    plt.show()\n",
    "    text = pytesseract.image_to_string(image, lang='rus') #to_data\n",
    "    lines = text.split(sep='\\n')\n",
    "    for line in lines:\n",
    "        print(line)\n",
    "        type_ = 0\n",
    "        while type_ == 0:\n",
    "            try:\n",
    "                type_ = int(input())\n",
    "            except ValueError:\n",
    "                type_ = 0\n",
    "        docs_with_labels.append({\"type\": type_, \"content\": line})"
   ]
  },
  {
   "cell_type": "code",
   "execution_count": null,
   "metadata": {},
   "outputs": [],
   "source": [
    "len(docs_with_labels)"
   ]
  },
  {
   "cell_type": "code",
   "execution_count": null,
   "metadata": {},
   "outputs": [],
   "source": [
    "import json\n",
    "with open(\"file_with_labels.json\", \"w\") as write_file:\n",
    "    json.dump(docs_with_labels[:], write_file, ensure_ascii=False)"
   ]
  },
  {
   "cell_type": "code",
   "execution_count": null,
   "metadata": {},
   "outputs": [],
   "source": [
    "with open(\"file_test.json\", \"w\") as write_file:\n",
    "    json.dump(docs_with_labels[:], write_file, ensure_ascii=False)"
   ]
  }
 ],
 "metadata": {
  "kernelspec": {
   "display_name": "Python 3",
   "language": "python",
   "name": "python3"
  },
  "language_info": {
   "codemirror_mode": {
    "name": "ipython",
    "version": 3
   },
   "file_extension": ".py",
   "mimetype": "text/x-python",
   "name": "python",
   "nbconvert_exporter": "python",
   "pygments_lexer": "ipython3",
   "version": "3.7.3"
  }
 },
 "nbformat": 4,
 "nbformat_minor": 2
}
