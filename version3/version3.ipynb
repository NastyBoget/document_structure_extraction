{
 "cells": [
  {
   "cell_type": "markdown",
   "metadata": {},
   "source": [
    "## Манифест"
   ]
  },
  {
   "cell_type": "markdown",
   "metadata": {},
   "source": [
    "Мы занимаемся извлечением структурных элементов из сканированных документов.\n",
    "\n",
    "Как правило, документы имеют логическую структуру: название, разбиение на главы, подглавы и т. д., нумерованные и маркированные списки.\n",
    "\n",
    "Выделение логической структуры документа может пригодиться для автоматизированного анализа документов.\n",
    "Мы хотим решать эту задачу как задачу классификации, нам нужно для каждой строки текста определить, к какому типу она относится.\n",
    "\n",
    "На вход вам будут подаваться строки документов. Вам необходимо для каждой строки документа определить её тип. Выделяются следующие типы:\n",
    "\n",
    "1)Заголовок\n",
    "\n",
    "Название главы, секции, подглавы, параграфа - если название занимает несколько строк, остальные тоже относятся к названию. Заголовок визуально выделяется от основного текста отступом и/или шрифтом и/или жирностью. \n",
    "\n",
    "2)Список\n",
    "\n",
    "Начало нумерованного или маркированного списка - если элемент списка занимает несколько строк - остальные строки не считаем списком.\n",
    "\n",
    "3)Текст\n",
    "\n",
    "Все остальное считается текстом.\n",
    "\n",
    "Необходимо Заголовок пометить цифрой 1, Список - 2, Текст - 3\n",
    "\n",
    "Примеры разметки:\n",
    "\n",
    "Вход:\n",
    "\n",
    "— — проверка действия автомата аварийного освещения - не реже одного раза в\n",
    "\n",
    "Ответ: 2\n",
    "\n",
    "Вход:\n",
    "\n",
    "месяц;\n",
    "\n",
    "Ответ: 3\n",
    "\n",
    "Вход:\n",
    "\n",
    "10.7.12 Система аварийного электроснабжения\n",
    "\n",
    "Ответ: 2\n",
    "\n",
    "Вход:\n",
    "\n",
    "—  проведение регулярных осмотров оперативным персоналом находящегося\n",
    "\n",
    "Ответ: 2\n",
    "\n",
    "Вход:\n",
    "\n",
    "А.5 Борная кислота\n",
    "\n",
    "Ответ: 2\n",
    "\n",
    "Вход:\n",
    "\n",
    "Слив ядовитых и агрессивных жидкостей должен производить только\n",
    "\n",
    "Ответ: 3\n",
    "\n",
    "Вход:\n",
    "\n",
    "® контроль за выполнением геодезических работ в процессе строительства и\n",
    "\n",
    "Ответ: 2\n",
    "\n",
    "Вход:\n",
    "\n",
    "12 Меры пожарной безопасности при строительстве\n",
    "\n",
    "Ответ: 1\n",
    "\n",
    "Вход: \n",
    "\n",
    "основных зданий и сооружений\n",
    "\n",
    "Ответ: 1\n",
    "\n",
    "\n",
    "### JSON на выходе\n",
    "\n",
    "[ {\"type\": '', \"content\": ''}, { }, { } ]\n",
    "\n",
    "type - тип строчки - header - 1, list - 2, text - 3\n",
    "\n",
    "content - содержимое строчки"
   ]
  },
  {
   "cell_type": "markdown",
   "metadata": {},
   "source": [
    "### На будущее \n",
    "\n",
    "#### 1)Заголовки\n",
    "\n",
    "Как правило, в начале документа идет глобальный заголовок - будем считать его заголовком 0 уровня.\n",
    "\n",
    "Затем могут идти подзаголовки, начинающиеся со слов Глава, Раздел, Секция, Параграф, Статья + нумерация. Это заголовки n-го уровня, в зависимости от нумерации. (Раздел 1 - 1 уровень, Раздел/Подраздел 1.1 - 2 уровень и т. д.). Ограничимся тремя уровнями вложенности.\n",
    "\n",
    "1)Заголовок (может быть в несколько строк)\n",
    "\n",
    "2)Глава/параграф/секция/подзаголовок/раздел + нумерация\n",
    "\n",
    "3)Подглава/подсекция/подпараграф/подраздел + нумерация\n",
    "\n",
    "Могут быть подзаголовки без нумерации и без начальных слов, просто строки текста, выделенные курсивом, подчеркнуты, жирным шрифтом + отступ (???)\n",
    "\n",
    "#### 2)Списки (уровень вложенности?)\n",
    "\n",
    "Будем анализировать технические отчеты и статьи законов - считаем нумерованными списками следующее:\n",
    "\n",
    "1)Вложенные списки с нумерацией 1.1, 1.1.1, и т.д.  - это списки 2, 3 уровня. Выделим такие списки как отдельный класс с неограниченным уровнем вложенности. Уровень таких списков определяется отдельно.\n",
    "\n",
    "2)Списки + уровень вложенности (ограничимся третьим уровнем вложенности)\n",
    "\n",
    "-Строки, начинающиеся с цифр (нумерованные списки) 1. 1) 1\n",
    "\n",
    "-Списки, в которых нумерация ведется с помощью букв а), А), а, А, (a), (A)\n",
    "\n",
    "-Списки маркированные точка, галка, кружок, тире, ромб, квадрат, крестик и т.д.\n",
    "\n",
    "При этом можно учитывать отступ от начала строки и смотреть, продолжается ли нумерация далее\n",
    "Если один список вложен в другой, то его уровень увеличивается\n",
    "\n",
    "Заголовки и элементы списков(?) могут занимать несколько строк, это нужно также уметь как-то определять\n",
    "\n",
    "#### 3)Просто строки"
   ]
  },
  {
   "cell_type": "markdown",
   "metadata": {},
   "source": [
    "Что делать с английскими буквами? (или римскими цифрами, например)\n",
    "\n",
    "Как извлекать информацию о шрифтах, отступах и т.д.?\n",
    "\n",
    "Насколько сложная структура может быть (насколько сложные и разнообразные документы)? \n",
    "\n",
    "Как оценивать вместе с номером уровня заголовка?\n"
   ]
  },
  {
   "cell_type": "markdown",
   "metadata": {},
   "source": [
    "## Извлечение текста из pdf\n",
    "https://www.severcart.ru/blog/all/tesseract_ocr_python/"
   ]
  },
  {
   "cell_type": "code",
   "execution_count": null,
   "metadata": {},
   "outputs": [],
   "source": [
    "from pdf2text import pdf2text"
   ]
  },
  {
   "cell_type": "markdown",
   "metadata": {},
   "source": [
    "## Классификация заголовков"
   ]
  },
  {
   "cell_type": "code",
   "execution_count": null,
   "metadata": {},
   "outputs": [],
   "source": [
    "import re\n",
    "RE_LIST = re.compile(r'\\d+(\\.\\d+)*\\D') # для отдельного типа списка"
   ]
  },
  {
   "cell_type": "code",
   "execution_count": null,
   "metadata": {},
   "outputs": [],
   "source": [
    "def list_proc(line):\n",
    "    \"\"\"\n",
    "    если список, возвращает тип и глубину вложенности\n",
    "    \"\"\"\n",
    "    match = RE_LIST.search(line)\n",
    "    if match:\n",
    "        if match.start() == 0:\n",
    "            return 'list', match.string[match.span()[0]:match.span()[1]].count('.') + 1\n",
    "    return"
   ]
  },
  {
   "cell_type": "markdown",
   "metadata": {},
   "source": [
    "pipeline - классификатор, на входе - список строк текста, на выходе - тип строк"
   ]
  },
  {
   "cell_type": "markdown",
   "metadata": {},
   "source": [
    "Извлекаем признаки:\n",
    "смотрим на первое слово в каждой непустой строчке документа -> считаем слова"
   ]
  },
  {
   "cell_type": "code",
   "execution_count": 1,
   "metadata": {},
   "outputs": [],
   "source": [
    "from sklearn.pipeline import Pipeline, make_pipeline\n",
    "from sklearn.feature_extraction.text import CountVectorizer\n",
    "from sklearn.linear_model import LogisticRegression\n",
    "class string2features:\n",
    "    def __init__(self):\n",
    "        pass\n",
    "    def fit(self):\n",
    "        pass\n",
    "    def predict(self):\n",
    "        pass\n",
    "    def fit_transform(self, X, y):\n",
    "        return self.transform(X)\n",
    "    def transform(self, X):\n",
    "        \"\"\"\n",
    "        X - список строк\n",
    "        \"\"\"\n",
    "        first_words = []\n",
    "        for line in X:\n",
    "            if line.split():\n",
    "                first_words.append(line.split()[0])\n",
    "            else:\n",
    "                first_words.append('')\n",
    "        return first_words\n",
    "\n",
    "ppl = make_pipeline(string2features(), CountVectorizer(token_pattern=r'(?u)\\b\\w+\\b'), LogisticRegression())"
   ]
  },
  {
   "cell_type": "markdown",
   "metadata": {},
   "source": [
    "Обучаем модель:\n",
    "логистическая регрессия, для каждой строки - тип строки + уровень???\n",
    "\n",
    "как работать с уровнем? строка-название + строка-уровень"
   ]
  },
  {
   "cell_type": "code",
   "execution_count": 4,
   "metadata": {},
   "outputs": [],
   "source": [
    "import json\n",
    "with open(\"file_train.json\", \"r\") as read_file:\n",
    "    doc_with_labels = json.load(read_file)"
   ]
  },
  {
   "cell_type": "code",
   "execution_count": 5,
   "metadata": {},
   "outputs": [],
   "source": [
    "y = [x[\"type\"] for x in doc_with_labels]\n",
    "X = [x[\"content\"] for x in doc_with_labels]"
   ]
  },
  {
   "cell_type": "markdown",
   "metadata": {},
   "source": [
    "Обучаем и сохраняем обученную модель"
   ]
  },
  {
   "cell_type": "code",
   "execution_count": 6,
   "metadata": {},
   "outputs": [
    {
     "name": "stderr",
     "output_type": "stream",
     "text": [
      "/home/nastyboget/anaconda3/lib/python3.7/site-packages/sklearn/linear_model/logistic.py:432: FutureWarning: Default solver will be changed to 'lbfgs' in 0.22. Specify a solver to silence this warning.\n",
      "  FutureWarning)\n",
      "/home/nastyboget/anaconda3/lib/python3.7/site-packages/sklearn/linear_model/logistic.py:469: FutureWarning: Default multi_class will be changed to 'auto' in 0.22. Specify the multi_class option to silence this warning.\n",
      "  \"this warning.\", FutureWarning)\n"
     ]
    }
   ],
   "source": [
    "import pickle as pkl\n",
    "clf = ppl.fit(X, y)\n",
    "pkl.dump(clf, open(\"model.pkl\", \"wb\"))"
   ]
  },
  {
   "cell_type": "code",
   "execution_count": null,
   "metadata": {},
   "outputs": [],
   "source": []
  }
 ],
 "metadata": {
  "kernelspec": {
   "display_name": "Python 3",
   "language": "python",
   "name": "python3"
  },
  "language_info": {
   "codemirror_mode": {
    "name": "ipython",
    "version": 3
   },
   "file_extension": ".py",
   "mimetype": "text/x-python",
   "name": "python",
   "nbconvert_exporter": "python",
   "pygments_lexer": "ipython3",
   "version": "3.7.3"
  }
 },
 "nbformat": 4,
 "nbformat_minor": 2
}
